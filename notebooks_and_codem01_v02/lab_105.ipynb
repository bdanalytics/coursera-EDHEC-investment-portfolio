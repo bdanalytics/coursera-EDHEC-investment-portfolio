{
  "nbformat": 4,
  "nbformat_minor": 0,
  "metadata": {
    "kernelspec": {
      "display_name": "Python 3",
      "language": "python",
      "name": "python3"
    },
    "language_info": {
      "codemirror_mode": {
        "name": "ipython",
        "version": 3
      },
      "file_extension": ".py",
      "mimetype": "text/x-python",
      "name": "python",
      "nbconvert_exporter": "python",
      "pygments_lexer": "ipython3",
      "version": "3.7.3"
    },
    "colab": {
      "name": "lab_105.ipynb",
      "provenance": [],
      "collapsed_sections": []
    }
  },
  "cells": [
    {
      "cell_type": "code",
      "metadata": {
        "id": "ipC_JXjjZ9kW",
        "colab_type": "code",
        "colab": {
          "base_uri": "https://localhost:8080/",
          "height": 127
        },
        "outputId": "17e1a8a9-dcb7-40bf-873a-77cc0c24da32"
      },
      "source": [
        "%load_ext autoreload\n",
        "%autoreload 2\n",
        "\n",
        "from google.colab import drive\n",
        "drive.mount('/content/drive')"
      ],
      "execution_count": 1,
      "outputs": [
        {
          "output_type": "stream",
          "text": [
            "Go to this URL in a browser: https://accounts.google.com/o/oauth2/auth?client_id=947318989803-6bn6qk8qdgf4n4g3pfee6491hc0brc4i.apps.googleusercontent.com&redirect_uri=urn%3aietf%3awg%3aoauth%3a2.0%3aoob&response_type=code&scope=email%20https%3a%2f%2fwww.googleapis.com%2fauth%2fdocs.test%20https%3a%2f%2fwww.googleapis.com%2fauth%2fdrive%20https%3a%2f%2fwww.googleapis.com%2fauth%2fdrive.photos.readonly%20https%3a%2f%2fwww.googleapis.com%2fauth%2fpeopleapi.readonly\n",
            "\n",
            "Enter your authorization code:\n",
            "··········\n",
            "Mounted at /content/drive\n"
          ],
          "name": "stdout"
        }
      ]
    },
    {
      "cell_type": "code",
      "metadata": {
        "id": "FDNjV5-3aRXV",
        "colab_type": "code",
        "colab": {
          "base_uri": "https://localhost:8080/",
          "height": 88
        },
        "outputId": "ff1c7b9e-04c1-4f01-f067-3ebb678913b8"
      },
      "source": [
        "import os, sys\n",
        "\n",
        "DATAPATH = '/content/drive/My Drive/Coursera/EDHEC/investment-portfolio/data'\n",
        "print(f\"DATAPATH:{DATAPATH} contents:{os.listdir(DATAPATH)}\")\n",
        "\n",
        "MODULEPATH = '/content/drive/My Drive/Coursera/EDHEC/investment-portfolio/nb'\n",
        "print(f\"MODULEPATH:{MODULEPATH} contents:{os.listdir(MODULEPATH)}\")\n",
        "\n",
        "sys.path.append(MODULEPATH)\n",
        "print(f\"sys.path:{sys.path}\")"
      ],
      "execution_count": 2,
      "outputs": [
        {
          "output_type": "stream",
          "text": [
            "DATAPATH:/content/drive/My Drive/Coursera/EDHEC/investment-portfolio/data contents:['sample_prices.csv', 'Portfolios_Formed_on_ME_monthly_EW.csv']\n",
            "MODULEPATH:/content/drive/My Drive/Coursera/EDHEC/investment-portfolio/nb contents:['lab_101.ipynb', 'lab_102.ipynb', 'lab_103.ipynb', 'hello.py', '__pycache__', 'edhec_risk_kit_104_BBI.py', 'lab_104.ipynb', 'edhec_risk_kit_105_BBI.py', 'lab_105.ipynb']\n",
            "sys.path:['', '/env/python', '/usr/lib/python36.zip', '/usr/lib/python3.6', '/usr/lib/python3.6/lib-dynload', '/usr/local/lib/python3.6/dist-packages', '/usr/lib/python3/dist-packages', '/usr/local/lib/python3.6/dist-packages/IPython/extensions', '/root/.ipython', '/content/drive/My Drive/Coursera/EDHEC/investment-portfolio/nb']\n"
          ],
          "name": "stdout"
        }
      ]
    },
    {
      "cell_type": "markdown",
      "metadata": {
        "id": "LjJOhEVCZpD7",
        "colab_type": "text"
      },
      "source": [
        "# Deviations from Normality\n",
        "\n",
        "_(plus python functions with default parameters plus a quick example of recursive functions)_\n",
        "\n",
        "Today, we'll develop the code for skewness and kurtosis even though these are already available in the `scipy.stats` module, and then we'll apply them to hedge fund index returns.\n",
        "\n",
        "We'll also look at using `scipy.stats` module to apply the _Jarque-Bera_ test for normality, and apply them to different return series.\n",
        "\n",
        "First, add the following code to our `edhec_risk_kit.py`\n",
        "\n",
        "```python\n",
        "def get_hfi_returns():\n",
        "    \"\"\"\n",
        "    Load and format the EDHEC Hedge Fund Index Returns\n",
        "    \"\"\"\n",
        "    hfi = pd.read_csv(\"data/edhec-hedgefundindices.csv\",\n",
        "                      header=0, index_col=0, parse_dates=True)\n",
        "    hfi = hfi/100\n",
        "    hfi.index = hfi.index.to_period('M')\n",
        "    return hfi\n",
        "```\n"
      ]
    },
    {
      "cell_type": "code",
      "metadata": {
        "id": "fcDFGk_NZpEA",
        "colab_type": "code",
        "colab": {
          "base_uri": "https://localhost:8080/",
          "height": 413
        },
        "outputId": "cd96bbf4-c00f-47a3-de2c-d094b9e4a76f"
      },
      "source": [
        "%load_ext autoreload\n",
        "%autoreload 2\n",
        "\n",
        "import pandas as pd\n",
        "import edhec_risk_kit_105_BBI as erk\n",
        "hfi = erk.get_hfi_returns(DATAPATH)\n",
        "hfi.head()"
      ],
      "execution_count": 6,
      "outputs": [
        {
          "output_type": "stream",
          "text": [
            "The autoreload extension is already loaded. To reload it, use:\n",
            "  %reload_ext autoreload\n"
          ],
          "name": "stdout"
        },
        {
          "output_type": "execute_result",
          "data": {
            "text/html": [
              "<div>\n",
              "<style scoped>\n",
              "    .dataframe tbody tr th:only-of-type {\n",
              "        vertical-align: middle;\n",
              "    }\n",
              "\n",
              "    .dataframe tbody tr th {\n",
              "        vertical-align: top;\n",
              "    }\n",
              "\n",
              "    .dataframe thead th {\n",
              "        text-align: right;\n",
              "    }\n",
              "</style>\n",
              "<table border=\"1\" class=\"dataframe\">\n",
              "  <thead>\n",
              "    <tr style=\"text-align: right;\">\n",
              "      <th></th>\n",
              "      <th>Convertible Arbitrage</th>\n",
              "      <th>CTA Global</th>\n",
              "      <th>Distressed Securities</th>\n",
              "      <th>Emerging Markets</th>\n",
              "      <th>Equity Market Neutral</th>\n",
              "      <th>Event Driven</th>\n",
              "      <th>Fixed Income Arbitrage</th>\n",
              "      <th>Global Macro</th>\n",
              "      <th>Long/Short Equity</th>\n",
              "      <th>Merger Arbitrage</th>\n",
              "      <th>Relative Value</th>\n",
              "      <th>Short Selling</th>\n",
              "      <th>Funds Of Funds</th>\n",
              "    </tr>\n",
              "    <tr>\n",
              "      <th>date</th>\n",
              "      <th></th>\n",
              "      <th></th>\n",
              "      <th></th>\n",
              "      <th></th>\n",
              "      <th></th>\n",
              "      <th></th>\n",
              "      <th></th>\n",
              "      <th></th>\n",
              "      <th></th>\n",
              "      <th></th>\n",
              "      <th></th>\n",
              "      <th></th>\n",
              "      <th></th>\n",
              "    </tr>\n",
              "  </thead>\n",
              "  <tbody>\n",
              "    <tr>\n",
              "      <th>1997-01</th>\n",
              "      <td>0.0119</td>\n",
              "      <td>0.0393</td>\n",
              "      <td>0.0178</td>\n",
              "      <td>0.0791</td>\n",
              "      <td>0.0189</td>\n",
              "      <td>0.0213</td>\n",
              "      <td>0.0191</td>\n",
              "      <td>0.0573</td>\n",
              "      <td>0.0281</td>\n",
              "      <td>0.0150</td>\n",
              "      <td>0.0180</td>\n",
              "      <td>-0.0166</td>\n",
              "      <td>0.0317</td>\n",
              "    </tr>\n",
              "    <tr>\n",
              "      <th>1997-02</th>\n",
              "      <td>0.0123</td>\n",
              "      <td>0.0298</td>\n",
              "      <td>0.0122</td>\n",
              "      <td>0.0525</td>\n",
              "      <td>0.0101</td>\n",
              "      <td>0.0084</td>\n",
              "      <td>0.0122</td>\n",
              "      <td>0.0175</td>\n",
              "      <td>-0.0006</td>\n",
              "      <td>0.0034</td>\n",
              "      <td>0.0118</td>\n",
              "      <td>0.0426</td>\n",
              "      <td>0.0106</td>\n",
              "    </tr>\n",
              "    <tr>\n",
              "      <th>1997-03</th>\n",
              "      <td>0.0078</td>\n",
              "      <td>-0.0021</td>\n",
              "      <td>-0.0012</td>\n",
              "      <td>-0.0120</td>\n",
              "      <td>0.0016</td>\n",
              "      <td>-0.0023</td>\n",
              "      <td>0.0109</td>\n",
              "      <td>-0.0119</td>\n",
              "      <td>-0.0084</td>\n",
              "      <td>0.0060</td>\n",
              "      <td>0.0010</td>\n",
              "      <td>0.0778</td>\n",
              "      <td>-0.0077</td>\n",
              "    </tr>\n",
              "    <tr>\n",
              "      <th>1997-04</th>\n",
              "      <td>0.0086</td>\n",
              "      <td>-0.0170</td>\n",
              "      <td>0.0030</td>\n",
              "      <td>0.0119</td>\n",
              "      <td>0.0119</td>\n",
              "      <td>-0.0005</td>\n",
              "      <td>0.0130</td>\n",
              "      <td>0.0172</td>\n",
              "      <td>0.0084</td>\n",
              "      <td>-0.0001</td>\n",
              "      <td>0.0122</td>\n",
              "      <td>-0.0129</td>\n",
              "      <td>0.0009</td>\n",
              "    </tr>\n",
              "    <tr>\n",
              "      <th>1997-05</th>\n",
              "      <td>0.0156</td>\n",
              "      <td>-0.0015</td>\n",
              "      <td>0.0233</td>\n",
              "      <td>0.0315</td>\n",
              "      <td>0.0189</td>\n",
              "      <td>0.0346</td>\n",
              "      <td>0.0118</td>\n",
              "      <td>0.0108</td>\n",
              "      <td>0.0394</td>\n",
              "      <td>0.0197</td>\n",
              "      <td>0.0173</td>\n",
              "      <td>-0.0737</td>\n",
              "      <td>0.0275</td>\n",
              "    </tr>\n",
              "  </tbody>\n",
              "</table>\n",
              "</div>"
            ],
            "text/plain": [
              "         Convertible Arbitrage  CTA Global  ...  Short Selling  Funds Of Funds\n",
              "date                                        ...                               \n",
              "1997-01                 0.0119      0.0393  ...        -0.0166          0.0317\n",
              "1997-02                 0.0123      0.0298  ...         0.0426          0.0106\n",
              "1997-03                 0.0078     -0.0021  ...         0.0778         -0.0077\n",
              "1997-04                 0.0086     -0.0170  ...        -0.0129          0.0009\n",
              "1997-05                 0.0156     -0.0015  ...        -0.0737          0.0275\n",
              "\n",
              "[5 rows x 13 columns]"
            ]
          },
          "metadata": {
            "tags": []
          },
          "execution_count": 6
        }
      ]
    },
    {
      "cell_type": "markdown",
      "metadata": {
        "id": "-bKsqvFRZpEa",
        "colab_type": "text"
      },
      "source": [
        "## Skewness\n",
        "\n",
        "Intuitively, a negative skew means that you get more negative returns than you would have expected if the returns were distributed like the normal distribution.\n",
        "\n",
        "Another way of thinking about it is if that returns are normally distributed, the mean and the median would be very close.\n",
        "\n",
        "However, if they are negatively skewed, the expected value i.e. the mean is less than the median. If they are positively skewed, the expected value (again, the mean) is greater than the median."
      ]
    },
    {
      "cell_type": "code",
      "metadata": {
        "id": "8EVohbYzZpEc",
        "colab_type": "code",
        "colab": {},
        "outputId": "34d30e2e-329b-4f51-dc15-482ca69fe063"
      },
      "source": [
        "pd.concat([hfi.mean(), hfi.median(), hfi.mean()>hfi.median()], axis=1)"
      ],
      "execution_count": 0,
      "outputs": [
        {
          "output_type": "execute_result",
          "data": {
            "text/html": [
              "<div>\n",
              "<style scoped>\n",
              "    .dataframe tbody tr th:only-of-type {\n",
              "        vertical-align: middle;\n",
              "    }\n",
              "\n",
              "    .dataframe tbody tr th {\n",
              "        vertical-align: top;\n",
              "    }\n",
              "\n",
              "    .dataframe thead th {\n",
              "        text-align: right;\n",
              "    }\n",
              "</style>\n",
              "<table border=\"1\" class=\"dataframe\">\n",
              "  <thead>\n",
              "    <tr style=\"text-align: right;\">\n",
              "      <th></th>\n",
              "      <th>0</th>\n",
              "      <th>1</th>\n",
              "      <th>2</th>\n",
              "    </tr>\n",
              "  </thead>\n",
              "  <tbody>\n",
              "    <tr>\n",
              "      <th>Convertible Arbitrage</th>\n",
              "      <td>0.005508</td>\n",
              "      <td>0.0065</td>\n",
              "      <td>False</td>\n",
              "    </tr>\n",
              "    <tr>\n",
              "      <th>CTA Global</th>\n",
              "      <td>0.004074</td>\n",
              "      <td>0.0014</td>\n",
              "      <td>True</td>\n",
              "    </tr>\n",
              "    <tr>\n",
              "      <th>Distressed Securities</th>\n",
              "      <td>0.006946</td>\n",
              "      <td>0.0089</td>\n",
              "      <td>False</td>\n",
              "    </tr>\n",
              "    <tr>\n",
              "      <th>Emerging Markets</th>\n",
              "      <td>0.006253</td>\n",
              "      <td>0.0096</td>\n",
              "      <td>False</td>\n",
              "    </tr>\n",
              "    <tr>\n",
              "      <th>Equity Market Neutral</th>\n",
              "      <td>0.004498</td>\n",
              "      <td>0.0051</td>\n",
              "      <td>False</td>\n",
              "    </tr>\n",
              "    <tr>\n",
              "      <th>Event Driven</th>\n",
              "      <td>0.006344</td>\n",
              "      <td>0.0084</td>\n",
              "      <td>False</td>\n",
              "    </tr>\n",
              "    <tr>\n",
              "      <th>Fixed Income Arbitrage</th>\n",
              "      <td>0.004365</td>\n",
              "      <td>0.0055</td>\n",
              "      <td>False</td>\n",
              "    </tr>\n",
              "    <tr>\n",
              "      <th>Global Macro</th>\n",
              "      <td>0.005403</td>\n",
              "      <td>0.0038</td>\n",
              "      <td>True</td>\n",
              "    </tr>\n",
              "    <tr>\n",
              "      <th>Long/Short Equity</th>\n",
              "      <td>0.006331</td>\n",
              "      <td>0.0079</td>\n",
              "      <td>False</td>\n",
              "    </tr>\n",
              "    <tr>\n",
              "      <th>Merger Arbitrage</th>\n",
              "      <td>0.005356</td>\n",
              "      <td>0.0060</td>\n",
              "      <td>False</td>\n",
              "    </tr>\n",
              "    <tr>\n",
              "      <th>Relative Value</th>\n",
              "      <td>0.005792</td>\n",
              "      <td>0.0067</td>\n",
              "      <td>False</td>\n",
              "    </tr>\n",
              "    <tr>\n",
              "      <th>Short Selling</th>\n",
              "      <td>-0.001701</td>\n",
              "      <td>-0.0053</td>\n",
              "      <td>True</td>\n",
              "    </tr>\n",
              "    <tr>\n",
              "      <th>Funds Of Funds</th>\n",
              "      <td>0.004262</td>\n",
              "      <td>0.0052</td>\n",
              "      <td>False</td>\n",
              "    </tr>\n",
              "  </tbody>\n",
              "</table>\n",
              "</div>"
            ],
            "text/plain": [
              "                               0       1      2\n",
              "Convertible Arbitrage   0.005508  0.0065  False\n",
              "CTA Global              0.004074  0.0014   True\n",
              "Distressed Securities   0.006946  0.0089  False\n",
              "Emerging Markets        0.006253  0.0096  False\n",
              "Equity Market Neutral   0.004498  0.0051  False\n",
              "Event Driven            0.006344  0.0084  False\n",
              "Fixed Income Arbitrage  0.004365  0.0055  False\n",
              "Global Macro            0.005403  0.0038   True\n",
              "Long/Short Equity       0.006331  0.0079  False\n",
              "Merger Arbitrage        0.005356  0.0060  False\n",
              "Relative Value          0.005792  0.0067  False\n",
              "Short Selling          -0.001701 -0.0053   True\n",
              "Funds Of Funds          0.004262  0.0052  False"
            ]
          },
          "metadata": {
            "tags": []
          },
          "execution_count": 2
        }
      ]
    },
    {
      "cell_type": "markdown",
      "metadata": {
        "id": "hVb5hCJoZpEq",
        "colab_type": "text"
      },
      "source": [
        "Now, let's develop the code to compute the skewness of a series of numbers.\n",
        "\n",
        "Recall that the skewness is given by:\n",
        "\n",
        "$$ S(R) = \\frac{E[ (R-E(R))^3 ]}{\\sigma_R^3} $$\n"
      ]
    },
    {
      "cell_type": "code",
      "metadata": {
        "id": "ywdHVu-kZpEs",
        "colab_type": "code",
        "colab": {}
      },
      "source": [
        "def skewness(r):\n",
        "    \"\"\"\n",
        "    Alternative to scipy.stats.skew()\n",
        "    Computes the skewness of the supplied Series or DataFrame\n",
        "    Returns a float or a Series\n",
        "    \"\"\"\n",
        "    demeaned_r = r - r.mean()\n",
        "    # use the population standard deviation, so set dof=0\n",
        "    sigma_r = r.std(ddof=0)\n",
        "    exp = (demeaned_r**3).mean()\n",
        "    return exp/sigma_r**3\n"
      ],
      "execution_count": 0,
      "outputs": []
    },
    {
      "cell_type": "code",
      "metadata": {
        "id": "oip-_tk4ZpE3",
        "colab_type": "code",
        "colab": {
          "base_uri": "https://localhost:8080/",
          "height": 255
        },
        "outputId": "c9eaad0a-80a0-4c88-b0de-d0fb3ad8134c"
      },
      "source": [
        "skewness(hfi).sort_values()"
      ],
      "execution_count": 8,
      "outputs": [
        {
          "output_type": "execute_result",
          "data": {
            "text/plain": [
              "Fixed Income Arbitrage   -3.940320\n",
              "Convertible Arbitrage    -2.639592\n",
              "Equity Market Neutral    -2.124435\n",
              "Relative Value           -1.815470\n",
              "Event Driven             -1.409154\n",
              "Merger Arbitrage         -1.320083\n",
              "Distressed Securities    -1.300842\n",
              "Emerging Markets         -1.167067\n",
              "Long/Short Equity        -0.390227\n",
              "Funds Of Funds           -0.361783\n",
              "CTA Global                0.173699\n",
              "Short Selling             0.767975\n",
              "Global Macro              0.982922\n",
              "dtype: float64"
            ]
          },
          "metadata": {
            "tags": []
          },
          "execution_count": 8
        }
      ]
    },
    {
      "cell_type": "markdown",
      "metadata": {
        "id": "gmOyLwTrZpE_",
        "colab_type": "text"
      },
      "source": [
        "Just to see if we get the same answer, let's use the skewness function that is built into `scipy.stats`"
      ]
    },
    {
      "cell_type": "code",
      "metadata": {
        "id": "Hg7Ul3qhZpFB",
        "colab_type": "code",
        "colab": {
          "base_uri": "https://localhost:8080/",
          "height": 68
        },
        "outputId": "64d5405e-1ea4-4437-a612-fbfb15dd001c"
      },
      "source": [
        "import scipy.stats\n",
        "scipy.stats.skew(hfi)"
      ],
      "execution_count": 9,
      "outputs": [
        {
          "output_type": "execute_result",
          "data": {
            "text/plain": [
              "array([-2.63959223,  0.17369864, -1.30084204, -1.16706749, -2.12443538,\n",
              "       -1.40915356, -3.94032029,  0.98292188, -0.39022677, -1.32008333,\n",
              "       -1.81546975,  0.76797484, -0.36178308])"
            ]
          },
          "metadata": {
            "tags": []
          },
          "execution_count": 9
        }
      ]
    },
    {
      "cell_type": "markdown",
      "metadata": {
        "id": "VBx96BH3ZpFI",
        "colab_type": "text"
      },
      "source": [
        "So, let's add that to our `edhec_risk_kit.py`.\n",
        "\n",
        "Finally, let's look at the skewness that you would expect from a truly random sequence of returns. Let's use the random normal generator from numpy and generate the same number of returns as we have for the hedge fund data."
      ]
    },
    {
      "cell_type": "code",
      "metadata": {
        "id": "oQk1B3JbZpFJ",
        "colab_type": "code",
        "colab": {
          "base_uri": "https://localhost:8080/",
          "height": 34
        },
        "outputId": "737cbe85-7c86-445c-ac1d-40bfba629b66"
      },
      "source": [
        "hfi.shape"
      ],
      "execution_count": 10,
      "outputs": [
        {
          "output_type": "execute_result",
          "data": {
            "text/plain": [
              "(263, 13)"
            ]
          },
          "metadata": {
            "tags": []
          },
          "execution_count": 10
        }
      ]
    },
    {
      "cell_type": "code",
      "metadata": {
        "id": "BVapbXDAZpFP",
        "colab_type": "code",
        "colab": {}
      },
      "source": [
        "import numpy as np\n",
        "normal_rets = np.random.normal(0, 0.15, (263, 1))"
      ],
      "execution_count": 0,
      "outputs": []
    },
    {
      "cell_type": "code",
      "metadata": {
        "id": "tbpkLz26ZpFV",
        "colab_type": "code",
        "colab": {
          "base_uri": "https://localhost:8080/",
          "height": 34
        },
        "outputId": "e64a7bcc-bd3f-4780-e802-c0c31d0ed9f8"
      },
      "source": [
        "normal_rets.mean(), normal_rets.std()"
      ],
      "execution_count": 12,
      "outputs": [
        {
          "output_type": "execute_result",
          "data": {
            "text/plain": [
              "(9.807196380857325e-05, 0.15552295012928952)"
            ]
          },
          "metadata": {
            "tags": []
          },
          "execution_count": 12
        }
      ]
    },
    {
      "cell_type": "code",
      "metadata": {
        "id": "btpnidnLZpFc",
        "colab_type": "code",
        "colab": {
          "base_uri": "https://localhost:8080/",
          "height": 34
        },
        "outputId": "ee7e2d44-56db-425b-c943-2c24119be5dd"
      },
      "source": [
        "erk.skewness(normal_rets)"
      ],
      "execution_count": 13,
      "outputs": [
        {
          "output_type": "execute_result",
          "data": {
            "text/plain": [
              "-0.030687276528881435"
            ]
          },
          "metadata": {
            "tags": []
          },
          "execution_count": 13
        }
      ]
    },
    {
      "cell_type": "markdown",
      "metadata": {
        "id": "wpGiH7AaZpFi",
        "colab_type": "text"
      },
      "source": [
        "# Kurtosis\n",
        "\n",
        "Intuitively, the kurtosis measures the \"fatness\" of the tails of the distribution. The normal distribution has a kurtosis of 3 and so if the kurtosis of your returns is less than 3 then it tends to have thinner tails, and if the kurtosis is greater than 3 then the distribution has fatter tails.\n",
        "\n",
        "Kurtosis is given by:\n",
        "\n",
        "$$ K(R) = \\frac{E[ (R-E(R))^4 ]}{\\sigma_R^4} $$\n",
        "\n",
        "This is very similar to the skewness, so we can just copy and paste it and then edit it to compute the 4th rather than the 3rd power (as was the case for skewness).\n"
      ]
    },
    {
      "cell_type": "code",
      "metadata": {
        "id": "YjUac941ZpFk",
        "colab_type": "code",
        "colab": {
          "base_uri": "https://localhost:8080/",
          "height": 255
        },
        "outputId": "a855965f-6e4a-47c1-cbff-66f682f194fb"
      },
      "source": [
        "erk.kurtosis(hfi)"
      ],
      "execution_count": 14,
      "outputs": [
        {
          "output_type": "execute_result",
          "data": {
            "text/plain": [
              "Convertible Arbitrage     23.280834\n",
              "CTA Global                 2.952960\n",
              "Distressed Securities      7.889983\n",
              "Emerging Markets           9.250788\n",
              "Equity Market Neutral     17.218555\n",
              "Event Driven               8.035828\n",
              "Fixed Income Arbitrage    29.842199\n",
              "Global Macro               5.741679\n",
              "Long/Short Equity          4.523893\n",
              "Merger Arbitrage           8.738950\n",
              "Relative Value            12.121208\n",
              "Short Selling              6.117772\n",
              "Funds Of Funds             7.070153\n",
              "dtype: float64"
            ]
          },
          "metadata": {
            "tags": []
          },
          "execution_count": 14
        }
      ]
    },
    {
      "cell_type": "markdown",
      "metadata": {
        "id": "1I-BZBGEZpFr",
        "colab_type": "text"
      },
      "source": [
        "Let's compare it with `scipy.stats` ..."
      ]
    },
    {
      "cell_type": "code",
      "metadata": {
        "id": "8xzhmW7MZpFs",
        "colab_type": "code",
        "colab": {
          "base_uri": "https://localhost:8080/",
          "height": 68
        },
        "outputId": "d0612dc3-f39a-4d84-af8d-09bcac3b62e5"
      },
      "source": [
        "scipy.stats.kurtosis(hfi)"
      ],
      "execution_count": 15,
      "outputs": [
        {
          "output_type": "execute_result",
          "data": {
            "text/plain": [
              "array([20.28083446, -0.04703963,  4.88998336,  6.25078841, 14.21855526,\n",
              "        5.03582817, 26.84219928,  2.74167945,  1.52389258,  5.73894979,\n",
              "        9.12120787,  3.11777175,  4.07015278])"
            ]
          },
          "metadata": {
            "tags": []
          },
          "execution_count": 15
        }
      ]
    },
    {
      "cell_type": "markdown",
      "metadata": {
        "id": "s17gM5-dZpF0",
        "colab_type": "text"
      },
      "source": [
        "Note that these numbers are all lower by 3 from the number we have computed. That's because, as we said above, the expected kurtosis of a normally distributed series of numbers is 3, and `scipy.stats` is returning the _Excess Kurtosis_. We can see this by applying it on the random normal numbers we generated:"
      ]
    },
    {
      "cell_type": "code",
      "metadata": {
        "id": "rM_oUe5NZpF2",
        "colab_type": "code",
        "colab": {
          "base_uri": "https://localhost:8080/",
          "height": 34
        },
        "outputId": "2b410e32-e7e3-43a9-a827-e8dd7b040c5f"
      },
      "source": [
        "scipy.stats.kurtosis(normal_rets)"
      ],
      "execution_count": 16,
      "outputs": [
        {
          "output_type": "execute_result",
          "data": {
            "text/plain": [
              "array([-0.27076178])"
            ]
          },
          "metadata": {
            "tags": []
          },
          "execution_count": 16
        }
      ]
    },
    {
      "cell_type": "code",
      "metadata": {
        "id": "WnbrK2DzZpF7",
        "colab_type": "code",
        "colab": {
          "base_uri": "https://localhost:8080/",
          "height": 34
        },
        "outputId": "1d201617-3e3c-40e6-91e7-7b175a395903"
      },
      "source": [
        "erk.kurtosis(normal_rets)"
      ],
      "execution_count": 17,
      "outputs": [
        {
          "output_type": "execute_result",
          "data": {
            "text/plain": [
              "2.729238217614401"
            ]
          },
          "metadata": {
            "tags": []
          },
          "execution_count": 17
        }
      ]
    },
    {
      "cell_type": "markdown",
      "metadata": {
        "id": "3bw3B7DGZpGA",
        "colab_type": "text"
      },
      "source": [
        "## Running the Jarque-Bera Test for Normality\n",
        "\n",
        "The `scipy.stats` module contains a function that runs the _Jarque-Bera_ test on a sequence of numbers. Let's apply that to the normally generated returns:"
      ]
    },
    {
      "cell_type": "code",
      "metadata": {
        "id": "PZO6oZFfZpGA",
        "colab_type": "code",
        "colab": {
          "base_uri": "https://localhost:8080/",
          "height": 34
        },
        "outputId": "e4eb769a-9ef8-434e-c8d9-9a503d1bbb2a"
      },
      "source": [
        "scipy.stats.jarque_bera(normal_rets)"
      ],
      "execution_count": 18,
      "outputs": [
        {
          "output_type": "execute_result",
          "data": {
            "text/plain": [
              "(0.8446549484268455, 0.6555193385610887)"
            ]
          },
          "metadata": {
            "tags": []
          },
          "execution_count": 18
        }
      ]
    },
    {
      "cell_type": "markdown",
      "metadata": {
        "id": "xslSuaAUZpGF",
        "colab_type": "text"
      },
      "source": [
        "The first number is the test statistic and the second number is the one we want. It represents the p-value for the hypothesis test. If you want to run the test at a 1% level of significance, you want this number to be greater than 0.01 to accept the hypothesis that the data is normally distributed, and if that number is less than 0.01 then you must reject the hypothesis of normality.\n",
        "\n",
        "In this case, since we got a number higher than 0.01 we can accept the hypothesis that the numbers are random. Now, let's try this on our different hedge fund indices."
      ]
    },
    {
      "cell_type": "code",
      "metadata": {
        "id": "8cmI878gZpGG",
        "colab_type": "code",
        "colab": {
          "base_uri": "https://localhost:8080/",
          "height": 34
        },
        "outputId": "d4255161-da35-45a5-d9c8-94a37b6ffaff"
      },
      "source": [
        "scipy.stats.jarque_bera(hfi)"
      ],
      "execution_count": 19,
      "outputs": [
        {
          "output_type": "execute_result",
          "data": {
            "text/plain": [
              "(25656.585999171326, 0.0)"
            ]
          },
          "metadata": {
            "tags": []
          },
          "execution_count": 19
        }
      ]
    },
    {
      "cell_type": "markdown",
      "metadata": {
        "id": "x2liBKmcZpGL",
        "colab_type": "text"
      },
      "source": [
        "Why didn't we get the results for the individual indices? Because the implementation of the test isn't smart enough to realize that we want to treat each column as a separate set of returns. We can write out own wrapper for it to fix that, so let's start by writing a simple wrapper, and adding this code to our python file:\n",
        "\n",
        "```python\n",
        "import scipy.stats\n",
        "def is_normal(r, level=0.01):\n",
        "    \"\"\"\n",
        "    Applies the Jarque-Bera test to determine if a Series is normal or not\n",
        "    Test is applied at the 1% level by default\n",
        "    Returns True if the hypothesis of normality is accepted, False otherwise\n",
        "    \"\"\"\n",
        "    statistic, p_value = scipy.stats.jarque_bera(r)\n",
        "    return p_value > level\n",
        "```"
      ]
    },
    {
      "cell_type": "code",
      "metadata": {
        "id": "2Zv-tsvaZpGM",
        "colab_type": "code",
        "colab": {
          "base_uri": "https://localhost:8080/",
          "height": 34
        },
        "outputId": "d35ec040-cf93-4c8d-a65a-92e32e9497f1"
      },
      "source": [
        "erk.is_normal(normal_rets)"
      ],
      "execution_count": 20,
      "outputs": [
        {
          "output_type": "execute_result",
          "data": {
            "text/plain": [
              "True"
            ]
          },
          "metadata": {
            "tags": []
          },
          "execution_count": 20
        }
      ]
    },
    {
      "cell_type": "markdown",
      "metadata": {
        "id": "EO3miI31ZpGQ",
        "colab_type": "text"
      },
      "source": [
        "There are a few different ways to handle the problem. The first is to use the `.aggregate` method on a dataframe, that takes a function as an argument and applies that function to each column:"
      ]
    },
    {
      "cell_type": "code",
      "metadata": {
        "id": "gNyKxUfRZpGR",
        "colab_type": "code",
        "colab": {
          "base_uri": "https://localhost:8080/",
          "height": 255
        },
        "outputId": "8589390f-4b8c-4df7-88bb-8000fc33cd5f"
      },
      "source": [
        "hfi.aggregate(erk.is_normal)"
      ],
      "execution_count": 21,
      "outputs": [
        {
          "output_type": "execute_result",
          "data": {
            "text/plain": [
              "Convertible Arbitrage     False\n",
              "CTA Global                 True\n",
              "Distressed Securities     False\n",
              "Emerging Markets          False\n",
              "Equity Market Neutral     False\n",
              "Event Driven              False\n",
              "Fixed Income Arbitrage    False\n",
              "Global Macro              False\n",
              "Long/Short Equity         False\n",
              "Merger Arbitrage          False\n",
              "Relative Value            False\n",
              "Short Selling             False\n",
              "Funds Of Funds            False\n",
              "dtype: bool"
            ]
          },
          "metadata": {
            "tags": []
          },
          "execution_count": 21
        }
      ]
    },
    {
      "cell_type": "markdown",
      "metadata": {
        "id": "KDSad6TpZpGX",
        "colab_type": "text"
      },
      "source": [
        "However, we can fix this in our wrapper so that we have a uniform interface to test normality:\n",
        "\n",
        "```python\n",
        "import scipy.stats\n",
        "def is_normal(r, level=0.01):\n",
        "    \"\"\"\n",
        "    Applies the Jarque-Bera test to determine if a Series is normal or not\n",
        "    Test is applied at the 1% level by default\n",
        "    Returns True if the hypothesis of normality is accepted, False otherwise\n",
        "    \"\"\"\n",
        "    if isinstance(r, pd.DataFrame):\n",
        "        return r.aggregate(is_normal)\n",
        "    else:\n",
        "        statistic, p_value = scipy.stats.jarque_bera(r)\n",
        "        return p_value > level\n",
        "```\n"
      ]
    },
    {
      "cell_type": "code",
      "metadata": {
        "id": "0VZ7aJkwZpGY",
        "colab_type": "code",
        "colab": {
          "base_uri": "https://localhost:8080/",
          "height": 34
        },
        "outputId": "ad9368b8-1266-4074-b753-64f071435b3b"
      },
      "source": [
        "import pandas as pd\n",
        "isinstance(hfi, pd.DataFrame)"
      ],
      "execution_count": 22,
      "outputs": [
        {
          "output_type": "execute_result",
          "data": {
            "text/plain": [
              "True"
            ]
          },
          "metadata": {
            "tags": []
          },
          "execution_count": 22
        }
      ]
    },
    {
      "cell_type": "code",
      "metadata": {
        "id": "bsLB9mhHZpGc",
        "colab_type": "code",
        "colab": {
          "base_uri": "https://localhost:8080/",
          "height": 34
        },
        "outputId": "aa6e6d3f-85fe-4117-fb9e-077a21db10fb"
      },
      "source": [
        "erk.is_normal(normal_rets)"
      ],
      "execution_count": 23,
      "outputs": [
        {
          "output_type": "execute_result",
          "data": {
            "text/plain": [
              "True"
            ]
          },
          "metadata": {
            "tags": []
          },
          "execution_count": 23
        }
      ]
    },
    {
      "cell_type": "markdown",
      "metadata": {
        "id": "M0jYW7IjZpGg",
        "colab_type": "text"
      },
      "source": [
        "## Testing CRSP SmallCap and Large Cap returns for Normality\n",
        "\n",
        "Let's see whether any of the returns we've been studying so far pass the normality hypothesis."
      ]
    },
    {
      "cell_type": "code",
      "metadata": {
        "id": "FGHK8irWZpGh",
        "colab_type": "code",
        "colab": {
          "base_uri": "https://localhost:8080/",
          "height": 68
        },
        "outputId": "80e4c24d-2dbb-487e-9ddb-fb7e2a64123f"
      },
      "source": [
        "ffme = erk.get_ffme_returns(DATAPATH)\n",
        "erk.skewness(ffme)"
      ],
      "execution_count": 28,
      "outputs": [
        {
          "output_type": "execute_result",
          "data": {
            "text/plain": [
              "SmallCap    4.410739\n",
              "LargeCap    0.233445\n",
              "dtype: float64"
            ]
          },
          "metadata": {
            "tags": []
          },
          "execution_count": 28
        }
      ]
    },
    {
      "cell_type": "code",
      "metadata": {
        "id": "iTK75o_RZpGk",
        "colab_type": "code",
        "colab": {
          "base_uri": "https://localhost:8080/",
          "height": 68
        },
        "outputId": "f9fbf762-7e9b-422d-ae29-27117b4ba787"
      },
      "source": [
        "erk.kurtosis(ffme)"
      ],
      "execution_count": 29,
      "outputs": [
        {
          "output_type": "execute_result",
          "data": {
            "text/plain": [
              "SmallCap    46.845008\n",
              "LargeCap    10.694654\n",
              "dtype: float64"
            ]
          },
          "metadata": {
            "tags": []
          },
          "execution_count": 29
        }
      ]
    },
    {
      "cell_type": "code",
      "metadata": {
        "id": "Zth0YtZPZpGo",
        "colab_type": "code",
        "colab": {
          "base_uri": "https://localhost:8080/",
          "height": 68
        },
        "outputId": "9b9d99f8-8f1b-42e5-a522-2debf410f3fc"
      },
      "source": [
        "erk.is_normal(ffme)"
      ],
      "execution_count": 30,
      "outputs": [
        {
          "output_type": "execute_result",
          "data": {
            "text/plain": [
              "SmallCap    False\n",
              "LargeCap    False\n",
              "dtype: bool"
            ]
          },
          "metadata": {
            "tags": []
          },
          "execution_count": 30
        }
      ]
    },
    {
      "cell_type": "code",
      "metadata": {
        "id": "k0t6hJ10ZpGs",
        "colab_type": "code",
        "colab": {}
      },
      "source": [
        ""
      ],
      "execution_count": 0,
      "outputs": []
    }
  ]
}