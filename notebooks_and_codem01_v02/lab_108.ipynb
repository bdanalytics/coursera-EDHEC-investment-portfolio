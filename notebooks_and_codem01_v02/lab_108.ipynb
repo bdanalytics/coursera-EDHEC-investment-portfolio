{
  "nbformat": 4,
  "nbformat_minor": 0,
  "metadata": {
    "kernelspec": {
      "display_name": "Python 3",
      "language": "python",
      "name": "python3"
    },
    "language_info": {
      "codemirror_mode": {
        "name": "ipython",
        "version": 3
      },
      "file_extension": ".py",
      "mimetype": "text/x-python",
      "name": "python",
      "nbconvert_exporter": "python",
      "pygments_lexer": "ipython3",
      "version": "3.7.3"
    },
    "colab": {
      "name": "lab_108.ipynb",
      "provenance": [],
      "collapsed_sections": []
    }
  },
  "cells": [
    {
      "cell_type": "code",
      "metadata": {
        "id": "RH8itiFg2iE5",
        "colab_type": "code",
        "colab": {
          "base_uri": "https://localhost:8080/",
          "height": 127
        },
        "outputId": "3a1bcec3-42f7-4e2f-efcb-332ba5558924"
      },
      "source": [
        "%load_ext autoreload\n",
        "%autoreload 2\n",
        "%matplotlib inline\n",
        "\n",
        "from google.colab import drive\n",
        "drive.mount('/content/drive')"
      ],
      "execution_count": 1,
      "outputs": [
        {
          "output_type": "stream",
          "text": [
            "Go to this URL in a browser: https://accounts.google.com/o/oauth2/auth?client_id=947318989803-6bn6qk8qdgf4n4g3pfee6491hc0brc4i.apps.googleusercontent.com&redirect_uri=urn%3aietf%3awg%3aoauth%3a2.0%3aoob&response_type=code&scope=email%20https%3a%2f%2fwww.googleapis.com%2fauth%2fdocs.test%20https%3a%2f%2fwww.googleapis.com%2fauth%2fdrive%20https%3a%2f%2fwww.googleapis.com%2fauth%2fdrive.photos.readonly%20https%3a%2f%2fwww.googleapis.com%2fauth%2fpeopleapi.readonly\n",
            "\n",
            "Enter your authorization code:\n",
            "··········\n",
            "Mounted at /content/drive\n"
          ],
          "name": "stdout"
        }
      ]
    },
    {
      "cell_type": "code",
      "metadata": {
        "id": "SlUHREZD2wrP",
        "colab_type": "code",
        "colab": {
          "base_uri": "https://localhost:8080/",
          "height": 93
        },
        "outputId": "58303827-0c1c-4846-bdc8-11fac57f5969"
      },
      "source": [
        "import os, sys\n",
        "\n",
        "DATAPATH = '/content/drive/My Drive/Coursera/EDHEC/investment-portfolio/data'\n",
        "print(f\"DATAPATH:{DATAPATH} contents:{os.listdir(DATAPATH)}\")\n",
        "\n",
        "MODULEPATH = '/content/drive/My Drive/Coursera/EDHEC/investment-portfolio/nb'\n",
        "print(f\"MODULEPATH:{MODULEPATH} contents:{os.listdir(MODULEPATH)}\")\n",
        "\n",
        "sys.path.append(MODULEPATH)\n",
        "print(f\"sys.path:{sys.path}\")\n",
        "\n",
        "import numpy as np\n",
        "import pandas as pd\n",
        "\n",
        "import edhec_risk_kit_108_BBI as erk"
      ],
      "execution_count": 2,
      "outputs": [
        {
          "output_type": "stream",
          "text": [
            "DATAPATH:/content/drive/My Drive/Coursera/EDHEC/investment-portfolio/data contents:['sample_prices.csv', 'edhec-hedgefundindices.csv', 'ind30_m_vw_rets.csv', 'Portfolios_Formed_on_ME_monthly_EW.csv', 'ind30_m_ew_rets.csv']\n",
            "MODULEPATH:/content/drive/My Drive/Coursera/EDHEC/investment-portfolio/nb contents:['lab_108.ipynb', 'lab_101.ipynb', 'lab_102.ipynb', 'lab_103.ipynb', 'hello.py', '__pycache__', 'edhec_risk_kit_104_BBI.py', 'lab_104.ipynb', 'edhec_risk_kit_105_BBI.py', 'lab_105.ipynb', 'edhec_risk_kit_106_BBI.py', 'lab_106.ipynb', 'module_1_quiz.ipynb', 'edhec_risk_kit_107_BBI.py', 'lab_107.ipynb', 'edhec_risk_kit_108_BBI.py']\n",
            "sys.path:['', '/env/python', '/usr/lib/python36.zip', '/usr/lib/python3.6', '/usr/lib/python3.6/lib-dynload', '/usr/local/lib/python3.6/dist-packages', '/usr/lib/python3/dist-packages', '/usr/local/lib/python3.6/dist-packages/IPython/extensions', '/root/.ipython', '/content/drive/My Drive/Coursera/EDHEC/investment-portfolio/nb']\n"
          ],
          "name": "stdout"
        }
      ]
    },
    {
      "cell_type": "markdown",
      "metadata": {
        "id": "YHdQvUoA2frH",
        "colab_type": "text"
      },
      "source": [
        "# The Efficient Frontier - Part II\n",
        "\n",
        "Let's start by loading the returns and generating the expected returns vector and the covariance matrix"
      ]
    },
    {
      "cell_type": "code",
      "metadata": {
        "id": "OESwmaz72frJ",
        "colab_type": "code",
        "colab": {
          "base_uri": "https://localhost:8080/",
          "height": 51
        },
        "outputId": "34330a47-a0ed-49db-ef19-ae25b4b46ede"
      },
      "source": [
        "%load_ext autoreload\n",
        "%autoreload 2\n",
        "%matplotlib inline\n",
        "#import edhec_risk_kit as erk\n",
        "\n",
        "ind = erk.get_ind_returns(DATAPATH)\n",
        "er = erk.annualize_rets(ind[\"1996\":\"2000\"], 12)\n",
        "cov = ind[\"1996\":\"2000\"].cov()"
      ],
      "execution_count": 4,
      "outputs": [
        {
          "output_type": "stream",
          "text": [
            "The autoreload extension is already loaded. To reload it, use:\n",
            "  %reload_ext autoreload\n"
          ],
          "name": "stdout"
        }
      ]
    },
    {
      "cell_type": "markdown",
      "metadata": {
        "id": "3Mdgd5R72frV",
        "colab_type": "text"
      },
      "source": [
        "As a first exercise, let's assume we have some weights, and let's try and compute the returns and volatility of a portfolio, given a set of weights, returns, and a covariance matrix.\n",
        "\n",
        "The returns are easy, so let's add this to our toolkit\n",
        "\n",
        "```python\n",
        "\n",
        "def portfolio_return(weights, returns):\n",
        "    \"\"\"\n",
        "    Computes the return on a portfolio from constituent returns and weights\n",
        "    weights are a numpy array or Nx1 matrix and returns are a numpy array or Nx1 matrix\n",
        "    \"\"\"\n",
        "    return weights.T @ returns\n",
        "\n",
        "```\n",
        "\n",
        "The volatility is just as easy in matrix form:\n",
        "\n",
        "```python\n",
        "def portfolio_vol(weights, covmat):\n",
        "    \"\"\"\n",
        "    Computes the vol of a portfolio from a covariance matrix and constituent weights\n",
        "    weights are a numpy array or N x 1 maxtrix and covmat is an N x N matrix\n",
        "    \"\"\"\n",
        "    return (weights.T @ covmat @ weights)**0.5\n",
        "```\n",
        "\n"
      ]
    },
    {
      "cell_type": "code",
      "metadata": {
        "id": "AJsJRjAp2frX",
        "colab_type": "code",
        "colab": {}
      },
      "source": [
        "l = [\"Food\", \"Beer\", \"Smoke\", \"Coal\"]"
      ],
      "execution_count": 0,
      "outputs": []
    },
    {
      "cell_type": "code",
      "metadata": {
        "id": "u1BOaqti2frf",
        "colab_type": "code",
        "colab": {
          "base_uri": "https://localhost:8080/",
          "height": 102
        },
        "outputId": "4d1f9ba5-448c-439f-8020-714880d30b53"
      },
      "source": [
        "er[l]"
      ],
      "execution_count": 6,
      "outputs": [
        {
          "output_type": "execute_result",
          "data": {
            "text/plain": [
              "Food     0.116799\n",
              "Beer     0.141126\n",
              "Smoke    0.107830\n",
              "Coal     0.414689\n",
              "dtype: float64"
            ]
          },
          "metadata": {
            "tags": []
          },
          "execution_count": 6
        }
      ]
    },
    {
      "cell_type": "code",
      "metadata": {
        "id": "lCXIK7Qw2fro",
        "colab_type": "code",
        "colab": {
          "base_uri": "https://localhost:8080/",
          "height": 173
        },
        "outputId": "dc5e6c73-b8ac-4333-99b8-56d430f03a25"
      },
      "source": [
        "cov.loc[l,l]"
      ],
      "execution_count": 7,
      "outputs": [
        {
          "output_type": "execute_result",
          "data": {
            "text/html": [
              "<div>\n",
              "<style scoped>\n",
              "    .dataframe tbody tr th:only-of-type {\n",
              "        vertical-align: middle;\n",
              "    }\n",
              "\n",
              "    .dataframe tbody tr th {\n",
              "        vertical-align: top;\n",
              "    }\n",
              "\n",
              "    .dataframe thead th {\n",
              "        text-align: right;\n",
              "    }\n",
              "</style>\n",
              "<table border=\"1\" class=\"dataframe\">\n",
              "  <thead>\n",
              "    <tr style=\"text-align: right;\">\n",
              "      <th></th>\n",
              "      <th>Food</th>\n",
              "      <th>Beer</th>\n",
              "      <th>Smoke</th>\n",
              "      <th>Coal</th>\n",
              "    </tr>\n",
              "  </thead>\n",
              "  <tbody>\n",
              "    <tr>\n",
              "      <th>Food</th>\n",
              "      <td>0.002609</td>\n",
              "      <td>0.002379</td>\n",
              "      <td>0.002061</td>\n",
              "      <td>0.000027</td>\n",
              "    </tr>\n",
              "    <tr>\n",
              "      <th>Beer</th>\n",
              "      <td>0.002379</td>\n",
              "      <td>0.005264</td>\n",
              "      <td>0.001359</td>\n",
              "      <td>0.001728</td>\n",
              "    </tr>\n",
              "    <tr>\n",
              "      <th>Smoke</th>\n",
              "      <td>0.002061</td>\n",
              "      <td>0.001359</td>\n",
              "      <td>0.008349</td>\n",
              "      <td>-0.000733</td>\n",
              "    </tr>\n",
              "    <tr>\n",
              "      <th>Coal</th>\n",
              "      <td>0.000027</td>\n",
              "      <td>0.001728</td>\n",
              "      <td>-0.000733</td>\n",
              "      <td>0.018641</td>\n",
              "    </tr>\n",
              "  </tbody>\n",
              "</table>\n",
              "</div>"
            ],
            "text/plain": [
              "           Food      Beer     Smoke      Coal\n",
              "Food   0.002609  0.002379  0.002061  0.000027\n",
              "Beer   0.002379  0.005264  0.001359  0.001728\n",
              "Smoke  0.002061  0.001359  0.008349 -0.000733\n",
              "Coal   0.000027  0.001728 -0.000733  0.018641"
            ]
          },
          "metadata": {
            "tags": []
          },
          "execution_count": 7
        }
      ]
    },
    {
      "cell_type": "code",
      "metadata": {
        "id": "rCB2UefV2frw",
        "colab_type": "code",
        "colab": {
          "base_uri": "https://localhost:8080/",
          "height": 34
        },
        "outputId": "8fb26a38-e10d-4b5e-c7ed-463b6d18d69a"
      },
      "source": [
        "import pandas as pd\n",
        "import numpy as np\n",
        "ew = np.repeat(0.25, 4)\n",
        "erk.portfolio_return(ew, er[l])"
      ],
      "execution_count": 8,
      "outputs": [
        {
          "output_type": "execute_result",
          "data": {
            "text/plain": [
              "0.19511097196038385"
            ]
          },
          "metadata": {
            "tags": []
          },
          "execution_count": 8
        }
      ]
    },
    {
      "cell_type": "code",
      "metadata": {
        "id": "GS5ovbSP2fr3",
        "colab_type": "code",
        "colab": {
          "base_uri": "https://localhost:8080/",
          "height": 34
        },
        "outputId": "7d2f5383-174b-44f4-dc9f-8a9b2cb60b1e"
      },
      "source": [
        "erk.portfolio_vol(ew, cov.loc[l,l])"
      ],
      "execution_count": 9,
      "outputs": [
        {
          "output_type": "execute_result",
          "data": {
            "text/plain": [
              "0.055059195776437045"
            ]
          },
          "metadata": {
            "tags": []
          },
          "execution_count": 9
        }
      ]
    },
    {
      "cell_type": "markdown",
      "metadata": {
        "id": "Dv7Cqohz2fr_",
        "colab_type": "text"
      },
      "source": [
        "# The 2-Asset Case\n",
        "\n",
        "In the case of 2 assets, the problem is somewhat simplified, since the weight of the second asset is 1-the weight of the first asset.\n",
        "\n",
        "Let's write a function that draws the efficient frontier for a simple 2 asset case.\n",
        "\n",
        "Start by generating a sequence of weights in a list of tuples. Python makes it easy to generate a list by using something called a _list comprehension_ ... which you can think of as an efficient way to generate a list of values instead of writing a for loop.\n"
      ]
    },
    {
      "cell_type": "code",
      "metadata": {
        "id": "FHWAOEFa2fsA",
        "colab_type": "code",
        "colab": {}
      },
      "source": [
        "import numpy as np\n",
        "\n",
        "n_points = 20\n",
        "weights = [np.array([w, 1-w]) for w in np.linspace(0, 1, n_points)]\n"
      ],
      "execution_count": 0,
      "outputs": []
    },
    {
      "cell_type": "code",
      "metadata": {
        "id": "fRvifr622fsH",
        "colab_type": "code",
        "colab": {
          "base_uri": "https://localhost:8080/",
          "height": 34
        },
        "outputId": "a04342a4-e8f5-437b-cf34-3bb1a5288d71"
      },
      "source": [
        "type(weights)"
      ],
      "execution_count": 11,
      "outputs": [
        {
          "output_type": "execute_result",
          "data": {
            "text/plain": [
              "list"
            ]
          },
          "metadata": {
            "tags": []
          },
          "execution_count": 11
        }
      ]
    },
    {
      "cell_type": "code",
      "metadata": {
        "id": "ukfwkcE62fsO",
        "colab_type": "code",
        "colab": {
          "base_uri": "https://localhost:8080/",
          "height": 34
        },
        "outputId": "16116dc5-eff1-4767-d374-9b7e2cc50f14"
      },
      "source": [
        "len(weights)"
      ],
      "execution_count": 12,
      "outputs": [
        {
          "output_type": "execute_result",
          "data": {
            "text/plain": [
              "20"
            ]
          },
          "metadata": {
            "tags": []
          },
          "execution_count": 12
        }
      ]
    },
    {
      "cell_type": "code",
      "metadata": {
        "id": "b9JYdDO72fsT",
        "colab_type": "code",
        "colab": {
          "base_uri": "https://localhost:8080/",
          "height": 34
        },
        "outputId": "11c3dfaf-1046-4ee1-91a5-cad53a735ce2"
      },
      "source": [
        "weights[0]"
      ],
      "execution_count": 13,
      "outputs": [
        {
          "output_type": "execute_result",
          "data": {
            "text/plain": [
              "array([0., 1.])"
            ]
          },
          "metadata": {
            "tags": []
          },
          "execution_count": 13
        }
      ]
    },
    {
      "cell_type": "code",
      "metadata": {
        "id": "icXIBOYe2fsZ",
        "colab_type": "code",
        "colab": {
          "base_uri": "https://localhost:8080/",
          "height": 34
        },
        "outputId": "5fdb9519-7d38-4d81-8e88-2fc983ca8f22"
      },
      "source": [
        "weights[4]"
      ],
      "execution_count": 14,
      "outputs": [
        {
          "output_type": "execute_result",
          "data": {
            "text/plain": [
              "array([0.21052632, 0.78947368])"
            ]
          },
          "metadata": {
            "tags": []
          },
          "execution_count": 14
        }
      ]
    },
    {
      "cell_type": "code",
      "metadata": {
        "id": "vf5k6GAj2fse",
        "colab_type": "code",
        "colab": {
          "base_uri": "https://localhost:8080/",
          "height": 34
        },
        "outputId": "e93dd245-f242-4f4f-db9f-ffe2017c89ec"
      },
      "source": [
        "weights[19]"
      ],
      "execution_count": 15,
      "outputs": [
        {
          "output_type": "execute_result",
          "data": {
            "text/plain": [
              "array([1., 0.])"
            ]
          },
          "metadata": {
            "tags": []
          },
          "execution_count": 15
        }
      ]
    },
    {
      "cell_type": "code",
      "metadata": {
        "id": "wQooOYks2fsi",
        "colab_type": "code",
        "colab": {
          "base_uri": "https://localhost:8080/",
          "height": 405
        },
        "outputId": "8f259c28-e700-47bf-8ce2-ef780afa9e36"
      },
      "source": [
        "l = [\"Games\", \"Fin\"]\n",
        "rets = [erk.portfolio_return(w, er[l]) for w in weights]\n",
        "vols = [erk.portfolio_vol(w, cov.loc[l,l]) for w in weights]\n",
        "ef = pd.DataFrame({\"R\": rets, \"V\": vols})\n",
        "ef.plot.scatter(x=\"V\", y=\"R\", figsize = (12, 6))"
      ],
      "execution_count": 17,
      "outputs": [
        {
          "output_type": "execute_result",
          "data": {
            "text/plain": [
              "<matplotlib.axes._subplots.AxesSubplot at 0x7fa45028ff60>"
            ]
          },
          "metadata": {
            "tags": []
          },
          "execution_count": 17
        },
        {
          "output_type": "display_data",
          "data": {
            "image/png": "[encoded data removed]",
            "text/plain": [
              "<Figure size 864x432 with 1 Axes>"
            ]
          },
          "metadata": {
            "tags": [],
            "needs_background": "light"
          }
        }
      ]
    },
    {
      "cell_type": "markdown",
      "metadata": {
        "id": "x7ua4PBx2fsn",
        "colab_type": "text"
      },
      "source": [
        "We can create function that plots the frontier:\n",
        "\n",
        "```python\n",
        "def plot_ef2(n_points, er, cov):\n",
        "    \"\"\"\n",
        "    Plots the 2-asset efficient frontier\n",
        "    \"\"\"\n",
        "    if er.shape[0] != 2 or er.shape[0] != 2:\n",
        "        raise ValueError(\"plot_ef2 can only plot 2-asset frontiers\")\n",
        "    weights = [np.array([w, 1-w]) for w in np.linspace(0, 1, n_points)]\n",
        "    rets = [portfolio_return(w, er) for w in weights]\n",
        "    vols = [portfolio_vol(w, cov) for w in weights]\n",
        "    ef = pd.DataFrame({\n",
        "        \"Returns\": rets, \n",
        "        \"Volatility\": vols\n",
        "    })\n",
        "    return ef.plot.line(x=\"Volatility\", y=\"Returns\", style=\".-\")\n",
        "```\n",
        "\n",
        "A useful summary of the visualization features in pandas is [here](https://pandas.pydata.org/pandas-docs/stable/user_guide/visualization.html)\n"
      ]
    },
    {
      "cell_type": "code",
      "metadata": {
        "id": "TtknmQOb2fso",
        "colab_type": "code",
        "colab": {
          "base_uri": "https://localhost:8080/",
          "height": 405
        },
        "outputId": "ca156fed-b800-4c8f-fe3c-50dd3d6a8dac"
      },
      "source": [
        "l = [\"Fin\", \"Beer\"]\n",
        "erk.plot_ef2(25, er[l].values, cov.loc[l,l])"
      ],
      "execution_count": 19,
      "outputs": [
        {
          "output_type": "execute_result",
          "data": {
            "text/plain": [
              "<matplotlib.axes._subplots.AxesSubplot at 0x7fa44fd648d0>"
            ]
          },
          "metadata": {
            "tags": []
          },
          "execution_count": 19
        },
        {
          "output_type": "display_data",
          "data": {
            "image/png": "[encoded data removed]",
            "text/plain": [
              "<Figure size 864x432 with 1 Axes>"
            ]
          },
          "metadata": {
            "tags": [],
            "needs_background": "light"
          }
        }
      ]
    },
    {
      "cell_type": "code",
      "metadata": {
        "id": "RQ1POXef2fss",
        "colab_type": "code",
        "colab": {}
      },
      "source": [
        ""
      ],
      "execution_count": 0,
      "outputs": []
    }
  ]
}