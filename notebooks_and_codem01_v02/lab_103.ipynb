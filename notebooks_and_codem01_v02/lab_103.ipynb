{
  "nbformat": 4,
  "nbformat_minor": 0,
  "metadata": {
    "kernelspec": {
      "display_name": "Python 3",
      "language": "python",
      "name": "python3"
    },
    "language_info": {
      "codemirror_mode": {
        "name": "ipython",
        "version": 3
      },
      "file_extension": ".py",
      "mimetype": "text/x-python",
      "name": "python",
      "nbconvert_exporter": "python",
      "pygments_lexer": "ipython3",
      "version": "3.7.3"
    },
    "colab": {
      "name": "lab_103.ipynb",
      "provenance": [],
      "collapsed_sections": []
    }
  },
  "cells": [
    {
      "cell_type": "markdown",
      "metadata": {
        "id": "IvRQefsQXSzp",
        "colab_type": "text"
      },
      "source": [
        "# Computing Maximum Drawdown\n",
        "\n",
        "In this lab, we'll develop the code to compute the maximum drawdown of a return series, and we'll start to develop our own module which will act as a toolkit that we will add to during the course.\n",
        "\n",
        "First, let's read the return series we processed in the previous lab:\n"
      ]
    },
    {
      "cell_type": "code",
      "metadata": {
        "id": "UAPNXyxHXm6c",
        "colab_type": "code",
        "colab": {
          "base_uri": "https://localhost:8080/",
          "height": 127
        },
        "outputId": "704b2846-9bd1-4900-af95-66fc16859bca"
      },
      "source": [
        "from google.colab import drive\n",
        "drive.mount('/content/drive')"
      ],
      "execution_count": 2,
      "outputs": [
        {
          "output_type": "stream",
          "text": [
            "Go to this URL in a browser: https://accounts.google.com/o/oauth2/auth?client_id=947318989803-6bn6qk8qdgf4n4g3pfee6491hc0brc4i.apps.googleusercontent.com&redirect_uri=urn%3aietf%3awg%3aoauth%3a2.0%3aoob&response_type=code&scope=email%20https%3a%2f%2fwww.googleapis.com%2fauth%2fdocs.test%20https%3a%2f%2fwww.googleapis.com%2fauth%2fdrive%20https%3a%2f%2fwww.googleapis.com%2fauth%2fdrive.photos.readonly%20https%3a%2f%2fwww.googleapis.com%2fauth%2fpeopleapi.readonly\n",
            "\n",
            "Enter your authorization code:\n",
            "··········\n",
            "Mounted at /content/drive\n"
          ],
          "name": "stdout"
        }
      ]
    },
    {
      "cell_type": "code",
      "metadata": {
        "id": "JBmeBVZIXzsi",
        "colab_type": "code",
        "colab": {
          "base_uri": "https://localhost:8080/",
          "height": 59
        },
        "outputId": "39b088b0-0ece-4f87-ec8f-ac327b78190c"
      },
      "source": [
        "import os\n",
        "\n",
        "DATAPATH = '/content/drive/My Drive/Coursera/EDHEC/investment-portfolio/data'\n",
        "print(f\"DATAPATH:{DATAPATH} contents:{os.listdir(DATAPATH)}\")"
      ],
      "execution_count": 3,
      "outputs": [
        {
          "output_type": "stream",
          "text": [
            "DATAPATH:/content/drive/My Drive/Coursera/EDHEC/investment-portfolio/data contents:['sample_prices.csv', 'Portfolios_Formed_on_ME_monthly_EW.csv']\n"
          ],
          "name": "stdout"
        }
      ]
    },
    {
      "cell_type": "code",
      "metadata": {
        "id": "3FYiwUo7XSzs",
        "colab_type": "code",
        "colab": {
          "base_uri": "https://localhost:8080/",
          "height": 283
        },
        "outputId": "05d8b48c-d7be-4cf5-c111-20988e85f6fd"
      },
      "source": [
        "import pandas as pd\n",
        "\n",
        "me_m = pd.read_csv(DATAPATH + \"/Portfolios_Formed_on_ME_monthly_EW.csv\",\n",
        "                   header=0, index_col=0, parse_dates=True, na_values=-99.99)\n",
        "rets = me_m[['Lo 10', 'Hi 10']]\n",
        "rets.columns = ['SmallCap', 'LargeCap']\n",
        "rets = rets/100\n",
        "rets.plot.line()"
      ],
      "execution_count": 4,
      "outputs": [
        {
          "output_type": "execute_result",
          "data": {
            "text/plain": [
              "<matplotlib.axes._subplots.AxesSubplot at 0x7f2231857d68>"
            ]
          },
          "metadata": {
            "tags": []
          },
          "execution_count": 4
        },
        {
          "output_type": "display_data",
          "data": {
            "image/png": "[encoded data removed]",
            "text/plain": [
              "<Figure size 432x288 with 1 Axes>"
            ]
          },
          "metadata": {
            "tags": [],
            "needs_background": "light"
          }
        }
      ]
    },
    {
      "cell_type": "markdown",
      "metadata": {
        "id": "kxgsFpXSXSz9",
        "colab_type": "text"
      },
      "source": [
        "## Timeseries - forcing the index to be a datetime\n",
        "\n",
        "We asked Pandas to `parse_dates` in `read_csv()`. Let's check if it was able to do so with the index:"
      ]
    },
    {
      "cell_type": "code",
      "metadata": {
        "id": "mWucsHJxXSz_",
        "colab_type": "code",
        "colab": {
          "base_uri": "https://localhost:8080/",
          "height": 119
        },
        "outputId": "5c68bed5-8a83-4622-d8d4-807748c39a5e"
      },
      "source": [
        "rets.index"
      ],
      "execution_count": 5,
      "outputs": [
        {
          "output_type": "execute_result",
          "data": {
            "text/plain": [
              "Int64Index([192607, 192608, 192609, 192610, 192611, 192612, 192701, 192702,\n",
              "            192703, 192704,\n",
              "            ...\n",
              "            201803, 201804, 201805, 201806, 201807, 201808, 201809, 201810,\n",
              "            201811, 201812],\n",
              "           dtype='int64', length=1110)"
            ]
          },
          "metadata": {
            "tags": []
          },
          "execution_count": 5
        }
      ]
    },
    {
      "cell_type": "markdown",
      "metadata": {
        "id": "5fxDGVzBXS0K",
        "colab_type": "text"
      },
      "source": [
        "The `dtype` is `int64` which suggests that it was not automatically converted to a date time index, so let's do that now manually. The simplest way to force it to be a timeseries is by reformatting the index data to a `datetime` type as follows:"
      ]
    },
    {
      "cell_type": "code",
      "metadata": {
        "id": "itSVJ0HHXS0M",
        "colab_type": "code",
        "colab": {
          "base_uri": "https://localhost:8080/",
          "height": 153
        },
        "outputId": "f25926cc-6a81-4c22-832f-754e17aef24f"
      },
      "source": [
        "rets.index = pd.to_datetime(rets.index, format=\"%Y%m\")\n",
        "rets.index"
      ],
      "execution_count": 6,
      "outputs": [
        {
          "output_type": "execute_result",
          "data": {
            "text/plain": [
              "DatetimeIndex(['1926-07-01', '1926-08-01', '1926-09-01', '1926-10-01',\n",
              "               '1926-11-01', '1926-12-01', '1927-01-01', '1927-02-01',\n",
              "               '1927-03-01', '1927-04-01',\n",
              "               ...\n",
              "               '2018-03-01', '2018-04-01', '2018-05-01', '2018-06-01',\n",
              "               '2018-07-01', '2018-08-01', '2018-09-01', '2018-10-01',\n",
              "               '2018-11-01', '2018-12-01'],\n",
              "              dtype='datetime64[ns]', length=1110, freq=None)"
            ]
          },
          "metadata": {
            "tags": []
          },
          "execution_count": 6
        }
      ]
    },
    {
      "cell_type": "markdown",
      "metadata": {
        "id": "VWHVIw4lXS0V",
        "colab_type": "text"
      },
      "source": [
        "Now that the DataFrame has a datetime index, we can treat the entire dataframe as a timeseries, which makes things very convenient. For instance, we can extract just the returns in 2008 as follows:"
      ]
    },
    {
      "cell_type": "code",
      "metadata": {
        "id": "Dio_4_IBXS0W",
        "colab_type": "code",
        "colab": {
          "base_uri": "https://localhost:8080/",
          "height": 421
        },
        "outputId": "3e4b062d-8c04-4137-ca3b-fa5891c8fd92"
      },
      "source": [
        "rets[\"2008\"]"
      ],
      "execution_count": 7,
      "outputs": [
        {
          "output_type": "execute_result",
          "data": {
            "text/html": [
              "<div>\n",
              "<style scoped>\n",
              "    .dataframe tbody tr th:only-of-type {\n",
              "        vertical-align: middle;\n",
              "    }\n",
              "\n",
              "    .dataframe tbody tr th {\n",
              "        vertical-align: top;\n",
              "    }\n",
              "\n",
              "    .dataframe thead th {\n",
              "        text-align: right;\n",
              "    }\n",
              "</style>\n",
              "<table border=\"1\" class=\"dataframe\">\n",
              "  <thead>\n",
              "    <tr style=\"text-align: right;\">\n",
              "      <th></th>\n",
              "      <th>SmallCap</th>\n",
              "      <th>LargeCap</th>\n",
              "    </tr>\n",
              "  </thead>\n",
              "  <tbody>\n",
              "    <tr>\n",
              "      <th>2008-01-01</th>\n",
              "      <td>-0.0436</td>\n",
              "      <td>-0.0490</td>\n",
              "    </tr>\n",
              "    <tr>\n",
              "      <th>2008-02-01</th>\n",
              "      <td>-0.0203</td>\n",
              "      <td>-0.0250</td>\n",
              "    </tr>\n",
              "    <tr>\n",
              "      <th>2008-03-01</th>\n",
              "      <td>-0.0440</td>\n",
              "      <td>-0.0122</td>\n",
              "    </tr>\n",
              "    <tr>\n",
              "      <th>2008-04-01</th>\n",
              "      <td>0.0027</td>\n",
              "      <td>0.0492</td>\n",
              "    </tr>\n",
              "    <tr>\n",
              "      <th>2008-05-01</th>\n",
              "      <td>0.0286</td>\n",
              "      <td>0.0161</td>\n",
              "    </tr>\n",
              "    <tr>\n",
              "      <th>2008-06-01</th>\n",
              "      <td>-0.0816</td>\n",
              "      <td>-0.1015</td>\n",
              "    </tr>\n",
              "    <tr>\n",
              "      <th>2008-07-01</th>\n",
              "      <td>-0.0079</td>\n",
              "      <td>-0.0140</td>\n",
              "    </tr>\n",
              "    <tr>\n",
              "      <th>2008-08-01</th>\n",
              "      <td>0.0110</td>\n",
              "      <td>0.0087</td>\n",
              "    </tr>\n",
              "    <tr>\n",
              "      <th>2008-09-01</th>\n",
              "      <td>-0.1274</td>\n",
              "      <td>-0.1155</td>\n",
              "    </tr>\n",
              "    <tr>\n",
              "      <th>2008-10-01</th>\n",
              "      <td>-0.2041</td>\n",
              "      <td>-0.1763</td>\n",
              "    </tr>\n",
              "    <tr>\n",
              "      <th>2008-11-01</th>\n",
              "      <td>-0.1650</td>\n",
              "      <td>-0.0735</td>\n",
              "    </tr>\n",
              "    <tr>\n",
              "      <th>2008-12-01</th>\n",
              "      <td>-0.0019</td>\n",
              "      <td>0.0205</td>\n",
              "    </tr>\n",
              "  </tbody>\n",
              "</table>\n",
              "</div>"
            ],
            "text/plain": [
              "            SmallCap  LargeCap\n",
              "2008-01-01   -0.0436   -0.0490\n",
              "2008-02-01   -0.0203   -0.0250\n",
              "2008-03-01   -0.0440   -0.0122\n",
              "2008-04-01    0.0027    0.0492\n",
              "2008-05-01    0.0286    0.0161\n",
              "2008-06-01   -0.0816   -0.1015\n",
              "2008-07-01   -0.0079   -0.0140\n",
              "2008-08-01    0.0110    0.0087\n",
              "2008-09-01   -0.1274   -0.1155\n",
              "2008-10-01   -0.2041   -0.1763\n",
              "2008-11-01   -0.1650   -0.0735\n",
              "2008-12-01   -0.0019    0.0205"
            ]
          },
          "metadata": {
            "tags": []
          },
          "execution_count": 7
        }
      ]
    },
    {
      "cell_type": "markdown",
      "metadata": {
        "id": "8qenrJuWXS0d",
        "colab_type": "text"
      },
      "source": [
        "This looks good except that we know this is monthly data, and it's showing up with an index that is date stamped. We can fix this using the `to_period` method. We'll see several more examples of Pandas support for timeseries during the course."
      ]
    },
    {
      "cell_type": "code",
      "metadata": {
        "id": "ztFoR8K7XS0e",
        "colab_type": "code",
        "colab": {
          "base_uri": "https://localhost:8080/",
          "height": 204
        },
        "outputId": "98dfcffe-dea5-49d9-8a4d-0af185f01edb"
      },
      "source": [
        "rets.index = rets.index.to_period('M')\n",
        "rets.head()"
      ],
      "execution_count": 8,
      "outputs": [
        {
          "output_type": "execute_result",
          "data": {
            "text/html": [
              "<div>\n",
              "<style scoped>\n",
              "    .dataframe tbody tr th:only-of-type {\n",
              "        vertical-align: middle;\n",
              "    }\n",
              "\n",
              "    .dataframe tbody tr th {\n",
              "        vertical-align: top;\n",
              "    }\n",
              "\n",
              "    .dataframe thead th {\n",
              "        text-align: right;\n",
              "    }\n",
              "</style>\n",
              "<table border=\"1\" class=\"dataframe\">\n",
              "  <thead>\n",
              "    <tr style=\"text-align: right;\">\n",
              "      <th></th>\n",
              "      <th>SmallCap</th>\n",
              "      <th>LargeCap</th>\n",
              "    </tr>\n",
              "  </thead>\n",
              "  <tbody>\n",
              "    <tr>\n",
              "      <th>1926-07</th>\n",
              "      <td>-0.0145</td>\n",
              "      <td>0.0329</td>\n",
              "    </tr>\n",
              "    <tr>\n",
              "      <th>1926-08</th>\n",
              "      <td>0.0512</td>\n",
              "      <td>0.0370</td>\n",
              "    </tr>\n",
              "    <tr>\n",
              "      <th>1926-09</th>\n",
              "      <td>0.0093</td>\n",
              "      <td>0.0067</td>\n",
              "    </tr>\n",
              "    <tr>\n",
              "      <th>1926-10</th>\n",
              "      <td>-0.0484</td>\n",
              "      <td>-0.0243</td>\n",
              "    </tr>\n",
              "    <tr>\n",
              "      <th>1926-11</th>\n",
              "      <td>-0.0078</td>\n",
              "      <td>0.0270</td>\n",
              "    </tr>\n",
              "  </tbody>\n",
              "</table>\n",
              "</div>"
            ],
            "text/plain": [
              "         SmallCap  LargeCap\n",
              "1926-07   -0.0145    0.0329\n",
              "1926-08    0.0512    0.0370\n",
              "1926-09    0.0093    0.0067\n",
              "1926-10   -0.0484   -0.0243\n",
              "1926-11   -0.0078    0.0270"
            ]
          },
          "metadata": {
            "tags": []
          },
          "execution_count": 8
        }
      ]
    },
    {
      "cell_type": "code",
      "metadata": {
        "id": "zxezrrE0XS0j",
        "colab_type": "code",
        "colab": {
          "base_uri": "https://localhost:8080/",
          "height": 187
        },
        "outputId": "aed7be18-3556-406f-b557-e90a5f114f9d"
      },
      "source": [
        "rets.info()"
      ],
      "execution_count": 9,
      "outputs": [
        {
          "output_type": "stream",
          "text": [
            "<class 'pandas.core.frame.DataFrame'>\n",
            "PeriodIndex: 1110 entries, 1926-07 to 2018-12\n",
            "Freq: M\n",
            "Data columns (total 2 columns):\n",
            " #   Column    Non-Null Count  Dtype  \n",
            "---  ------    --------------  -----  \n",
            " 0   SmallCap  1110 non-null   float64\n",
            " 1   LargeCap  1110 non-null   float64\n",
            "dtypes: float64(2)\n",
            "memory usage: 26.0 KB\n"
          ],
          "name": "stdout"
        }
      ]
    },
    {
      "cell_type": "code",
      "metadata": {
        "id": "082GeDl9XS0q",
        "colab_type": "code",
        "colab": {
          "base_uri": "https://localhost:8080/",
          "height": 297
        },
        "outputId": "e12c5496-f234-4785-f184-0a55ed8bb0de"
      },
      "source": [
        "rets.describe()"
      ],
      "execution_count": 10,
      "outputs": [
        {
          "output_type": "execute_result",
          "data": {
            "text/html": [
              "<div>\n",
              "<style scoped>\n",
              "    .dataframe tbody tr th:only-of-type {\n",
              "        vertical-align: middle;\n",
              "    }\n",
              "\n",
              "    .dataframe tbody tr th {\n",
              "        vertical-align: top;\n",
              "    }\n",
              "\n",
              "    .dataframe thead th {\n",
              "        text-align: right;\n",
              "    }\n",
              "</style>\n",
              "<table border=\"1\" class=\"dataframe\">\n",
              "  <thead>\n",
              "    <tr style=\"text-align: right;\">\n",
              "      <th></th>\n",
              "      <th>SmallCap</th>\n",
              "      <th>LargeCap</th>\n",
              "    </tr>\n",
              "  </thead>\n",
              "  <tbody>\n",
              "    <tr>\n",
              "      <th>count</th>\n",
              "      <td>1110.000000</td>\n",
              "      <td>1110.000000</td>\n",
              "    </tr>\n",
              "    <tr>\n",
              "      <th>mean</th>\n",
              "      <td>0.017598</td>\n",
              "      <td>0.008870</td>\n",
              "    </tr>\n",
              "    <tr>\n",
              "      <th>std</th>\n",
              "      <td>0.106288</td>\n",
              "      <td>0.053900</td>\n",
              "    </tr>\n",
              "    <tr>\n",
              "      <th>min</th>\n",
              "      <td>-0.291400</td>\n",
              "      <td>-0.284300</td>\n",
              "    </tr>\n",
              "    <tr>\n",
              "      <th>25%</th>\n",
              "      <td>-0.027350</td>\n",
              "      <td>-0.017025</td>\n",
              "    </tr>\n",
              "    <tr>\n",
              "      <th>50%</th>\n",
              "      <td>0.010450</td>\n",
              "      <td>0.011400</td>\n",
              "    </tr>\n",
              "    <tr>\n",
              "      <th>75%</th>\n",
              "      <td>0.049950</td>\n",
              "      <td>0.037650</td>\n",
              "    </tr>\n",
              "    <tr>\n",
              "      <th>max</th>\n",
              "      <td>1.342900</td>\n",
              "      <td>0.377900</td>\n",
              "    </tr>\n",
              "  </tbody>\n",
              "</table>\n",
              "</div>"
            ],
            "text/plain": [
              "          SmallCap     LargeCap\n",
              "count  1110.000000  1110.000000\n",
              "mean      0.017598     0.008870\n",
              "std       0.106288     0.053900\n",
              "min      -0.291400    -0.284300\n",
              "25%      -0.027350    -0.017025\n",
              "50%       0.010450     0.011400\n",
              "75%       0.049950     0.037650\n",
              "max       1.342900     0.377900"
            ]
          },
          "metadata": {
            "tags": []
          },
          "execution_count": 10
        }
      ]
    },
    {
      "cell_type": "markdown",
      "metadata": {
        "id": "44VfkSXhXS0u",
        "colab_type": "text"
      },
      "source": [
        "## Computing Drawdowns\n",
        "\n",
        "1. Convert the time series of returns to a time series that represents a wealth index\n",
        "2. Compute a time series of the previous peaks\n",
        "3. Compute the Drawdown as the difference between the previous peak and the current value\n",
        "\n",
        "Let's do this for Large Cap stocks."
      ]
    },
    {
      "cell_type": "code",
      "metadata": {
        "id": "5lHYpYSiXS0v",
        "colab_type": "code",
        "colab": {
          "base_uri": "https://localhost:8080/",
          "height": 293
        },
        "outputId": "2255fc1b-11a8-479f-ea1d-072da36f324f"
      },
      "source": [
        "wealth_index = 1000*(1+rets[\"LargeCap\"]).cumprod()\n",
        "wealth_index.plot()"
      ],
      "execution_count": 11,
      "outputs": [
        {
          "output_type": "execute_result",
          "data": {
            "text/plain": [
              "<matplotlib.axes._subplots.AxesSubplot at 0x7f2231754780>"
            ]
          },
          "metadata": {
            "tags": []
          },
          "execution_count": 11
        },
        {
          "output_type": "display_data",
          "data": {
            "image/png": "[encoded data removed]",
            "text/plain": [
              "<Figure size 432x288 with 1 Axes>"
            ]
          },
          "metadata": {
            "tags": [],
            "needs_background": "light"
          }
        }
      ]
    },
    {
      "cell_type": "code",
      "metadata": {
        "id": "oE5Npf5TXS00",
        "colab_type": "code",
        "colab": {
          "base_uri": "https://localhost:8080/",
          "height": 293
        },
        "outputId": "8d5ece66-a90e-425e-8b8d-023c39f4e53b"
      },
      "source": [
        "previous_peaks = wealth_index.cummax()\n",
        "previous_peaks.plot()"
      ],
      "execution_count": 12,
      "outputs": [
        {
          "output_type": "execute_result",
          "data": {
            "text/plain": [
              "<matplotlib.axes._subplots.AxesSubplot at 0x7f2231247b70>"
            ]
          },
          "metadata": {
            "tags": []
          },
          "execution_count": 12
        },
        {
          "output_type": "display_data",
          "data": {
            "image/png": "[encoded data removed]",
            "text/plain": [
              "<Figure size 432x288 with 1 Axes>"
            ]
          },
          "metadata": {
            "tags": [],
            "needs_background": "light"
          }
        }
      ]
    },
    {
      "cell_type": "code",
      "metadata": {
        "id": "JQ5Q81VZXS05",
        "colab_type": "code",
        "colab": {
          "base_uri": "https://localhost:8080/",
          "height": 282
        },
        "outputId": "59abd861-1cba-4690-f73f-c5deedc21128"
      },
      "source": [
        "drawdown = (wealth_index - previous_peaks)/previous_peaks\n",
        "drawdown.plot()"
      ],
      "execution_count": 13,
      "outputs": [
        {
          "output_type": "execute_result",
          "data": {
            "text/plain": [
              "<matplotlib.axes._subplots.AxesSubplot at 0x7f22311dd4a8>"
            ]
          },
          "metadata": {
            "tags": []
          },
          "execution_count": 13
        },
        {
          "output_type": "display_data",
          "data": {
            "image/png": "[encoded data removed]",
            "text/plain": [
              "<Figure size 432x288 with 1 Axes>"
            ]
          },
          "metadata": {
            "tags": [],
            "needs_background": "light"
          }
        }
      ]
    },
    {
      "cell_type": "code",
      "metadata": {
        "id": "FgW-V_usXS0-",
        "colab_type": "code",
        "colab": {
          "base_uri": "https://localhost:8080/",
          "height": 34
        },
        "outputId": "3495570f-d73f-4fd4-b1bc-111d34d7acbf"
      },
      "source": [
        "drawdown.min()"
      ],
      "execution_count": 14,
      "outputs": [
        {
          "output_type": "execute_result",
          "data": {
            "text/plain": [
              "-0.8400375277943123"
            ]
          },
          "metadata": {
            "tags": []
          },
          "execution_count": 14
        }
      ]
    },
    {
      "cell_type": "code",
      "metadata": {
        "id": "m9bXcL4DXS1C",
        "colab_type": "code",
        "colab": {
          "base_uri": "https://localhost:8080/",
          "height": 282
        },
        "outputId": "d35bdd94-d092-4a08-caf0-170b8e439329"
      },
      "source": [
        "drawdown[\"1975\":].plot()"
      ],
      "execution_count": 15,
      "outputs": [
        {
          "output_type": "execute_result",
          "data": {
            "text/plain": [
              "<matplotlib.axes._subplots.AxesSubplot at 0x7f22310f42b0>"
            ]
          },
          "metadata": {
            "tags": []
          },
          "execution_count": 15
        },
        {
          "output_type": "display_data",
          "data": {
            "image/png": "[encoded data removed]",
            "text/plain": [
              "<Figure size 432x288 with 1 Axes>"
            ]
          },
          "metadata": {
            "tags": [],
            "needs_background": "light"
          }
        }
      ]
    },
    {
      "cell_type": "code",
      "metadata": {
        "id": "076VqvStXS1H",
        "colab_type": "code",
        "colab": {
          "base_uri": "https://localhost:8080/",
          "height": 34
        },
        "outputId": "3fd1d0bb-8ec3-41a3-d358-543855d3ce3d"
      },
      "source": [
        "drawdown[\"1975\":].min()"
      ],
      "execution_count": 16,
      "outputs": [
        {
          "output_type": "execute_result",
          "data": {
            "text/plain": [
              "-0.5280945042309304"
            ]
          },
          "metadata": {
            "tags": []
          },
          "execution_count": 16
        }
      ]
    },
    {
      "cell_type": "markdown",
      "metadata": {
        "id": "qJF29ZXPXS1L",
        "colab_type": "text"
      },
      "source": [
        "# Creating a Drawdown Function\n",
        "\n",
        "Redoing this analysis for SmallCap would be tedious, since we would need to re-enter all these commands at the prompt. Instead, let's create our first function that will form the first tool in our financial toolkit.\n",
        "\n",
        "The function will take as input, a timeseries of returns, and return a timeseries as a DataFrame that contains the wealth index, the previous peaks and the drawdowns as a percent."
      ]
    },
    {
      "cell_type": "code",
      "metadata": {
        "id": "J-UzloJsXS1M",
        "colab_type": "code",
        "colab": {
          "base_uri": "https://localhost:8080/",
          "height": 204
        },
        "outputId": "d3b54419-d300-40aa-941c-1b20d32a9ca1"
      },
      "source": [
        "def drawdown(return_series: pd.Series):\n",
        "    \"\"\"Takes a time series of asset returns.\n",
        "       returns a DataFrame with columns for\n",
        "       the wealth index, \n",
        "       the previous peaks, and \n",
        "       the percentage drawdown\n",
        "    \"\"\"\n",
        "    wealth_index = 1000*(1+return_series).cumprod()\n",
        "    previous_peaks = wealth_index.cummax()\n",
        "    drawdowns = (wealth_index - previous_peaks)/previous_peaks\n",
        "    return pd.DataFrame({\"Wealth\": wealth_index, \n",
        "                         \"Previous Peak\": previous_peaks, \n",
        "                         \"Drawdown\": drawdowns})\n",
        "\n",
        "drawdown(rets[\"LargeCap\"]).head()"
      ],
      "execution_count": 17,
      "outputs": [
        {
          "output_type": "execute_result",
          "data": {
            "text/html": [
              "<div>\n",
              "<style scoped>\n",
              "    .dataframe tbody tr th:only-of-type {\n",
              "        vertical-align: middle;\n",
              "    }\n",
              "\n",
              "    .dataframe tbody tr th {\n",
              "        vertical-align: top;\n",
              "    }\n",
              "\n",
              "    .dataframe thead th {\n",
              "        text-align: right;\n",
              "    }\n",
              "</style>\n",
              "<table border=\"1\" class=\"dataframe\">\n",
              "  <thead>\n",
              "    <tr style=\"text-align: right;\">\n",
              "      <th></th>\n",
              "      <th>Wealth</th>\n",
              "      <th>Previous Peak</th>\n",
              "      <th>Drawdown</th>\n",
              "    </tr>\n",
              "  </thead>\n",
              "  <tbody>\n",
              "    <tr>\n",
              "      <th>1926-07</th>\n",
              "      <td>1032.900000</td>\n",
              "      <td>1032.900000</td>\n",
              "      <td>0.0000</td>\n",
              "    </tr>\n",
              "    <tr>\n",
              "      <th>1926-08</th>\n",
              "      <td>1071.117300</td>\n",
              "      <td>1071.117300</td>\n",
              "      <td>0.0000</td>\n",
              "    </tr>\n",
              "    <tr>\n",
              "      <th>1926-09</th>\n",
              "      <td>1078.293786</td>\n",
              "      <td>1078.293786</td>\n",
              "      <td>0.0000</td>\n",
              "    </tr>\n",
              "    <tr>\n",
              "      <th>1926-10</th>\n",
              "      <td>1052.091247</td>\n",
              "      <td>1078.293786</td>\n",
              "      <td>-0.0243</td>\n",
              "    </tr>\n",
              "    <tr>\n",
              "      <th>1926-11</th>\n",
              "      <td>1080.497711</td>\n",
              "      <td>1080.497711</td>\n",
              "      <td>0.0000</td>\n",
              "    </tr>\n",
              "  </tbody>\n",
              "</table>\n",
              "</div>"
            ],
            "text/plain": [
              "              Wealth  Previous Peak  Drawdown\n",
              "1926-07  1032.900000    1032.900000    0.0000\n",
              "1926-08  1071.117300    1071.117300    0.0000\n",
              "1926-09  1078.293786    1078.293786    0.0000\n",
              "1926-10  1052.091247    1078.293786   -0.0243\n",
              "1926-11  1080.497711    1080.497711    0.0000"
            ]
          },
          "metadata": {
            "tags": []
          },
          "execution_count": 17
        }
      ]
    },
    {
      "cell_type": "code",
      "metadata": {
        "id": "dakWlWMyXS1Q",
        "colab_type": "code",
        "colab": {
          "base_uri": "https://localhost:8080/",
          "height": 85
        },
        "outputId": "b10c0e62-76a3-4980-ac9a-3110c9ce67b5"
      },
      "source": [
        "drawdown(rets[\"LargeCap\"]).min()"
      ],
      "execution_count": 18,
      "outputs": [
        {
          "output_type": "execute_result",
          "data": {
            "text/plain": [
              "Wealth            405.769102\n",
              "Previous Peak    1032.900000\n",
              "Drawdown           -0.840038\n",
              "dtype: float64"
            ]
          },
          "metadata": {
            "tags": []
          },
          "execution_count": 18
        }
      ]
    },
    {
      "cell_type": "code",
      "metadata": {
        "id": "UBKO2gEXXS1U",
        "colab_type": "code",
        "colab": {
          "base_uri": "https://localhost:8080/",
          "height": 85
        },
        "outputId": "b174f850-bf79-4589-de21-2cdf2fcf2de5"
      },
      "source": [
        "drawdown(rets[\"SmallCap\"]).min()"
      ],
      "execution_count": 19,
      "outputs": [
        {
          "output_type": "execute_result",
          "data": {
            "text/plain": [
              "Wealth           491.240323\n",
              "Previous Peak    985.500000\n",
              "Drawdown          -0.833001\n",
              "dtype: float64"
            ]
          },
          "metadata": {
            "tags": []
          },
          "execution_count": 19
        }
      ]
    },
    {
      "cell_type": "code",
      "metadata": {
        "id": "muRX1uGHXS1Y",
        "colab_type": "code",
        "colab": {},
        "outputId": "5b087e06-df65-4b98-9f63-f9ad07292958"
      },
      "source": [
        "drawdown(rets[\"LargeCap\"])[\"Drawdown\"].idxmin()"
      ],
      "execution_count": 0,
      "outputs": [
        {
          "output_type": "execute_result",
          "data": {
            "text/plain": [
              "Period('1932-05', 'M')"
            ]
          },
          "metadata": {
            "tags": []
          },
          "execution_count": 17
        }
      ]
    },
    {
      "cell_type": "code",
      "metadata": {
        "id": "oYa73F9pXS1c",
        "colab_type": "code",
        "colab": {},
        "outputId": "a58c5e94-c67d-47bb-fe6f-e1f6e835e261"
      },
      "source": [
        "drawdown(rets[\"SmallCap\"])[\"Drawdown\"].idxmin()"
      ],
      "execution_count": 0,
      "outputs": [
        {
          "output_type": "execute_result",
          "data": {
            "text/plain": [
              "Period('1932-05', 'M')"
            ]
          },
          "metadata": {
            "tags": []
          },
          "execution_count": 18
        }
      ]
    },
    {
      "cell_type": "code",
      "metadata": {
        "id": "J3vs1FBXXS1g",
        "colab_type": "code",
        "colab": {},
        "outputId": "93a63e34-f5da-42a7-af89-d74f777488cf"
      },
      "source": [
        "drawdown(rets[\"LargeCap\"][\"1975\":])[\"Drawdown\"].idxmin()"
      ],
      "execution_count": 0,
      "outputs": [
        {
          "output_type": "execute_result",
          "data": {
            "text/plain": [
              "Period('2009-02', 'M')"
            ]
          },
          "metadata": {
            "tags": []
          },
          "execution_count": 19
        }
      ]
    },
    {
      "cell_type": "code",
      "metadata": {
        "id": "CsZLwiCWXS1k",
        "colab_type": "code",
        "colab": {},
        "outputId": "f71ec0da-e12c-4a74-f449-38843241d11d"
      },
      "source": [
        "drawdown(rets[\"SmallCap\"][\"1975\":])[\"Drawdown\"].idxmin()"
      ],
      "execution_count": 0,
      "outputs": [
        {
          "output_type": "execute_result",
          "data": {
            "text/plain": [
              "Period('2009-02', 'M')"
            ]
          },
          "metadata": {
            "tags": []
          },
          "execution_count": 20
        }
      ]
    },
    {
      "cell_type": "code",
      "metadata": {
        "id": "CABR1ZtkXS1o",
        "colab_type": "code",
        "colab": {},
        "outputId": "4e10078f-6f10-4c3a-e4b6-65e6e2bdd1bb"
      },
      "source": [
        "drawdown(rets[\"SmallCap\"][\"1975\":])[\"Drawdown\"].min()"
      ],
      "execution_count": 0,
      "outputs": [
        {
          "output_type": "execute_result",
          "data": {
            "text/plain": [
              "-0.6312068077252386"
            ]
          },
          "metadata": {
            "tags": []
          },
          "execution_count": 21
        }
      ]
    },
    {
      "cell_type": "code",
      "metadata": {
        "id": "QgrEBlfZXS1s",
        "colab_type": "code",
        "colab": {}
      },
      "source": [
        ""
      ],
      "execution_count": 0,
      "outputs": []
    }
  ]
}