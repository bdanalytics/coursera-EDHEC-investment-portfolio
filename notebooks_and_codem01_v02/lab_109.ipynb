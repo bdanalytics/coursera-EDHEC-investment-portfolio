{
  "nbformat": 4,
  "nbformat_minor": 0,
  "metadata": {
    "kernelspec": {
      "display_name": "Python 3",
      "language": "python",
      "name": "python3"
    },
    "language_info": {
      "codemirror_mode": {
        "name": "ipython",
        "version": 3
      },
      "file_extension": ".py",
      "mimetype": "text/x-python",
      "name": "python",
      "nbconvert_exporter": "python",
      "pygments_lexer": "ipython3",
      "version": "3.7.3"
    },
    "colab": {
      "name": "lab_109.ipynb",
      "provenance": [],
      "collapsed_sections": []
    }
  },
  "cells": [
    {
      "cell_type": "code",
      "metadata": {
        "id": "WO5iPmzbAlbV",
        "colab_type": "code",
        "colab": {
          "base_uri": "https://localhost:8080/",
          "height": 127
        },
        "outputId": "0657bdef-f688-45fb-f475-791690676428"
      },
      "source": [
        "%load_ext autoreload\n",
        "%autoreload 2\n",
        "%matplotlib inline\n",
        "\n",
        "from google.colab import drive\n",
        "drive.mount('/content/drive')"
      ],
      "execution_count": 1,
      "outputs": [
        {
          "output_type": "stream",
          "text": [
            "Go to this URL in a browser: https://accounts.google.com/o/oauth2/auth?client_id=947318989803-6bn6qk8qdgf4n4g3pfee6491hc0brc4i.apps.googleusercontent.com&redirect_uri=urn%3aietf%3awg%3aoauth%3a2.0%3aoob&response_type=code&scope=email%20https%3a%2f%2fwww.googleapis.com%2fauth%2fdocs.test%20https%3a%2f%2fwww.googleapis.com%2fauth%2fdrive%20https%3a%2f%2fwww.googleapis.com%2fauth%2fdrive.photos.readonly%20https%3a%2f%2fwww.googleapis.com%2fauth%2fpeopleapi.readonly\n",
            "\n",
            "Enter your authorization code:\n",
            "··········\n",
            "Mounted at /content/drive\n"
          ],
          "name": "stdout"
        }
      ]
    },
    {
      "cell_type": "code",
      "metadata": {
        "id": "2UWHAm2zCAIP",
        "colab_type": "code",
        "colab": {
          "base_uri": "https://localhost:8080/",
          "height": 34
        },
        "outputId": "818e02fa-8e2a-45a0-8e5c-ad86f2df0ec1"
      },
      "source": [
        "import matplotlib.pyplot as plt\n",
        "#%matplotlib plt.rcParams['figure.figsize'] = (12.0, 6.0)\n",
        "%matplotlib plt.rc('figure', figsize=(20.0, 10.0))"
      ],
      "execution_count": 6,
      "outputs": [
        {
          "output_type": "stream",
          "text": [
            "UsageError: unrecognized arguments: = (12.0, 6.0)\n"
          ],
          "name": "stderr"
        }
      ]
    },
    {
      "cell_type": "code",
      "metadata": {
        "id": "JCsZ223rA7Yc",
        "colab_type": "code",
        "colab": {
          "base_uri": "https://localhost:8080/",
          "height": 93
        },
        "outputId": "8599b277-97d5-4afb-8064-39a278f9e3d6"
      },
      "source": [
        "import os, sys\n",
        "\n",
        "DATAPATH = '/content/drive/My Drive/Coursera/EDHEC/investment-portfolio/data'\n",
        "print(f\"DATAPATH:{DATAPATH} contents:{os.listdir(DATAPATH)}\")\n",
        "\n",
        "MODULEPATH = '/content/drive/My Drive/Coursera/EDHEC/investment-portfolio/nb'\n",
        "print(f\"MODULEPATH:{MODULEPATH} contents:{os.listdir(MODULEPATH)}\")\n",
        "\n",
        "sys.path.append(MODULEPATH)\n",
        "print(f\"sys.path:{sys.path}\")\n",
        "\n",
        "import numpy as np\n",
        "import pandas as pd\n",
        "\n",
        "import edhec_risk_kit_109_BBI as erk"
      ],
      "execution_count": 18,
      "outputs": [
        {
          "output_type": "stream",
          "text": [
            "DATAPATH:/content/drive/My Drive/Coursera/EDHEC/investment-portfolio/data contents:['sample_prices.csv', 'edhec-hedgefundindices.csv', 'ind30_m_vw_rets.csv', 'Portfolios_Formed_on_ME_monthly_EW.csv', 'ind30_m_ew_rets.csv']\n",
            "MODULEPATH:/content/drive/My Drive/Coursera/EDHEC/investment-portfolio/nb contents:['lab_101.ipynb', 'lab_102.ipynb', 'lab_103.ipynb', 'hello.py', '__pycache__', 'edhec_risk_kit_104_BBI.py', 'lab_104.ipynb', 'edhec_risk_kit_105_BBI.py', 'lab_105.ipynb', 'edhec_risk_kit_106_BBI.py', 'lab_106.ipynb', 'module_1_quiz.ipynb', 'edhec_risk_kit_107_BBI.py', 'lab_107.ipynb', 'edhec_risk_kit_108_BBI.py', 'lab_108.ipynb', 'edhec_risk_kit_109_BBI.py', 'lab_109.ipynb']\n",
            "sys.path:['', '/env/python', '/usr/lib/python36.zip', '/usr/lib/python3.6', '/usr/lib/python3.6/lib-dynload', '/usr/local/lib/python3.6/dist-packages', '/usr/lib/python3/dist-packages', '/usr/local/lib/python3.6/dist-packages/IPython/extensions', '/root/.ipython', '/content/drive/My Drive/Coursera/EDHEC/investment-portfolio/nb', '/content/drive/My Drive/Coursera/EDHEC/investment-portfolio/nb']\n"
          ],
          "name": "stdout"
        }
      ]
    },
    {
      "cell_type": "markdown",
      "metadata": {
        "id": "a3pRA8iE9URu",
        "colab_type": "text"
      },
      "source": [
        "# Efficient Frontier - Part III - Running the Optimizer\n",
        "\n",
        "In order to plot the frontier for portfolios with more than 2 assets, we need to find the weights of the portfolio on the efficient frontier.\n",
        "\n",
        "We start by creating the same sort of function that we already created for the 2 asset case:\n",
        "\n",
        "```python\n",
        "\n",
        "def plot_ef(n_points, er, cov):\n",
        "    \"\"\"\n",
        "    Plots the multi-asset efficient frontier\n",
        "    \"\"\"\n",
        "    weights = ???? # we need to implement: optimal_weights(n_points, er, cov)\n",
        "    rets = [portfolio_return(w, er) for w in weights]\n",
        "    vols = [portfolio_vol(w, cov) for w in weights]\n",
        "    ef = pd.DataFrame({\n",
        "        \"Returns\": rets, \n",
        "        \"Volatility\": vols\n",
        "    })\n",
        "    return ef.plot.line(x=\"Volatility\", y=\"Returns\", style='.-')\n",
        "```\n",
        "\n",
        "But let's start by loading up the data as usual:\n"
      ]
    },
    {
      "cell_type": "code",
      "metadata": {
        "id": "xzH8vf8C9URx",
        "colab_type": "code",
        "colab": {
          "base_uri": "https://localhost:8080/",
          "height": 51
        },
        "outputId": "d2a71d5c-4d68-4b6c-8dd7-9fd5cfb1bd5b"
      },
      "source": [
        "%load_ext autoreload\n",
        "%autoreload 2\n",
        "%matplotlib inline\n",
        "import edhec_risk_kit_109_BBI as erk\n",
        "\n",
        "ind = erk.get_ind_returns(DATAPATH)\n",
        "er = erk.annualize_rets(ind[\"1996\":\"2000\"], 12)\n",
        "cov = ind[\"1996\":\"2000\"].cov()"
      ],
      "execution_count": 10,
      "outputs": [
        {
          "output_type": "stream",
          "text": [
            "The autoreload extension is already loaded. To reload it, use:\n",
            "  %reload_ext autoreload\n"
          ],
          "name": "stdout"
        }
      ]
    },
    {
      "cell_type": "markdown",
      "metadata": {
        "id": "EtqB8DLM9UR_",
        "colab_type": "text"
      },
      "source": [
        "In order to find the optimal weights, we need a function that will minimize the volatility for a given level of return.\n",
        "\n",
        "\n",
        "```python\n",
        "from scipy.optimize import minimize\n",
        "\n",
        "def minimize_vol(target_return, er, cov):\n",
        "    \"\"\"\n",
        "    Returns the optimal weights that achieve the target return\n",
        "    given a set of expected returns and a covariance matrix\n",
        "    \"\"\"\n",
        "    n = er.shape[0]\n",
        "    init_guess = np.repeat(1/n, n)\n",
        "    bounds = ((0.0, 1.0),) * n # an N-tuple of 2-tuples!\n",
        "    # construct the constraints\n",
        "    weights_sum_to_1 = {'type': 'eq',\n",
        "                        'fun': lambda weights: np.sum(weights) - 1\n",
        "    }\n",
        "    return_is_target = {'type': 'eq',\n",
        "                        'args': (er,),\n",
        "                        'fun': lambda weights, er: target_return - erk.portfolio_return(weights,er)\n",
        "    }\n",
        "    weights = minimize(erk.portfolio_vol, init_guess,\n",
        "                       args=(cov,), method='SLSQP',\n",
        "                       options={'disp': False},\n",
        "                       constraints=(weights_sum_to_1,return_is_target),\n",
        "                       bounds=bounds)\n",
        "    return weights.x\n",
        "```\n",
        "\n",
        "Let's use this to recreate the result we got from frontier for the 2-Asset optimization between \"Games\" and \"Fin\". Let's plot that efficient frontier as we did last time:"
      ]
    },
    {
      "cell_type": "code",
      "metadata": {
        "id": "I-zH1k8h9USB",
        "colab_type": "code",
        "colab": {
          "base_uri": "https://localhost:8080/",
          "height": 405
        },
        "outputId": "f5a2bd80-52bf-4d5a-d4ce-83788cb1adba"
      },
      "source": [
        "l = [\"Games\", \"Fin\"]\n",
        "erk.plot_ef2(20, er[l], cov.loc[l,l])"
      ],
      "execution_count": 13,
      "outputs": [
        {
          "output_type": "execute_result",
          "data": {
            "text/plain": [
              "<matplotlib.axes._subplots.AxesSubplot at 0x7f03844a6898>"
            ]
          },
          "metadata": {
            "tags": []
          },
          "execution_count": 13
        },
        {
          "output_type": "display_data",
          "data": {
            "image/png": "[encoded data removed]",
            "text/plain": [
              "<Figure size 864x432 with 1 Axes>"
            ]
          },
          "metadata": {
            "tags": [],
            "needs_background": "light"
          }
        }
      ]
    },
    {
      "cell_type": "markdown",
      "metadata": {
        "id": "6ITdNQPa9USK",
        "colab_type": "text"
      },
      "source": [
        "The Efficient Frontier for the protfolio that has a target return of 0.15 is approx 0.056, so let's see if our optimizer is able to locate it."
      ]
    },
    {
      "cell_type": "code",
      "metadata": {
        "id": "yFj6y4kn9USM",
        "colab_type": "code",
        "colab": {
          "base_uri": "https://localhost:8080/",
          "height": 34
        },
        "outputId": "fc765532-4883-4719-db01-4e5e5d686cb2"
      },
      "source": [
        "weights_15 = erk.minimize_vol(0.15, er[l], cov.loc[l,l])\n",
        "vol_15 = erk.portfolio_vol(weights_15, cov.loc[l,l])\n",
        "vol_15"
      ],
      "execution_count": 14,
      "outputs": [
        {
          "output_type": "execute_result",
          "data": {
            "text/plain": [
              "0.056163669406706564"
            ]
          },
          "metadata": {
            "tags": []
          },
          "execution_count": 14
        }
      ]
    },
    {
      "cell_type": "markdown",
      "metadata": {
        "id": "oCoPkd8k9UST",
        "colab_type": "text"
      },
      "source": [
        "Perfect!\n",
        "\n",
        "Now that we can find the weights to minimize the vol given a target return, we can plot the efficient frontier by dividing up the range from the highest to the lowest possible return into a grid, and finding the portfolio that targets the minimum volatility given a particular targeted rate of return.\n",
        "\n",
        "Add these:\n",
        "\n",
        "```python\n",
        "def optimal_weights(n_points, er, cov):\n",
        "    \"\"\"\n",
        "    \"\"\"\n",
        "    target_rs = np.linspace(er.min(), er.max(), n_points)\n",
        "    weights = [minimize_vol(target_return, er, cov) for target_return in target_rs]\n",
        "    return weights\n",
        "\n",
        "def plot_ef(n_points, er, cov):\n",
        "    \"\"\"\n",
        "    Plots the multi-asset efficient frontier\n",
        "    \"\"\"\n",
        "    weights = optimal_weights(n_points, er, cov) # not yet implemented!\n",
        "    rets = [portfolio_return(w, er) for w in weights]\n",
        "    vols = [portfolio_vol(w, cov) for w in weights]\n",
        "    ef = pd.DataFrame({\n",
        "        \"Returns\": rets, \n",
        "        \"Volatility\": vols\n",
        "    })\n",
        "    return ef.plot.line(x=\"Volatility\", y=\"Returns\", style='.-')\n",
        "```\n"
      ]
    },
    {
      "cell_type": "code",
      "metadata": {
        "id": "SE7DS4KB9USV",
        "colab_type": "code",
        "colab": {
          "base_uri": "https://localhost:8080/",
          "height": 514
        },
        "outputId": "e67f30fe-b2b4-4253-a163-3d1b21866538"
      },
      "source": [
        "l = [\"Smoke\", \"Fin\", \"Games\", \"Coal\"]\n",
        "erk.plot_ef(50, er[l], cov.loc[l,l])"
      ],
      "execution_count": 19,
      "outputs": [
        {
          "output_type": "execute_result",
          "data": {
            "text/plain": [
              "<matplotlib.axes._subplots.AxesSubplot at 0x7f0384353390>"
            ]
          },
          "metadata": {
            "tags": []
          },
          "execution_count": 19
        },
        {
          "output_type": "display_data",
          "data": {
            "image/png": "[encoded data removed]",
            "text/plain": [
              "<Figure size 864x576 with 1 Axes>"
            ]
          },
          "metadata": {
            "tags": [],
            "needs_background": "light"
          }
        }
      ]
    },
    {
      "cell_type": "code",
      "metadata": {
        "id": "RLXzP5xo9USc",
        "colab_type": "code",
        "colab": {}
      },
      "source": [
        ""
      ],
      "execution_count": 0,
      "outputs": []
    }
  ]
}