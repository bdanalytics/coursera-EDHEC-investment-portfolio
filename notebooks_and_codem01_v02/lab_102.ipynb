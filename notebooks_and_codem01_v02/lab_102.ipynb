{
  "nbformat": 4,
  "nbformat_minor": 0,
  "metadata": {
    "kernelspec": {
      "display_name": "Python 3",
      "language": "python",
      "name": "python3"
    },
    "language_info": {
      "codemirror_mode": {
        "name": "ipython",
        "version": 3
      },
      "file_extension": ".py",
      "mimetype": "text/x-python",
      "name": "python",
      "nbconvert_exporter": "python",
      "pygments_lexer": "ipython3",
      "version": "3.7.3"
    },
    "colab": {
      "name": "lab_102.ipynb",
      "provenance": [],
      "collapsed_sections": []
    }
  },
  "cells": [
    {
      "cell_type": "markdown",
      "metadata": {
        "id": "DcnYcyVhvIks",
        "colab_type": "text"
      },
      "source": [
        "# Volatility and Risk\n",
        "\n",
        "We've seen that the volatility is measured by the average squared deviation from the mean, which is the standard deviation.\n",
        "\n",
        "Let's read the sample returns that we've been working with."
      ]
    },
    {
      "cell_type": "code",
      "metadata": {
        "id": "PgiX1yFgvVmB",
        "colab_type": "code",
        "colab": {
          "base_uri": "https://localhost:8080/",
          "height": 127
        },
        "outputId": "a6f619b7-2190-49e9-8119-9336b8522e7c"
      },
      "source": [
        "from google.colab import drive\n",
        "drive.mount('/content/drive')"
      ],
      "execution_count": 1,
      "outputs": [
        {
          "output_type": "stream",
          "text": [
            "Go to this URL in a browser: https://accounts.google.com/o/oauth2/auth?client_id=947318989803-6bn6qk8qdgf4n4g3pfee6491hc0brc4i.apps.googleusercontent.com&redirect_uri=urn%3aietf%3awg%3aoauth%3a2.0%3aoob&response_type=code&scope=email%20https%3a%2f%2fwww.googleapis.com%2fauth%2fdocs.test%20https%3a%2f%2fwww.googleapis.com%2fauth%2fdrive%20https%3a%2f%2fwww.googleapis.com%2fauth%2fdrive.photos.readonly%20https%3a%2f%2fwww.googleapis.com%2fauth%2fpeopleapi.readonly\n",
            "\n",
            "Enter your authorization code:\n",
            "··········\n",
            "Mounted at /content/drive\n"
          ],
          "name": "stdout"
        }
      ]
    },
    {
      "cell_type": "code",
      "metadata": {
        "id": "Evv_-F2Xvjbk",
        "colab_type": "code",
        "colab": {
          "base_uri": "https://localhost:8080/",
          "height": 34
        },
        "outputId": "3febef7b-c6f9-4296-eea7-36c0d609e1b8"
      },
      "source": [
        "import os\n",
        "\n",
        "DATAPATH = '/content/drive/My Drive/Coursera/EDHEC/investment-portfolio/data'\n",
        "print(f\"DATAPATH:{DATAPATH} contents:{os.listdir(DATAPATH)}\")"
      ],
      "execution_count": 3,
      "outputs": [
        {
          "output_type": "stream",
          "text": [
            "DATAPATH:/content/drive/My Drive/Coursera/EDHEC/investment-portfolio/data contents:['sample_prices.csv']\n"
          ],
          "name": "stdout"
        }
      ]
    },
    {
      "cell_type": "code",
      "metadata": {
        "id": "Nn69AENCvIky",
        "colab_type": "code",
        "colab": {
          "base_uri": "https://localhost:8080/",
          "height": 452
        },
        "outputId": "cc8e58dd-1583-46cb-e9e1-a94deb0a253b"
      },
      "source": [
        "import pandas as pd\n",
        "prices = pd.read_csv(DATAPATH + \"/sample_prices.csv\")\n",
        "returns = prices.pct_change()\n",
        "returns"
      ],
      "execution_count": 4,
      "outputs": [
        {
          "output_type": "execute_result",
          "data": {
            "text/html": [
              "<div>\n",
              "<style scoped>\n",
              "    .dataframe tbody tr th:only-of-type {\n",
              "        vertical-align: middle;\n",
              "    }\n",
              "\n",
              "    .dataframe tbody tr th {\n",
              "        vertical-align: top;\n",
              "    }\n",
              "\n",
              "    .dataframe thead th {\n",
              "        text-align: right;\n",
              "    }\n",
              "</style>\n",
              "<table border=\"1\" class=\"dataframe\">\n",
              "  <thead>\n",
              "    <tr style=\"text-align: right;\">\n",
              "      <th></th>\n",
              "      <th>BLUE</th>\n",
              "      <th>ORANGE</th>\n",
              "    </tr>\n",
              "  </thead>\n",
              "  <tbody>\n",
              "    <tr>\n",
              "      <th>0</th>\n",
              "      <td>NaN</td>\n",
              "      <td>NaN</td>\n",
              "    </tr>\n",
              "    <tr>\n",
              "      <th>1</th>\n",
              "      <td>0.023621</td>\n",
              "      <td>0.039662</td>\n",
              "    </tr>\n",
              "    <tr>\n",
              "      <th>2</th>\n",
              "      <td>-0.021807</td>\n",
              "      <td>-0.033638</td>\n",
              "    </tr>\n",
              "    <tr>\n",
              "      <th>3</th>\n",
              "      <td>-0.031763</td>\n",
              "      <td>0.082232</td>\n",
              "    </tr>\n",
              "    <tr>\n",
              "      <th>4</th>\n",
              "      <td>0.034477</td>\n",
              "      <td>0.044544</td>\n",
              "    </tr>\n",
              "    <tr>\n",
              "      <th>5</th>\n",
              "      <td>0.037786</td>\n",
              "      <td>-0.026381</td>\n",
              "    </tr>\n",
              "    <tr>\n",
              "      <th>6</th>\n",
              "      <td>-0.011452</td>\n",
              "      <td>-0.049187</td>\n",
              "    </tr>\n",
              "    <tr>\n",
              "      <th>7</th>\n",
              "      <td>0.032676</td>\n",
              "      <td>0.117008</td>\n",
              "    </tr>\n",
              "    <tr>\n",
              "      <th>8</th>\n",
              "      <td>-0.012581</td>\n",
              "      <td>0.067353</td>\n",
              "    </tr>\n",
              "    <tr>\n",
              "      <th>9</th>\n",
              "      <td>0.029581</td>\n",
              "      <td>0.078249</td>\n",
              "    </tr>\n",
              "    <tr>\n",
              "      <th>10</th>\n",
              "      <td>0.006151</td>\n",
              "      <td>-0.168261</td>\n",
              "    </tr>\n",
              "    <tr>\n",
              "      <th>11</th>\n",
              "      <td>0.012162</td>\n",
              "      <td>0.024041</td>\n",
              "    </tr>\n",
              "    <tr>\n",
              "      <th>12</th>\n",
              "      <td>0.021149</td>\n",
              "      <td>-0.055623</td>\n",
              "    </tr>\n",
              "  </tbody>\n",
              "</table>\n",
              "</div>"
            ],
            "text/plain": [
              "        BLUE    ORANGE\n",
              "0        NaN       NaN\n",
              "1   0.023621  0.039662\n",
              "2  -0.021807 -0.033638\n",
              "3  -0.031763  0.082232\n",
              "4   0.034477  0.044544\n",
              "5   0.037786 -0.026381\n",
              "6  -0.011452 -0.049187\n",
              "7   0.032676  0.117008\n",
              "8  -0.012581  0.067353\n",
              "9   0.029581  0.078249\n",
              "10  0.006151 -0.168261\n",
              "11  0.012162  0.024041\n",
              "12  0.021149 -0.055623"
            ]
          },
          "metadata": {
            "tags": []
          },
          "execution_count": 4
        }
      ]
    },
    {
      "cell_type": "markdown",
      "metadata": {
        "id": "GEDC-v4ZvInq",
        "colab_type": "text"
      },
      "source": [
        "Notice that the first set of returns are NaN, which is Pandas way of saying that it's an NA. We can drop that row using the `.dropna()` method."
      ]
    },
    {
      "cell_type": "code",
      "metadata": {
        "id": "45AazvNIvIns",
        "colab_type": "code",
        "colab": {
          "base_uri": "https://localhost:8080/",
          "height": 421
        },
        "outputId": "2f424044-e0e4-48ec-e62f-67fb6f54d935"
      },
      "source": [
        "returns = returns.dropna()\n",
        "returns"
      ],
      "execution_count": 5,
      "outputs": [
        {
          "output_type": "execute_result",
          "data": {
            "text/html": [
              "<div>\n",
              "<style scoped>\n",
              "    .dataframe tbody tr th:only-of-type {\n",
              "        vertical-align: middle;\n",
              "    }\n",
              "\n",
              "    .dataframe tbody tr th {\n",
              "        vertical-align: top;\n",
              "    }\n",
              "\n",
              "    .dataframe thead th {\n",
              "        text-align: right;\n",
              "    }\n",
              "</style>\n",
              "<table border=\"1\" class=\"dataframe\">\n",
              "  <thead>\n",
              "    <tr style=\"text-align: right;\">\n",
              "      <th></th>\n",
              "      <th>BLUE</th>\n",
              "      <th>ORANGE</th>\n",
              "    </tr>\n",
              "  </thead>\n",
              "  <tbody>\n",
              "    <tr>\n",
              "      <th>1</th>\n",
              "      <td>0.023621</td>\n",
              "      <td>0.039662</td>\n",
              "    </tr>\n",
              "    <tr>\n",
              "      <th>2</th>\n",
              "      <td>-0.021807</td>\n",
              "      <td>-0.033638</td>\n",
              "    </tr>\n",
              "    <tr>\n",
              "      <th>3</th>\n",
              "      <td>-0.031763</td>\n",
              "      <td>0.082232</td>\n",
              "    </tr>\n",
              "    <tr>\n",
              "      <th>4</th>\n",
              "      <td>0.034477</td>\n",
              "      <td>0.044544</td>\n",
              "    </tr>\n",
              "    <tr>\n",
              "      <th>5</th>\n",
              "      <td>0.037786</td>\n",
              "      <td>-0.026381</td>\n",
              "    </tr>\n",
              "    <tr>\n",
              "      <th>6</th>\n",
              "      <td>-0.011452</td>\n",
              "      <td>-0.049187</td>\n",
              "    </tr>\n",
              "    <tr>\n",
              "      <th>7</th>\n",
              "      <td>0.032676</td>\n",
              "      <td>0.117008</td>\n",
              "    </tr>\n",
              "    <tr>\n",
              "      <th>8</th>\n",
              "      <td>-0.012581</td>\n",
              "      <td>0.067353</td>\n",
              "    </tr>\n",
              "    <tr>\n",
              "      <th>9</th>\n",
              "      <td>0.029581</td>\n",
              "      <td>0.078249</td>\n",
              "    </tr>\n",
              "    <tr>\n",
              "      <th>10</th>\n",
              "      <td>0.006151</td>\n",
              "      <td>-0.168261</td>\n",
              "    </tr>\n",
              "    <tr>\n",
              "      <th>11</th>\n",
              "      <td>0.012162</td>\n",
              "      <td>0.024041</td>\n",
              "    </tr>\n",
              "    <tr>\n",
              "      <th>12</th>\n",
              "      <td>0.021149</td>\n",
              "      <td>-0.055623</td>\n",
              "    </tr>\n",
              "  </tbody>\n",
              "</table>\n",
              "</div>"
            ],
            "text/plain": [
              "        BLUE    ORANGE\n",
              "1   0.023621  0.039662\n",
              "2  -0.021807 -0.033638\n",
              "3  -0.031763  0.082232\n",
              "4   0.034477  0.044544\n",
              "5   0.037786 -0.026381\n",
              "6  -0.011452 -0.049187\n",
              "7   0.032676  0.117008\n",
              "8  -0.012581  0.067353\n",
              "9   0.029581  0.078249\n",
              "10  0.006151 -0.168261\n",
              "11  0.012162  0.024041\n",
              "12  0.021149 -0.055623"
            ]
          },
          "metadata": {
            "tags": []
          },
          "execution_count": 5
        }
      ]
    },
    {
      "cell_type": "markdown",
      "metadata": {
        "id": "pqvgreKUvIn3",
        "colab_type": "text"
      },
      "source": [
        "Let's compute the standard deviation from first principals:"
      ]
    },
    {
      "cell_type": "code",
      "metadata": {
        "id": "si4TthIxvIn5",
        "colab_type": "code",
        "colab": {
          "base_uri": "https://localhost:8080/",
          "height": 68
        },
        "outputId": "e9baff26-3d7b-4609-8681-9ac57b015086"
      },
      "source": [
        "deviations = returns - returns.mean()\n",
        "squared_deviations = deviations**2\n",
        "mean_squared_deviations = squared_deviations.mean()\n",
        "\n",
        "import numpy as np\n",
        "\n",
        "volatility = np.sqrt(mean_squared_deviations)\n",
        "volatility"
      ],
      "execution_count": 6,
      "outputs": [
        {
          "output_type": "execute_result",
          "data": {
            "text/plain": [
              "BLUE      0.022957\n",
              "ORANGE    0.076212\n",
              "dtype: float64"
            ]
          },
          "metadata": {
            "tags": []
          },
          "execution_count": 6
        }
      ]
    },
    {
      "cell_type": "markdown",
      "metadata": {
        "id": "gPby2mjQvIoB",
        "colab_type": "text"
      },
      "source": [
        "Let's see if we get the same answer when we use the built-in `.std()` method."
      ]
    },
    {
      "cell_type": "code",
      "metadata": {
        "id": "C1V_EqklvIoD",
        "colab_type": "code",
        "colab": {
          "base_uri": "https://localhost:8080/",
          "height": 68
        },
        "outputId": "4f1f6c01-e1b2-4d44-ed12-8fd84dc39e3a"
      },
      "source": [
        "returns.std()"
      ],
      "execution_count": 7,
      "outputs": [
        {
          "output_type": "execute_result",
          "data": {
            "text/plain": [
              "BLUE      0.023977\n",
              "ORANGE    0.079601\n",
              "dtype: float64"
            ]
          },
          "metadata": {
            "tags": []
          },
          "execution_count": 7
        }
      ]
    },
    {
      "cell_type": "markdown",
      "metadata": {
        "id": "v4S_ELE8vIoK",
        "colab_type": "text"
      },
      "source": [
        "Why don't they match? Because, by default, the `.std()` method computes the _sample standard deviation_ which means that it uses the denominator of $n-1$. On the other hand, we computed the _population_ standard deviation, which uses a numerator of $n$. Since the observed returns are thought of as observed samples from a distribution, it is probably more accurate to use the denominator of $n-1$, so let's redo our calculation to see if we get the same number.\n",
        "\n",
        "To get the number of observations, we can use the `.shape` attribute of a DataFrame that returns a tuple of the number of rows and columns."
      ]
    },
    {
      "cell_type": "code",
      "metadata": {
        "id": "XcHACl66vIoL",
        "colab_type": "code",
        "colab": {
          "base_uri": "https://localhost:8080/",
          "height": 34
        },
        "outputId": "77727e9d-536c-4c07-a3a3-a0c133b292bd"
      },
      "source": [
        "returns.shape"
      ],
      "execution_count": 8,
      "outputs": [
        {
          "output_type": "execute_result",
          "data": {
            "text/plain": [
              "(12, 2)"
            ]
          },
          "metadata": {
            "tags": []
          },
          "execution_count": 8
        }
      ]
    },
    {
      "cell_type": "markdown",
      "metadata": {
        "id": "A7SLtrjVvIoR",
        "colab_type": "text"
      },
      "source": [
        "Just as we can with a list, we can access the elements of a tuple using an index, starting at 0. Therefore, to get the number of rows in the DataFrame, we extract the 0th element of the tuple."
      ]
    },
    {
      "cell_type": "code",
      "metadata": {
        "id": "mdbhDPoTvIoS",
        "colab_type": "code",
        "colab": {
          "base_uri": "https://localhost:8080/",
          "height": 68
        },
        "outputId": "f55e1a36-b7d2-490e-d87f-c0937a545b61"
      },
      "source": [
        "number_of_obs = returns.shape[0]\n",
        "mean_squared_deviations = squared_deviations.sum()/(number_of_obs-1)\n",
        "volatility = np.sqrt(mean_squared_deviations)\n",
        "volatility"
      ],
      "execution_count": 9,
      "outputs": [
        {
          "output_type": "execute_result",
          "data": {
            "text/plain": [
              "BLUE      0.023977\n",
              "ORANGE    0.079601\n",
              "dtype: float64"
            ]
          },
          "metadata": {
            "tags": []
          },
          "execution_count": 9
        }
      ]
    },
    {
      "cell_type": "code",
      "metadata": {
        "id": "JkUyOX-cvIoY",
        "colab_type": "code",
        "colab": {
          "base_uri": "https://localhost:8080/",
          "height": 68
        },
        "outputId": "7aafb709-6f06-4752-8859-8345b326ce9f"
      },
      "source": [
        "returns.std()"
      ],
      "execution_count": 10,
      "outputs": [
        {
          "output_type": "execute_result",
          "data": {
            "text/plain": [
              "BLUE      0.023977\n",
              "ORANGE    0.079601\n",
              "dtype: float64"
            ]
          },
          "metadata": {
            "tags": []
          },
          "execution_count": 10
        }
      ]
    },
    {
      "cell_type": "markdown",
      "metadata": {
        "id": "9hdIsXD0vIod",
        "colab_type": "text"
      },
      "source": [
        "# Annualizing Volatility\n",
        "\n",
        "We annualize volatility by scaling (multiplying) it by the square root of the number of periods per observation\n",
        "\n",
        "Therefore, to annualize the volatility of a monthly series, we muiltiply it by the square root of 12. Instead of using the `np.sqrt()` we can raise it to the power of $0.5$"
      ]
    },
    {
      "cell_type": "code",
      "metadata": {
        "id": "RWC96PXzvIoe",
        "colab_type": "code",
        "colab": {
          "base_uri": "https://localhost:8080/",
          "height": 68
        },
        "outputId": "438d9a30-e67a-4e25-8641-dcf853af633f"
      },
      "source": [
        "annualized_vol = returns.std()*(12**0.5)\n",
        "annualized_vol"
      ],
      "execution_count": 11,
      "outputs": [
        {
          "output_type": "execute_result",
          "data": {
            "text/plain": [
              "BLUE      0.083060\n",
              "ORANGE    0.275747\n",
              "dtype: float64"
            ]
          },
          "metadata": {
            "tags": []
          },
          "execution_count": 11
        }
      ]
    },
    {
      "cell_type": "markdown",
      "metadata": {
        "id": "d-YfUpErvIok",
        "colab_type": "text"
      },
      "source": [
        "# Risk Adjusted Returns\n",
        "\n",
        "Let's get beyond the sample data series and start working with some real data. Read in the monthly returns of a set of 10 portfolios formed on market caps, or market equities of the companies. Of the 10 portfolios, we only want to look at the largest cap and the smallest cap companies:"
      ]
    },
    {
      "cell_type": "code",
      "metadata": {
        "id": "dkA1aqVjvIol",
        "colab_type": "code",
        "colab": {
          "base_uri": "https://localhost:8080/",
          "height": 221
        },
        "outputId": "d8ad2b08-036a-4b83-9171-65d1822f96b4"
      },
      "source": [
        "me_m = pd.read_csv(DATAPATH + \"/Portfolios_Formed_on_ME_monthly_EW.csv\",\n",
        "                   header=0, index_col=0, parse_dates=True, na_values=-99.99)\n",
        "me_m.head()"
      ],
      "execution_count": 12,
      "outputs": [
        {
          "output_type": "execute_result",
          "data": {
            "text/html": [
              "<div>\n",
              "<style scoped>\n",
              "    .dataframe tbody tr th:only-of-type {\n",
              "        vertical-align: middle;\n",
              "    }\n",
              "\n",
              "    .dataframe tbody tr th {\n",
              "        vertical-align: top;\n",
              "    }\n",
              "\n",
              "    .dataframe thead th {\n",
              "        text-align: right;\n",
              "    }\n",
              "</style>\n",
              "<table border=\"1\" class=\"dataframe\">\n",
              "  <thead>\n",
              "    <tr style=\"text-align: right;\">\n",
              "      <th></th>\n",
              "      <th>&lt;= 0</th>\n",
              "      <th>Lo 30</th>\n",
              "      <th>Med 40</th>\n",
              "      <th>Hi 30</th>\n",
              "      <th>Lo 20</th>\n",
              "      <th>Qnt 2</th>\n",
              "      <th>Qnt 3</th>\n",
              "      <th>Qnt 4</th>\n",
              "      <th>Hi 20</th>\n",
              "      <th>Lo 10</th>\n",
              "      <th>Dec 2</th>\n",
              "      <th>Dec 3</th>\n",
              "      <th>Dec 4</th>\n",
              "      <th>Dec 5</th>\n",
              "      <th>Dec 6</th>\n",
              "      <th>Dec 7</th>\n",
              "      <th>Dec 8</th>\n",
              "      <th>Dec 9</th>\n",
              "      <th>Hi 10</th>\n",
              "    </tr>\n",
              "  </thead>\n",
              "  <tbody>\n",
              "    <tr>\n",
              "      <th>192607</th>\n",
              "      <td>NaN</td>\n",
              "      <td>-0.43</td>\n",
              "      <td>1.52</td>\n",
              "      <td>2.68</td>\n",
              "      <td>-0.57</td>\n",
              "      <td>0.59</td>\n",
              "      <td>1.60</td>\n",
              "      <td>1.47</td>\n",
              "      <td>3.33</td>\n",
              "      <td>-1.45</td>\n",
              "      <td>0.29</td>\n",
              "      <td>-0.15</td>\n",
              "      <td>1.33</td>\n",
              "      <td>1.24</td>\n",
              "      <td>1.98</td>\n",
              "      <td>1.55</td>\n",
              "      <td>1.38</td>\n",
              "      <td>3.38</td>\n",
              "      <td>3.29</td>\n",
              "    </tr>\n",
              "    <tr>\n",
              "      <th>192608</th>\n",
              "      <td>NaN</td>\n",
              "      <td>3.90</td>\n",
              "      <td>3.04</td>\n",
              "      <td>2.09</td>\n",
              "      <td>3.84</td>\n",
              "      <td>3.59</td>\n",
              "      <td>3.71</td>\n",
              "      <td>1.61</td>\n",
              "      <td>2.33</td>\n",
              "      <td>5.12</td>\n",
              "      <td>2.59</td>\n",
              "      <td>4.03</td>\n",
              "      <td>3.15</td>\n",
              "      <td>2.72</td>\n",
              "      <td>4.72</td>\n",
              "      <td>1.60</td>\n",
              "      <td>1.63</td>\n",
              "      <td>0.98</td>\n",
              "      <td>3.70</td>\n",
              "    </tr>\n",
              "    <tr>\n",
              "      <th>192609</th>\n",
              "      <td>NaN</td>\n",
              "      <td>-1.08</td>\n",
              "      <td>-0.54</td>\n",
              "      <td>0.16</td>\n",
              "      <td>-0.48</td>\n",
              "      <td>-1.40</td>\n",
              "      <td>0.00</td>\n",
              "      <td>-0.50</td>\n",
              "      <td>-0.09</td>\n",
              "      <td>0.93</td>\n",
              "      <td>-1.87</td>\n",
              "      <td>-2.27</td>\n",
              "      <td>-0.53</td>\n",
              "      <td>0.07</td>\n",
              "      <td>-0.07</td>\n",
              "      <td>-1.64</td>\n",
              "      <td>0.64</td>\n",
              "      <td>-0.86</td>\n",
              "      <td>0.67</td>\n",
              "    </tr>\n",
              "    <tr>\n",
              "      <th>192610</th>\n",
              "      <td>NaN</td>\n",
              "      <td>-3.32</td>\n",
              "      <td>-3.52</td>\n",
              "      <td>-3.06</td>\n",
              "      <td>-3.29</td>\n",
              "      <td>-4.10</td>\n",
              "      <td>-2.89</td>\n",
              "      <td>-3.36</td>\n",
              "      <td>-2.95</td>\n",
              "      <td>-4.84</td>\n",
              "      <td>-1.77</td>\n",
              "      <td>-3.36</td>\n",
              "      <td>-4.83</td>\n",
              "      <td>-2.98</td>\n",
              "      <td>-2.80</td>\n",
              "      <td>-3.45</td>\n",
              "      <td>-3.27</td>\n",
              "      <td>-3.47</td>\n",
              "      <td>-2.43</td>\n",
              "    </tr>\n",
              "    <tr>\n",
              "      <th>192611</th>\n",
              "      <td>NaN</td>\n",
              "      <td>-0.46</td>\n",
              "      <td>3.82</td>\n",
              "      <td>3.09</td>\n",
              "      <td>-0.55</td>\n",
              "      <td>2.18</td>\n",
              "      <td>3.41</td>\n",
              "      <td>3.39</td>\n",
              "      <td>3.16</td>\n",
              "      <td>-0.78</td>\n",
              "      <td>-0.32</td>\n",
              "      <td>-0.29</td>\n",
              "      <td>4.65</td>\n",
              "      <td>3.24</td>\n",
              "      <td>3.57</td>\n",
              "      <td>3.82</td>\n",
              "      <td>2.95</td>\n",
              "      <td>3.61</td>\n",
              "      <td>2.70</td>\n",
              "    </tr>\n",
              "  </tbody>\n",
              "</table>\n",
              "</div>"
            ],
            "text/plain": [
              "        <= 0  Lo 30  Med 40  Hi 30  Lo 20  ...  Dec 6  Dec 7  Dec 8  Dec 9  Hi 10\n",
              "192607   NaN  -0.43    1.52   2.68  -0.57  ...   1.98   1.55   1.38   3.38   3.29\n",
              "192608   NaN   3.90    3.04   2.09   3.84  ...   4.72   1.60   1.63   0.98   3.70\n",
              "192609   NaN  -1.08   -0.54   0.16  -0.48  ...  -0.07  -1.64   0.64  -0.86   0.67\n",
              "192610   NaN  -3.32   -3.52  -3.06  -3.29  ...  -2.80  -3.45  -3.27  -3.47  -2.43\n",
              "192611   NaN  -0.46    3.82   3.09  -0.55  ...   3.57   3.82   2.95   3.61   2.70\n",
              "\n",
              "[5 rows x 19 columns]"
            ]
          },
          "metadata": {
            "tags": []
          },
          "execution_count": 12
        }
      ]
    },
    {
      "cell_type": "code",
      "metadata": {
        "id": "hmURqQrHvIoq",
        "colab_type": "code",
        "colab": {
          "base_uri": "https://localhost:8080/",
          "height": 204
        },
        "outputId": "f88b1f43-51ad-4667-aa16-e875b95c19bd"
      },
      "source": [
        "cols = ['Lo 10', 'Hi 10']\n",
        "returns = me_m[cols]\n",
        "returns.head()"
      ],
      "execution_count": 13,
      "outputs": [
        {
          "output_type": "execute_result",
          "data": {
            "text/html": [
              "<div>\n",
              "<style scoped>\n",
              "    .dataframe tbody tr th:only-of-type {\n",
              "        vertical-align: middle;\n",
              "    }\n",
              "\n",
              "    .dataframe tbody tr th {\n",
              "        vertical-align: top;\n",
              "    }\n",
              "\n",
              "    .dataframe thead th {\n",
              "        text-align: right;\n",
              "    }\n",
              "</style>\n",
              "<table border=\"1\" class=\"dataframe\">\n",
              "  <thead>\n",
              "    <tr style=\"text-align: right;\">\n",
              "      <th></th>\n",
              "      <th>Lo 10</th>\n",
              "      <th>Hi 10</th>\n",
              "    </tr>\n",
              "  </thead>\n",
              "  <tbody>\n",
              "    <tr>\n",
              "      <th>192607</th>\n",
              "      <td>-1.45</td>\n",
              "      <td>3.29</td>\n",
              "    </tr>\n",
              "    <tr>\n",
              "      <th>192608</th>\n",
              "      <td>5.12</td>\n",
              "      <td>3.70</td>\n",
              "    </tr>\n",
              "    <tr>\n",
              "      <th>192609</th>\n",
              "      <td>0.93</td>\n",
              "      <td>0.67</td>\n",
              "    </tr>\n",
              "    <tr>\n",
              "      <th>192610</th>\n",
              "      <td>-4.84</td>\n",
              "      <td>-2.43</td>\n",
              "    </tr>\n",
              "    <tr>\n",
              "      <th>192611</th>\n",
              "      <td>-0.78</td>\n",
              "      <td>2.70</td>\n",
              "    </tr>\n",
              "  </tbody>\n",
              "</table>\n",
              "</div>"
            ],
            "text/plain": [
              "        Lo 10  Hi 10\n",
              "192607  -1.45   3.29\n",
              "192608   5.12   3.70\n",
              "192609   0.93   0.67\n",
              "192610  -4.84  -2.43\n",
              "192611  -0.78   2.70"
            ]
          },
          "metadata": {
            "tags": []
          },
          "execution_count": 13
        }
      ]
    },
    {
      "cell_type": "markdown",
      "metadata": {
        "id": "4u2cglILvIou",
        "colab_type": "text"
      },
      "source": [
        "Note that the data is already given in percentages (i.e 4.5 instead of 0.045) and we typically want to use the actual numbers (i.e. 0.045 instead of 4.5) so we should divide the raw data from the file by 100."
      ]
    },
    {
      "cell_type": "code",
      "metadata": {
        "id": "1-u4CXEevIov",
        "colab_type": "code",
        "colab": {}
      },
      "source": [
        "returns = returns/100"
      ],
      "execution_count": 0,
      "outputs": []
    },
    {
      "cell_type": "code",
      "metadata": {
        "id": "MLQ12KGRvIoz",
        "colab_type": "code",
        "colab": {
          "base_uri": "https://localhost:8080/",
          "height": 283
        },
        "outputId": "6a50cdc4-b905-4a8b-d2c5-25b0cf9e4929"
      },
      "source": [
        "returns.plot()"
      ],
      "execution_count": 15,
      "outputs": [
        {
          "output_type": "execute_result",
          "data": {
            "text/plain": [
              "<matplotlib.axes._subplots.AxesSubplot at 0x7f811cccb860>"
            ]
          },
          "metadata": {
            "tags": []
          },
          "execution_count": 15
        },
        {
          "output_type": "display_data",
          "data": {
            "image/png": "[encoded data removed]",
            "text/plain": [
              "<Figure size 432x288 with 1 Axes>"
            ]
          },
          "metadata": {
            "tags": [],
            "needs_background": "light"
          }
        }
      ]
    },
    {
      "cell_type": "code",
      "metadata": {
        "id": "VkrScwrHvIo3",
        "colab_type": "code",
        "colab": {}
      },
      "source": [
        "returns.columns = ['SmallCap', 'LargeCap']"
      ],
      "execution_count": 0,
      "outputs": []
    },
    {
      "cell_type": "code",
      "metadata": {
        "id": "jQ--WzrAvIo7",
        "colab_type": "code",
        "colab": {
          "base_uri": "https://localhost:8080/",
          "height": 283
        },
        "outputId": "992d6958-6c00-484c-fd9f-fa03ef210510"
      },
      "source": [
        "returns.plot()"
      ],
      "execution_count": 17,
      "outputs": [
        {
          "output_type": "execute_result",
          "data": {
            "text/plain": [
              "<matplotlib.axes._subplots.AxesSubplot at 0x7f811c76e2b0>"
            ]
          },
          "metadata": {
            "tags": []
          },
          "execution_count": 17
        },
        {
          "output_type": "display_data",
          "data": {
            "image/png": "[encoded data removed]",
            "text/plain": [
              "<Figure size 432x288 with 1 Axes>"
            ]
          },
          "metadata": {
            "tags": [],
            "needs_background": "light"
          }
        }
      ]
    },
    {
      "cell_type": "code",
      "metadata": {
        "id": "hVezwGj3vIo_",
        "colab_type": "code",
        "colab": {
          "base_uri": "https://localhost:8080/",
          "height": 68
        },
        "outputId": "9d7894b6-8bdc-4c75-f4c3-05554da3365d"
      },
      "source": [
        "annualized_vol = returns.std()*np.sqrt(12)\n",
        "annualized_vol"
      ],
      "execution_count": 18,
      "outputs": [
        {
          "output_type": "execute_result",
          "data": {
            "text/plain": [
              "SmallCap    0.368193\n",
              "LargeCap    0.186716\n",
              "dtype: float64"
            ]
          },
          "metadata": {
            "tags": []
          },
          "execution_count": 18
        }
      ]
    },
    {
      "cell_type": "markdown",
      "metadata": {
        "id": "5mxV847OvIpD",
        "colab_type": "text"
      },
      "source": [
        "We can now compute the annualized returns as follows:"
      ]
    },
    {
      "cell_type": "code",
      "metadata": {
        "id": "jT-tOTkLvIpE",
        "colab_type": "code",
        "colab": {
          "base_uri": "https://localhost:8080/",
          "height": 68
        },
        "outputId": "5f15e649-cd82-46fb-9ff8-f9a195173fe7"
      },
      "source": [
        "n_months = returns.shape[0]\n",
        "return_per_month = (returns+1).prod()**(1/n_months) - 1\n",
        "return_per_month"
      ],
      "execution_count": 19,
      "outputs": [
        {
          "output_type": "execute_result",
          "data": {
            "text/plain": [
              "SmallCap    0.012986\n",
              "LargeCap    0.007423\n",
              "dtype: float64"
            ]
          },
          "metadata": {
            "tags": []
          },
          "execution_count": 19
        }
      ]
    },
    {
      "cell_type": "code",
      "metadata": {
        "id": "hBiezhvHvIpI",
        "colab_type": "code",
        "colab": {}
      },
      "source": [
        "annualized_return = (return_per_month + 1)**12-1"
      ],
      "execution_count": 0,
      "outputs": []
    },
    {
      "cell_type": "code",
      "metadata": {
        "id": "RSnHS-XQvIpM",
        "colab_type": "code",
        "colab": {
          "base_uri": "https://localhost:8080/",
          "height": 68
        },
        "outputId": "9f3a95ac-d878-42b7-8c9c-53140686dda5"
      },
      "source": [
        "annualized_return = (returns+1).prod()**(12/n_months) - 1\n",
        "annualized_return"
      ],
      "execution_count": 21,
      "outputs": [
        {
          "output_type": "execute_result",
          "data": {
            "text/plain": [
              "SmallCap    0.167463\n",
              "LargeCap    0.092810\n",
              "dtype: float64"
            ]
          },
          "metadata": {
            "tags": []
          },
          "execution_count": 21
        }
      ]
    },
    {
      "cell_type": "code",
      "metadata": {
        "id": "Ai6DU9l6vIpQ",
        "colab_type": "code",
        "colab": {
          "base_uri": "https://localhost:8080/",
          "height": 68
        },
        "outputId": "49990450-9224-43d0-ee1f-cbabf4fed5c8"
      },
      "source": [
        "annualized_return/annualized_vol"
      ],
      "execution_count": 22,
      "outputs": [
        {
          "output_type": "execute_result",
          "data": {
            "text/plain": [
              "SmallCap    0.454825\n",
              "LargeCap    0.497063\n",
              "dtype: float64"
            ]
          },
          "metadata": {
            "tags": []
          },
          "execution_count": 22
        }
      ]
    },
    {
      "cell_type": "code",
      "metadata": {
        "id": "-kr5UtyjvIpT",
        "colab_type": "code",
        "colab": {
          "base_uri": "https://localhost:8080/",
          "height": 68
        },
        "outputId": "79cab819-05a0-46ec-c77f-034a5ec604eb"
      },
      "source": [
        "riskfree_rate = 0.03\n",
        "excess_return = annualized_return - riskfree_rate\n",
        "sharpe_ratio = excess_return/annualized_vol\n",
        "sharpe_ratio"
      ],
      "execution_count": 23,
      "outputs": [
        {
          "output_type": "execute_result",
          "data": {
            "text/plain": [
              "SmallCap    0.373346\n",
              "LargeCap    0.336392\n",
              "dtype: float64"
            ]
          },
          "metadata": {
            "tags": []
          },
          "execution_count": 23
        }
      ]
    },
    {
      "cell_type": "code",
      "metadata": {
        "id": "nDuJ2HbwvIpW",
        "colab_type": "code",
        "colab": {}
      },
      "source": [
        ""
      ],
      "execution_count": 0,
      "outputs": []
    }
  ]
}