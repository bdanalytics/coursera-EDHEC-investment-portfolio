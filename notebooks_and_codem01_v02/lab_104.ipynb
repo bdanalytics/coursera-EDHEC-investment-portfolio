{
  "nbformat": 4,
  "nbformat_minor": 0,
  "metadata": {
    "kernelspec": {
      "display_name": "Python 3",
      "language": "python",
      "name": "python3"
    },
    "language_info": {
      "codemirror_mode": {
        "name": "ipython",
        "version": 3
      },
      "file_extension": ".py",
      "mimetype": "text/x-python",
      "name": "python",
      "nbconvert_exporter": "python",
      "pygments_lexer": "ipython3",
      "version": "3.7.3"
    },
    "colab": {
      "name": "lab_104.ipynb",
      "provenance": [],
      "collapsed_sections": []
    }
  },
  "cells": [
    {
      "cell_type": "code",
      "metadata": {
        "id": "vqM_rUhiQDyP",
        "colab_type": "code",
        "colab": {}
      },
      "source": [
        "%load_ext autoreload\n",
        "%autoreload 2"
      ],
      "execution_count": 0,
      "outputs": []
    },
    {
      "cell_type": "code",
      "metadata": {
        "id": "xVk6P67VIw6K",
        "colab_type": "code",
        "colab": {
          "base_uri": "https://localhost:8080/",
          "height": 132
        },
        "outputId": "4ff07dba-ea78-468e-e7b4-d69d4c03241c"
      },
      "source": [
        "from google.colab import drive\n",
        "drive.mount('/content/drive')"
      ],
      "execution_count": 1,
      "outputs": [
        {
          "output_type": "stream",
          "text": [
            "Go to this URL in a browser: https://accounts.google.com/o/oauth2/auth?client_id=947318989803-6bn6qk8qdgf4n4g3pfee6491hc0brc4i.apps.googleusercontent.com&redirect_uri=urn%3aietf%3awg%3aoauth%3a2.0%3aoob&response_type=code&scope=email%20https%3a%2f%2fwww.googleapis.com%2fauth%2fdocs.test%20https%3a%2f%2fwww.googleapis.com%2fauth%2fdrive%20https%3a%2f%2fwww.googleapis.com%2fauth%2fdrive.photos.readonly%20https%3a%2f%2fwww.googleapis.com%2fauth%2fpeopleapi.readonly\n",
            "\n",
            "Enter your authorization code:\n",
            "··········\n",
            "Mounted at /content/drive\n"
          ],
          "name": "stdout"
        }
      ]
    },
    {
      "cell_type": "code",
      "metadata": {
        "id": "RSD191L7JC02",
        "colab_type": "code",
        "colab": {
          "base_uri": "https://localhost:8080/",
          "height": 93
        },
        "outputId": "979ff5dd-b8b0-49ed-b3de-b116c9ed0b4b"
      },
      "source": [
        "import os, sys\n",
        "\n",
        "DATAPATH = '/content/drive/My Drive/Coursera/EDHEC/investment-portfolio/data'\n",
        "print(f\"DATAPATH:{DATAPATH} contents:{os.listdir(DATAPATH)}\")\n",
        "\n",
        "MODULEPATH = '/content/drive/My Drive/Coursera/EDHEC/investment-portfolio/nb'\n",
        "print(f\"MODULEPATH:{MODULEPATH} contents:{os.listdir(MODULEPATH)}\")\n",
        "\n",
        "sys.path.append(MODULEPATH)\n",
        "print(f\"sys.path:{sys.path}\")"
      ],
      "execution_count": 11,
      "outputs": [
        {
          "output_type": "stream",
          "text": [
            "DATAPATH:/content/drive/My Drive/Coursera/EDHEC/investment-portfolio/data contents:['sample_prices.csv', 'Portfolios_Formed_on_ME_monthly_EW.csv']\n",
            "MODULEPATH:/content/drive/My Drive/Coursera/EDHEC/investment-portfolio/nb contents:['lab_104.ipynb', 'hello.py', 'edhec_risk_kit_104.py', 'lab_101.ipynb', 'lab_102.ipynb', 'lab_103.ipynb']\n",
            "sys.path:['', '/env/python', '/usr/lib/python36.zip', '/usr/lib/python3.6', '/usr/lib/python3.6/lib-dynload', '/usr/local/lib/python3.6/dist-packages', '/usr/lib/python3/dist-packages', '/usr/local/lib/python3.6/dist-packages/IPython/extensions', '/root/.ipython', '/content/drive/My Drive/Coursera/EDHEC/investment-portfolio/nb']\n"
          ],
          "name": "stdout"
        }
      ]
    },
    {
      "cell_type": "markdown",
      "metadata": {
        "id": "WFKPGQfBIoLB",
        "colab_type": "text"
      },
      "source": [
        "# Building a Module\n",
        "\n",
        "A module in Python is conceptually not much more than a file with python code in it that you can access and run by importing the module.\n",
        "\n",
        "When you `import` a module, you are reading the file and making the code contained in it accessible through its alias.\n",
        "\n",
        "Start by creating a new file called `hello.py` and add the following message in there:\n",
        "\n",
        "```python\n",
        "message = 'Hello Jim'\n",
        "```\n",
        "\n",
        "and then try executing this code:\n",
        "\n",
        "```python\n",
        "import hello as h\n",
        "h.message\n",
        "```\n",
        "\n",
        "Great!\n",
        "\n",
        "Now, let's change the message. Edit the file to now say:\n",
        "\n",
        "```python\n",
        "message = 'Hello Jane'\n",
        "```\n",
        "\n",
        "and rexecute the code:\n",
        "\n",
        "```python\n",
        "import hello as h\n",
        "h.message\n",
        "```\n",
        "\n",
        "What went wrong?\n",
        "\n",
        "Since the contents of modules dont usually change very much (except during module development) Python is smart about importing modules and once a module is imported, it doesnt bother re-importing the module. Normally, this is what you want, but in our case when we are developing the module we want to force the module to geet automatically reloaded everytime it changes.\n",
        "\n",
        "Fortunately, there is a _magic_ command sequence that does exactly that. First, we have to load an extension called `autoreload` by executing the _magic command_ `%load_ext autoreload`. Once you have loaded that extension, you now have access to a new _magic command_ called `%autoreload` which supports different modes of autoreload. The mode we want for now is to automatically reload anything that changes, which is mode 2. So, you need to execute:\n",
        "\n",
        "```python\n",
        "%load_ext autoreload\n",
        "%autoreload 2\n",
        "```\n",
        "\n",
        "Now try executing:\n",
        "\n",
        "```python\n",
        "h.message\n",
        "```\n",
        "\n",
        "and you will see that future edits to the hello file will immediately be reloaded.\n",
        "\n",
        "Try editing the `hello.py` file to:\n",
        "\n",
        "```python\n",
        "message = 'Hello John and Jane'\n",
        "```\n",
        "\n",
        "and then execute\n",
        "\n",
        "```python\n",
        "h.message\n",
        "```\n",
        "\n",
        "Now, let's create our new module, which we'll build on through the course, and put the `drawdown` function we created in that module. Create a file called `edhec_risk_kit.py` and copy the follwing code into it.\n",
        "\n",
        "```python\n",
        "\n",
        "import pandas as pd\n",
        "\n",
        "def drawdown(return_series: pd.Series):\n",
        "    \"\"\"Takes a time series of asset returns.\n",
        "       returns a DataFrame with columns for\n",
        "       the wealth index, \n",
        "       the previous peaks, and \n",
        "       the percentage drawdown\n",
        "    \"\"\"\n",
        "    wealth_index = 1000*(1+return_series).cumprod()\n",
        "    previous_peaks = wealth_index.cummax()\n",
        "    drawdowns = (wealth_index - previous_peaks)/previous_peaks\n",
        "    return pd.DataFrame({\"Wealth\": wealth_index, \n",
        "                         \"Previous Peak\": previous_peaks, \n",
        "                         \"Drawdown\": drawdowns})\n",
        "\n",
        "def get_ffme_returns():\n",
        "    \"\"\"\n",
        "    Load the Fama-French Dataset for the returns of the Top and Bottom Deciles by MarketCap\n",
        "    \"\"\"\n",
        "    me_m = pd.read_csv(\"data/Portfolios_Formed_on_ME_monthly_EW.csv\",\n",
        "                       header=0, index_col=0, na_values=-99.99)\n",
        "    rets = me_m[['Lo 10', 'Hi 10']]\n",
        "    rets.columns = ['SmallCap', 'LargeCap']\n",
        "    rets = rets/100\n",
        "    rets.index = pd.to_datetime(rets.index, format=\"%Y%m\").to_period('M')\n",
        "    return rets\n",
        "\n",
        "```\n"
      ]
    },
    {
      "cell_type": "code",
      "metadata": {
        "id": "hfgoTiDyIoLF",
        "colab_type": "code",
        "colab": {
          "base_uri": "https://localhost:8080/",
          "height": 204
        },
        "outputId": "96c3deb8-a3e2-45d9-e6d4-4b80cb2fee64"
      },
      "source": [
        "import edhec_risk_kit_104 as erk\n",
        "\n",
        "returns = erk.get_ffme_returns(DATAPATH)\n",
        "returns.head()"
      ],
      "execution_count": 17,
      "outputs": [
        {
          "output_type": "execute_result",
          "data": {
            "text/html": [
              "<div>\n",
              "<style scoped>\n",
              "    .dataframe tbody tr th:only-of-type {\n",
              "        vertical-align: middle;\n",
              "    }\n",
              "\n",
              "    .dataframe tbody tr th {\n",
              "        vertical-align: top;\n",
              "    }\n",
              "\n",
              "    .dataframe thead th {\n",
              "        text-align: right;\n",
              "    }\n",
              "</style>\n",
              "<table border=\"1\" class=\"dataframe\">\n",
              "  <thead>\n",
              "    <tr style=\"text-align: right;\">\n",
              "      <th></th>\n",
              "      <th>SmallCap</th>\n",
              "      <th>LargeCap</th>\n",
              "    </tr>\n",
              "  </thead>\n",
              "  <tbody>\n",
              "    <tr>\n",
              "      <th>1926-07</th>\n",
              "      <td>-0.0145</td>\n",
              "      <td>0.0329</td>\n",
              "    </tr>\n",
              "    <tr>\n",
              "      <th>1926-08</th>\n",
              "      <td>0.0512</td>\n",
              "      <td>0.0370</td>\n",
              "    </tr>\n",
              "    <tr>\n",
              "      <th>1926-09</th>\n",
              "      <td>0.0093</td>\n",
              "      <td>0.0067</td>\n",
              "    </tr>\n",
              "    <tr>\n",
              "      <th>1926-10</th>\n",
              "      <td>-0.0484</td>\n",
              "      <td>-0.0243</td>\n",
              "    </tr>\n",
              "    <tr>\n",
              "      <th>1926-11</th>\n",
              "      <td>-0.0078</td>\n",
              "      <td>0.0270</td>\n",
              "    </tr>\n",
              "  </tbody>\n",
              "</table>\n",
              "</div>"
            ],
            "text/plain": [
              "         SmallCap  LargeCap\n",
              "1926-07   -0.0145    0.0329\n",
              "1926-08    0.0512    0.0370\n",
              "1926-09    0.0093    0.0067\n",
              "1926-10   -0.0484   -0.0243\n",
              "1926-11   -0.0078    0.0270"
            ]
          },
          "metadata": {
            "tags": []
          },
          "execution_count": 17
        }
      ]
    },
    {
      "cell_type": "code",
      "metadata": {
        "id": "UnkWYD3LNzSk",
        "colab_type": "code",
        "colab": {
          "base_uri": "https://localhost:8080/",
          "height": 59
        },
        "outputId": "39945f54-cf54-4550-d18b-0eb38721a397"
      },
      "source": [
        "import sys\n",
        "print(f\"sys.path:{sys.path}\")\n",
        "#print(f\"PYTHONPATH:{PYTHONPATH}\")"
      ],
      "execution_count": 9,
      "outputs": [
        {
          "output_type": "stream",
          "text": [
            "sys.path:['', '/env/python', '/usr/lib/python36.zip', '/usr/lib/python3.6', '/usr/lib/python3.6/lib-dynload', '/usr/local/lib/python3.6/dist-packages', '/usr/lib/python3/dist-packages', '/usr/local/lib/python3.6/dist-packages/IPython/extensions', '/root/.ipython']\n"
          ],
          "name": "stdout"
        }
      ]
    },
    {
      "cell_type": "code",
      "metadata": {
        "id": "o638IzczOAY4",
        "colab_type": "code",
        "colab": {}
      },
      "source": [
        ""
      ],
      "execution_count": 0,
      "outputs": []
    }
  ]
}