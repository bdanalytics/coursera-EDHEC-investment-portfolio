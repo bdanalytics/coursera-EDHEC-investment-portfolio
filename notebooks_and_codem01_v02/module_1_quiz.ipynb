{
  "nbformat": 4,
  "nbformat_minor": 0,
  "metadata": {
    "kernelspec": {
      "display_name": "Python 3",
      "language": "python",
      "name": "python3"
    },
    "language_info": {
      "codemirror_mode": {
        "name": "ipython",
        "version": 3
      },
      "file_extension": ".py",
      "mimetype": "text/x-python",
      "name": "python",
      "nbconvert_exporter": "python",
      "pygments_lexer": "ipython3",
      "version": "3.7.3"
    },
    "colab": {
      "name": "module_1_quiz.ipynb",
      "provenance": [],
      "collapsed_sections": []
    }
  },
  "cells": [
    {
      "cell_type": "code",
      "metadata": {
        "id": "7UVv23e4h9DB",
        "colab_type": "code",
        "outputId": "fbbe5e4b-a4e7-4870-acda-7582380828c8",
        "colab": {
          "base_uri": "https://localhost:8080/",
          "height": 136
        }
      },
      "source": [
        "%load_ext autoreload\n",
        "%autoreload 2\n",
        "%matplotlib inline\n",
        "\n",
        "from google.colab import drive\n",
        "drive.mount('/content/drive')"
      ],
      "execution_count": 1,
      "outputs": [
        {
          "output_type": "stream",
          "text": [
            "Go to this URL in a browser: https://accounts.google.com/o/oauth2/auth?client_id=947318989803-6bn6qk8qdgf4n4g3pfee6491hc0brc4i.apps.googleusercontent.com&redirect_uri=urn%3aietf%3awg%3aoauth%3a2.0%3aoob&response_type=code&scope=email%20https%3a%2f%2fwww.googleapis.com%2fauth%2fdocs.test%20https%3a%2f%2fwww.googleapis.com%2fauth%2fdrive%20https%3a%2f%2fwww.googleapis.com%2fauth%2fdrive.photos.readonly%20https%3a%2f%2fwww.googleapis.com%2fauth%2fpeopleapi.readonly\n",
            "\n",
            "Enter your authorization code:\n",
            "··········\n",
            "Mounted at /content/drive\n"
          ],
          "name": "stdout"
        }
      ]
    },
    {
      "cell_type": "code",
      "metadata": {
        "id": "kpi039ysiPW0",
        "colab_type": "code",
        "outputId": "fa33e906-04a5-42ce-a12d-2344942e820d",
        "colab": {
          "base_uri": "https://localhost:8080/",
          "height": 100
        }
      },
      "source": [
        "import os, sys\n",
        "\n",
        "DATAPATH = '/content/drive/My Drive/Coursera/EDHEC/investment-portfolio/data'\n",
        "print(f\"DATAPATH:{DATAPATH} contents:{os.listdir(DATAPATH)}\")\n",
        "\n",
        "MODULEPATH = '/content/drive/My Drive/Coursera/EDHEC/investment-portfolio/nb'\n",
        "print(f\"MODULEPATH:{MODULEPATH} contents:{os.listdir(MODULEPATH)}\")\n",
        "\n",
        "sys.path.append(MODULEPATH)\n",
        "print(f\"sys.path:{sys.path}\")"
      ],
      "execution_count": 2,
      "outputs": [
        {
          "output_type": "stream",
          "text": [
            "DATAPATH:/content/drive/My Drive/Coursera/EDHEC/investment-portfolio/data contents:['sample_prices.csv', 'edhec-hedgefundindices.csv', 'Portfolios_Formed_on_ME_monthly_EW.csv']\n",
            "MODULEPATH:/content/drive/My Drive/Coursera/EDHEC/investment-portfolio/nb contents:['lab_101.ipynb', 'lab_102.ipynb', 'lab_103.ipynb', 'hello.py', '__pycache__', 'edhec_risk_kit_104_BBI.py', 'lab_104.ipynb', 'edhec_risk_kit_105_BBI.py', 'lab_105.ipynb', 'edhec_risk_kit_106_BBI.py', 'lab_106.ipynb', 'module_1_quiz.ipynb']\n",
            "sys.path:['', '/env/python', '/usr/lib/python36.zip', '/usr/lib/python3.6', '/usr/lib/python3.6/lib-dynload', '/usr/local/lib/python3.6/dist-packages', '/usr/lib/python3/dist-packages', '/usr/local/lib/python3.6/dist-packages/IPython/extensions', '/root/.ipython', '/content/drive/My Drive/Coursera/EDHEC/investment-portfolio/nb']\n"
          ],
          "name": "stdout"
        }
      ]
    },
    {
      "cell_type": "code",
      "metadata": {
        "id": "ZFAOTgnYh3A_",
        "colab_type": "code",
        "colab": {}
      },
      "source": [
        "import numpy as np\n",
        "import pandas as pd\n",
        "\n",
        "import edhec_risk_kit_106_BBI as erk"
      ],
      "execution_count": 0,
      "outputs": []
    },
    {
      "cell_type": "markdown",
      "metadata": {
        "id": "bP8qHeMRaPCE",
        "colab_type": "text"
      },
      "source": [
        "## Q1-4"
      ]
    },
    {
      "cell_type": "code",
      "metadata": {
        "id": "wKIgjogzssOd",
        "colab_type": "code",
        "colab": {
          "base_uri": "https://localhost:8080/",
          "height": 204
        },
        "outputId": "b31525be-c6c5-4827-e76d-ba6b8964102f"
      },
      "source": [
        "ffme = erk.get_ffme_returns(DATAPATH)\n",
        "#ffme.describe()\n",
        "ffme.head()"
      ],
      "execution_count": 4,
      "outputs": [
        {
          "output_type": "execute_result",
          "data": {
            "text/html": [
              "<div>\n",
              "<style scoped>\n",
              "    .dataframe tbody tr th:only-of-type {\n",
              "        vertical-align: middle;\n",
              "    }\n",
              "\n",
              "    .dataframe tbody tr th {\n",
              "        vertical-align: top;\n",
              "    }\n",
              "\n",
              "    .dataframe thead th {\n",
              "        text-align: right;\n",
              "    }\n",
              "</style>\n",
              "<table border=\"1\" class=\"dataframe\">\n",
              "  <thead>\n",
              "    <tr style=\"text-align: right;\">\n",
              "      <th></th>\n",
              "      <th>SmallCap</th>\n",
              "      <th>LargeCap</th>\n",
              "    </tr>\n",
              "  </thead>\n",
              "  <tbody>\n",
              "    <tr>\n",
              "      <th>1926-07</th>\n",
              "      <td>-0.0145</td>\n",
              "      <td>0.0329</td>\n",
              "    </tr>\n",
              "    <tr>\n",
              "      <th>1926-08</th>\n",
              "      <td>0.0512</td>\n",
              "      <td>0.0370</td>\n",
              "    </tr>\n",
              "    <tr>\n",
              "      <th>1926-09</th>\n",
              "      <td>0.0093</td>\n",
              "      <td>0.0067</td>\n",
              "    </tr>\n",
              "    <tr>\n",
              "      <th>1926-10</th>\n",
              "      <td>-0.0484</td>\n",
              "      <td>-0.0243</td>\n",
              "    </tr>\n",
              "    <tr>\n",
              "      <th>1926-11</th>\n",
              "      <td>-0.0078</td>\n",
              "      <td>0.0270</td>\n",
              "    </tr>\n",
              "  </tbody>\n",
              "</table>\n",
              "</div>"
            ],
            "text/plain": [
              "         SmallCap  LargeCap\n",
              "1926-07   -0.0145    0.0329\n",
              "1926-08    0.0512    0.0370\n",
              "1926-09    0.0093    0.0067\n",
              "1926-10   -0.0484   -0.0243\n",
              "1926-11   -0.0078    0.0270"
            ]
          },
          "metadata": {
            "tags": []
          },
          "execution_count": 4
        }
      ]
    },
    {
      "cell_type": "code",
      "metadata": {
        "id": "KPHEGJlDfyna",
        "colab_type": "code",
        "colab": {
          "base_uri": "https://localhost:8080/",
          "height": 323
        },
        "outputId": "e1596271-43af-442f-b9c4-f82287c3d431"
      },
      "source": [
        "def returns_annualized(returns_by_month):\n",
        "  \"\"\"\n",
        "  Computes annualized returns from month by month returns (assumes pd.DataFrame with non-pct returns)\n",
        "  \"\"\"\n",
        "  returns_overall = (1 + returns_by_month).prod() - 1.0\n",
        "  print(f\"returns_overall:\"); print(returns_overall); print(f\"\\n\")\n",
        "  returns_monthly = (1.0 + returns_overall) ** (1.0 / ffme.shape[0]) - 1.0\n",
        "  print(f\"returns_monthly:\"); print(returns_monthly); print(f\"\\n\")\n",
        "  returns_annually = (1.0 + returns_monthly) ** 12 - 1.0\n",
        "  print(f\"returns_annually:\"); print(returns_annually); print(f\"\\n\")\n",
        "  return returns_annually\n",
        "\n",
        "returns_annually = returns_annualized(ffme)"
      ],
      "execution_count": 13,
      "outputs": [
        {
          "output_type": "stream",
          "text": [
            "returns_overall:\n",
            "SmallCap    1.659582e+06\n",
            "LargeCap    3.674948e+03\n",
            "dtype: float64\n",
            "\n",
            "\n",
            "returns_monthly:\n",
            "SmallCap    0.012986\n",
            "LargeCap    0.007423\n",
            "dtype: float64\n",
            "\n",
            "\n",
            "returns_annually:\n",
            "SmallCap    0.167463\n",
            "LargeCap    0.092810\n",
            "dtype: float64\n",
            "\n",
            "\n"
          ],
          "name": "stdout"
        }
      ]
    },
    {
      "cell_type": "code",
      "metadata": {
        "id": "R0Mhld4tatu6",
        "colab_type": "code",
        "colab": {
          "base_uri": "https://localhost:8080/",
          "height": 323
        },
        "outputId": "5eb115f2-823c-4a03-acab-02ab0e1c3f2a"
      },
      "source": [
        "# #Annualized Return of the portfolios over the entire period\n",
        "# returns_overall = (1 + ffme).prod() - 1.0\n",
        "# print(f\"returns_overall:\"); print(returns_overall); print(f\"\\n\")\n",
        "# returns_monthly = (1.0 + returns_overall) ** (1.0 / ffme.shape[0]) - 1.0\n",
        "# print(f\"returns_monthly:\"); print(returns_monthly); print(f\"\\n\")\n",
        "# returns_annually = (1.0 + returns_monthly) ** 12 - 1.0\n",
        "# print(f\"returns_annually:\"); print(returns_annually); print(f\"\\n\")"
      ],
      "execution_count": 9,
      "outputs": [
        {
          "output_type": "stream",
          "text": [
            "returns_overall:\n",
            "SmallCap    1.659582e+06\n",
            "LargeCap    3.674948e+03\n",
            "dtype: float64\n",
            "\n",
            "\n",
            "returns_monthly:\n",
            "SmallCap    0.012986\n",
            "LargeCap    0.007423\n",
            "dtype: float64\n",
            "\n",
            "\n",
            "returns_annually:\n",
            "SmallCap    0.167463\n",
            "LargeCap    0.092810\n",
            "dtype: float64\n",
            "\n",
            "\n"
          ],
          "name": "stdout"
        }
      ]
    },
    {
      "cell_type": "code",
      "metadata": {
        "id": "TpPa7Wimhg5t",
        "colab_type": "code",
        "colab": {
          "base_uri": "https://localhost:8080/",
          "height": 221
        },
        "outputId": "d4830b77-59c2-4ac6-a158-8cc9c596d963"
      },
      "source": [
        "def volatility_annualized(returns_by_month):\n",
        "  \"\"\"\n",
        "  Computes annualized volatility from month by month returns (assumes pd.DataFrame with non-pct returns)\n",
        "  \"\"\"\n",
        "  \n",
        "  volatility_monthly = returns_by_month.std()\n",
        "  print(f\"volatility_monthly:\"); print(volatility_monthly); print(f\"\\n\")\n",
        "  volatility_annually = volatility_monthly * np.sqrt(12)\n",
        "  print(f\"volatility_annually:\"); print(volatility_annually); print(f\"\\n\")\n",
        "\n",
        "  return volatility_annually\n",
        "\n",
        "volatility_annually = volatility_annualized(ffme)"
      ],
      "execution_count": 14,
      "outputs": [
        {
          "output_type": "stream",
          "text": [
            "volatility_monthly:\n",
            "SmallCap    0.106288\n",
            "LargeCap    0.053900\n",
            "dtype: float64\n",
            "\n",
            "\n",
            "volatility_annually:\n",
            "SmallCap    0.368193\n",
            "LargeCap    0.186716\n",
            "dtype: float64\n",
            "\n",
            "\n"
          ],
          "name": "stdout"
        }
      ]
    },
    {
      "cell_type": "code",
      "metadata": {
        "id": "PUWCjkFFeMyY",
        "colab_type": "code",
        "colab": {
          "base_uri": "https://localhost:8080/",
          "height": 221
        },
        "outputId": "ac77014d-a92f-4ee9-a2fb-8048acf12202"
      },
      "source": [
        "# volatility_monthly = ffme.std()\n",
        "# print(f\"volatility_monthly:\"); print(volatility_monthly); print(f\"\\n\")\n",
        "# volatility_annually = volatility_monthly * np.sqrt(12)\n",
        "# print(f\"volatility_annually:\"); print(volatility_annually); print(f\"\\n\")"
      ],
      "execution_count": 12,
      "outputs": [
        {
          "output_type": "stream",
          "text": [
            "volatility_monthly:\n",
            "SmallCap    0.106288\n",
            "LargeCap    0.053900\n",
            "dtype: float64\n",
            "\n",
            "\n",
            "volatility_annually:\n",
            "SmallCap    0.368193\n",
            "LargeCap    0.186716\n",
            "dtype: float64\n",
            "\n",
            "\n"
          ],
          "name": "stdout"
        }
      ]
    },
    {
      "cell_type": "markdown",
      "metadata": {
        "id": "gidPEx4wiMMY",
        "colab_type": "text"
      },
      "source": [
        "## Q5-8"
      ]
    },
    {
      "cell_type": "code",
      "metadata": {
        "id": "yfibo6o9iFoc",
        "colab_type": "code",
        "colab": {
          "base_uri": "https://localhost:8080/",
          "height": 221
        },
        "outputId": "4c838825-2e01-46ea-f64d-8b07f940a401"
      },
      "source": [
        "ffme_1995_2015 = ffme['1995':'2015']\n",
        "print(ffme_1995_2015.head())\n",
        "print(ffme_1995_2015.tail())"
      ],
      "execution_count": 17,
      "outputs": [
        {
          "output_type": "stream",
          "text": [
            "         SmallCap  LargeCap\n",
            "1995-01    0.0543    0.0312\n",
            "1995-02    0.0200    0.0355\n",
            "1995-03    0.0155    0.0221\n",
            "1995-04    0.0260    0.0228\n",
            "1995-05    0.0172    0.0455\n",
            "         SmallCap  LargeCap\n",
            "2015-08   -0.0299   -0.0620\n",
            "2015-09   -0.0558   -0.0338\n",
            "2015-10    0.0271    0.0780\n",
            "2015-11    0.0109    0.0044\n",
            "2015-12   -0.0475   -0.0171\n"
          ],
          "name": "stdout"
        }
      ]
    },
    {
      "cell_type": "code",
      "metadata": {
        "id": "5_hJF1WfitNZ",
        "colab_type": "code",
        "colab": {
          "base_uri": "https://localhost:8080/",
          "height": 527
        },
        "outputId": "b3cede0b-9695-4d2b-d0cd-3f61e4bde965"
      },
      "source": [
        "returns_annually_1995_2015 = returns_annualized(ffme_1995_2015)\n",
        "volatility_annually_1995_2015 = volatility_annualized(ffme_1995_2015)"
      ],
      "execution_count": 18,
      "outputs": [
        {
          "output_type": "stream",
          "text": [
            "returns_overall:\n",
            "SmallCap    11.038982\n",
            "LargeCap     5.478394\n",
            "dtype: float64\n",
            "\n",
            "\n",
            "returns_monthly:\n",
            "SmallCap    0.002244\n",
            "LargeCap    0.001685\n",
            "dtype: float64\n",
            "\n",
            "\n",
            "returns_annually:\n",
            "SmallCap    0.027264\n",
            "LargeCap    0.020405\n",
            "dtype: float64\n",
            "\n",
            "\n",
            "volatility_monthly:\n",
            "SmallCap    0.064254\n",
            "LargeCap    0.048101\n",
            "dtype: float64\n",
            "\n",
            "\n",
            "volatility_annually:\n",
            "SmallCap    0.222583\n",
            "LargeCap    0.166626\n",
            "dtype: float64\n",
            "\n",
            "\n"
          ],
          "name": "stdout"
        }
      ]
    },
    {
      "cell_type": "markdown",
      "metadata": {
        "id": "fiCJrtsqj8rP",
        "colab_type": "text"
      },
      "source": [
        "## Q9-12"
      ]
    },
    {
      "cell_type": "code",
      "metadata": {
        "id": "Dv9f9o_8j34J",
        "colab_type": "code",
        "colab": {
          "base_uri": "https://localhost:8080/",
          "height": 595
        },
        "outputId": "738062fe-bf0c-4242-87a8-7bef54fc03d0"
      },
      "source": [
        "for clm in ffme_1995_2015.columns:\n",
        "  print(f\"\\nportfolio:{clm}\")\n",
        "  drawdown_clm = erk.drawdown(ffme_1995_2015[clm])\n",
        "  print(drawdown_clm)\n",
        "  print(f\"Drawdown.max: value:{-drawdown_clm['Drawdown'].min()}; period:{drawdown_clm['Drawdown'].idxmin()}\")"
      ],
      "execution_count": 46,
      "outputs": [
        {
          "output_type": "stream",
          "text": [
            "\n",
            "portfolio:SmallCap\n",
            "               Wealth  Previous Peak  Drawdown\n",
            "1995-01   1054.300000    1054.300000  0.000000\n",
            "1995-02   1075.386000    1075.386000  0.000000\n",
            "1995-03   1092.054483    1092.054483  0.000000\n",
            "1995-04   1120.447900    1120.447900  0.000000\n",
            "1995-05   1139.719603    1139.719603  0.000000\n",
            "...               ...            ...       ...\n",
            "2015-08  12892.580763   14719.179235 -0.124096\n",
            "2015-09  12173.174757   14719.179235 -0.172972\n",
            "2015-10  12503.067793   14719.179235 -0.150559\n",
            "2015-11  12639.351232   14719.179235 -0.141301\n",
            "2015-12  12038.982048   14719.179235 -0.182089\n",
            "\n",
            "[252 rows x 3 columns]\n",
            "Drawdown.max: value:0.6312068077252388; period:2009-02\n",
            "\n",
            "portfolio:LargeCap\n",
            "              Wealth  Previous Peak  Drawdown\n",
            "1995-01  1031.200000    1031.200000  0.000000\n",
            "1995-02  1067.807600    1067.807600  0.000000\n",
            "1995-03  1091.406148    1091.406148  0.000000\n",
            "1995-04  1116.290208    1116.290208  0.000000\n",
            "1995-05  1167.081413    1167.081413  0.000000\n",
            "...              ...            ...       ...\n",
            "2015-08  6300.361967    6716.803802 -0.062000\n",
            "2015-09  6087.409732    6716.803802 -0.093704\n",
            "2015-10  6562.227691    6716.803802 -0.023013\n",
            "2015-11  6591.101493    6716.803802 -0.018715\n",
            "2015-12  6478.393657    6716.803802 -0.035495\n",
            "\n",
            "[252 rows x 3 columns]\n",
            "Drawdown.max: value:0.5280945042309305; period:2009-02\n"
          ],
          "name": "stdout"
        }
      ]
    },
    {
      "cell_type": "code",
      "metadata": {
        "id": "nCKIU0qjlL-R",
        "colab_type": "code",
        "colab": {
          "base_uri": "https://localhost:8080/",
          "height": 827
        },
        "outputId": "2f98ade2-18f3-4211-9c0f-d4fb1611b199"
      },
      "source": [
        "# return_series = ffme_1995_2015['SmallCap']\n",
        "# print(return_series)\n",
        "# wealth_index = 1000*(1+return_series).cumprod()\n",
        "# previous_peaks = wealth_index.cummax()\n",
        "# drawdowns = (wealth_index - previous_peaks)/previous_peaks\n",
        "# print(drawdowns)\n",
        "# pd.DataFrame({\"Wealth\": wealth_index, \n",
        "#                          \"Previous Peak\": previous_peaks, \n",
        "#                          \"Drawdown\": drawdowns})\n",
        "#erk.drawdown(ffme_1995_2015.iloc[:,:1])        "
      ],
      "execution_count": 36,
      "outputs": [
        {
          "output_type": "stream",
          "text": [
            "1995-01    0.0543\n",
            "1995-02    0.0200\n",
            "1995-03    0.0155\n",
            "1995-04    0.0260\n",
            "1995-05    0.0172\n",
            "            ...  \n",
            "2015-08   -0.0299\n",
            "2015-09   -0.0558\n",
            "2015-10    0.0271\n",
            "2015-11    0.0109\n",
            "2015-12   -0.0475\n",
            "Freq: M, Name: SmallCap, Length: 252, dtype: float64\n",
            "1995-01    0.000000\n",
            "1995-02    0.000000\n",
            "1995-03    0.000000\n",
            "1995-04    0.000000\n",
            "1995-05    0.000000\n",
            "             ...   \n",
            "2015-08   -0.124096\n",
            "2015-09   -0.172972\n",
            "2015-10   -0.150559\n",
            "2015-11   -0.141301\n",
            "2015-12   -0.182089\n",
            "Freq: M, Name: SmallCap, Length: 252, dtype: float64\n"
          ],
          "name": "stdout"
        },
        {
          "output_type": "execute_result",
          "data": {
            "text/html": [
              "<div>\n",
              "<style scoped>\n",
              "    .dataframe tbody tr th:only-of-type {\n",
              "        vertical-align: middle;\n",
              "    }\n",
              "\n",
              "    .dataframe tbody tr th {\n",
              "        vertical-align: top;\n",
              "    }\n",
              "\n",
              "    .dataframe thead th {\n",
              "        text-align: right;\n",
              "    }\n",
              "</style>\n",
              "<table border=\"1\" class=\"dataframe\">\n",
              "  <thead>\n",
              "    <tr style=\"text-align: right;\">\n",
              "      <th></th>\n",
              "      <th>Wealth</th>\n",
              "      <th>Previous Peak</th>\n",
              "      <th>Drawdown</th>\n",
              "    </tr>\n",
              "  </thead>\n",
              "  <tbody>\n",
              "    <tr>\n",
              "      <th>1995-01</th>\n",
              "      <td>1054.300000</td>\n",
              "      <td>1054.300000</td>\n",
              "      <td>0.000000</td>\n",
              "    </tr>\n",
              "    <tr>\n",
              "      <th>1995-02</th>\n",
              "      <td>1075.386000</td>\n",
              "      <td>1075.386000</td>\n",
              "      <td>0.000000</td>\n",
              "    </tr>\n",
              "    <tr>\n",
              "      <th>1995-03</th>\n",
              "      <td>1092.054483</td>\n",
              "      <td>1092.054483</td>\n",
              "      <td>0.000000</td>\n",
              "    </tr>\n",
              "    <tr>\n",
              "      <th>1995-04</th>\n",
              "      <td>1120.447900</td>\n",
              "      <td>1120.447900</td>\n",
              "      <td>0.000000</td>\n",
              "    </tr>\n",
              "    <tr>\n",
              "      <th>1995-05</th>\n",
              "      <td>1139.719603</td>\n",
              "      <td>1139.719603</td>\n",
              "      <td>0.000000</td>\n",
              "    </tr>\n",
              "    <tr>\n",
              "      <th>...</th>\n",
              "      <td>...</td>\n",
              "      <td>...</td>\n",
              "      <td>...</td>\n",
              "    </tr>\n",
              "    <tr>\n",
              "      <th>2015-08</th>\n",
              "      <td>12892.580763</td>\n",
              "      <td>14719.179235</td>\n",
              "      <td>-0.124096</td>\n",
              "    </tr>\n",
              "    <tr>\n",
              "      <th>2015-09</th>\n",
              "      <td>12173.174757</td>\n",
              "      <td>14719.179235</td>\n",
              "      <td>-0.172972</td>\n",
              "    </tr>\n",
              "    <tr>\n",
              "      <th>2015-10</th>\n",
              "      <td>12503.067793</td>\n",
              "      <td>14719.179235</td>\n",
              "      <td>-0.150559</td>\n",
              "    </tr>\n",
              "    <tr>\n",
              "      <th>2015-11</th>\n",
              "      <td>12639.351232</td>\n",
              "      <td>14719.179235</td>\n",
              "      <td>-0.141301</td>\n",
              "    </tr>\n",
              "    <tr>\n",
              "      <th>2015-12</th>\n",
              "      <td>12038.982048</td>\n",
              "      <td>14719.179235</td>\n",
              "      <td>-0.182089</td>\n",
              "    </tr>\n",
              "  </tbody>\n",
              "</table>\n",
              "<p>252 rows × 3 columns</p>\n",
              "</div>"
            ],
            "text/plain": [
              "               Wealth  Previous Peak  Drawdown\n",
              "1995-01   1054.300000    1054.300000  0.000000\n",
              "1995-02   1075.386000    1075.386000  0.000000\n",
              "1995-03   1092.054483    1092.054483  0.000000\n",
              "1995-04   1120.447900    1120.447900  0.000000\n",
              "1995-05   1139.719603    1139.719603  0.000000\n",
              "...               ...            ...       ...\n",
              "2015-08  12892.580763   14719.179235 -0.124096\n",
              "2015-09  12173.174757   14719.179235 -0.172972\n",
              "2015-10  12503.067793   14719.179235 -0.150559\n",
              "2015-11  12639.351232   14719.179235 -0.141301\n",
              "2015-12  12038.982048   14719.179235 -0.182089\n",
              "\n",
              "[252 rows x 3 columns]"
            ]
          },
          "metadata": {
            "tags": []
          },
          "execution_count": 36
        }
      ]
    },
    {
      "cell_type": "markdown",
      "metadata": {
        "id": "any2W4ylx8P1",
        "colab_type": "text"
      },
      "source": [
        "### Old Q1-2"
      ]
    },
    {
      "cell_type": "code",
      "metadata": {
        "id": "w--6LfhPtNRA",
        "colab_type": "code",
        "colab": {
          "base_uri": "https://localhost:8080/",
          "height": 85
        },
        "outputId": "3c577129-c551-44df-cb1d-79994cc98850"
      },
      "source": [
        "#Annualized Return of the Lo 20 portfolio over the entire period\n",
        "returns_overall = (1 + ffme['LargeCap']).prod() - 1.0\n",
        "returns_monthly = (1.0 + returns_overall) ** (1.0 / ffme.shape[0]) - 1.0\n",
        "returns_annually = (1.0 + returns_monthly) ** 12 - 1.0\n",
        "print(f\"returns_LargeCap: overall:{returns_overall:0.4f}; monthly:{returns_monthly}; \")\n",
        "print(f\"  annually:{returns_annually}\")\n",
        "print(f\"\\nAnswer:{returns_annually * 100.0:0.2f}\")"
      ],
      "execution_count": 14,
      "outputs": [
        {
          "output_type": "stream",
          "text": [
            "returns_LargeCap: overall:3674.9481; monthly:0.007423423733719403; \n",
            "  annually:0.0928096810826724\n",
            "\n",
            "Answer:9.28\n"
          ],
          "name": "stdout"
        }
      ]
    },
    {
      "cell_type": "code",
      "metadata": {
        "id": "FPpbUUx1x5vc",
        "colab_type": "code",
        "colab": {
          "base_uri": "https://localhost:8080/",
          "height": 34
        },
        "outputId": "328dba87-5a1f-444d-808f-4831da0fee28"
      },
      "source": [
        "print(f\"Answer: annualized volatility: {ffme['LargeCap'].std() * np.sqrt(12):0.2f}\")"
      ],
      "execution_count": 18,
      "outputs": [
        {
          "output_type": "stream",
          "text": [
            "Answer: annualized volatility: 0.19\n"
          ],
          "name": "stdout"
        }
      ]
    },
    {
      "cell_type": "markdown",
      "metadata": {
        "id": "Y9HMe27rzwM_",
        "colab_type": "text"
      },
      "source": [
        "##Q13-16"
      ]
    },
    {
      "cell_type": "code",
      "metadata": {
        "id": "WicYMh0Fz3QN",
        "colab_type": "code",
        "colab": {
          "base_uri": "https://localhost:8080/",
          "height": 679
        },
        "outputId": "364b068a-190d-4761-e139-2b5a9c03e3fe"
      },
      "source": [
        "hfi = erk.get_hfi_returns(DATAPATH)\n",
        "hfi"
      ],
      "execution_count": 47,
      "outputs": [
        {
          "output_type": "execute_result",
          "data": {
            "text/html": [
              "<div>\n",
              "<style scoped>\n",
              "    .dataframe tbody tr th:only-of-type {\n",
              "        vertical-align: middle;\n",
              "    }\n",
              "\n",
              "    .dataframe tbody tr th {\n",
              "        vertical-align: top;\n",
              "    }\n",
              "\n",
              "    .dataframe thead th {\n",
              "        text-align: right;\n",
              "    }\n",
              "</style>\n",
              "<table border=\"1\" class=\"dataframe\">\n",
              "  <thead>\n",
              "    <tr style=\"text-align: right;\">\n",
              "      <th></th>\n",
              "      <th>Convertible Arbitrage</th>\n",
              "      <th>CTA Global</th>\n",
              "      <th>Distressed Securities</th>\n",
              "      <th>Emerging Markets</th>\n",
              "      <th>Equity Market Neutral</th>\n",
              "      <th>Event Driven</th>\n",
              "      <th>Fixed Income Arbitrage</th>\n",
              "      <th>Global Macro</th>\n",
              "      <th>Long/Short Equity</th>\n",
              "      <th>Merger Arbitrage</th>\n",
              "      <th>Relative Value</th>\n",
              "      <th>Short Selling</th>\n",
              "      <th>Funds Of Funds</th>\n",
              "    </tr>\n",
              "    <tr>\n",
              "      <th>date</th>\n",
              "      <th></th>\n",
              "      <th></th>\n",
              "      <th></th>\n",
              "      <th></th>\n",
              "      <th></th>\n",
              "      <th></th>\n",
              "      <th></th>\n",
              "      <th></th>\n",
              "      <th></th>\n",
              "      <th></th>\n",
              "      <th></th>\n",
              "      <th></th>\n",
              "      <th></th>\n",
              "    </tr>\n",
              "  </thead>\n",
              "  <tbody>\n",
              "    <tr>\n",
              "      <th>1997-01</th>\n",
              "      <td>0.0119</td>\n",
              "      <td>0.0393</td>\n",
              "      <td>0.0178</td>\n",
              "      <td>0.0791</td>\n",
              "      <td>0.0189</td>\n",
              "      <td>0.0213</td>\n",
              "      <td>0.0191</td>\n",
              "      <td>0.0573</td>\n",
              "      <td>0.0281</td>\n",
              "      <td>0.0150</td>\n",
              "      <td>0.0180</td>\n",
              "      <td>-0.0166</td>\n",
              "      <td>0.0317</td>\n",
              "    </tr>\n",
              "    <tr>\n",
              "      <th>1997-02</th>\n",
              "      <td>0.0123</td>\n",
              "      <td>0.0298</td>\n",
              "      <td>0.0122</td>\n",
              "      <td>0.0525</td>\n",
              "      <td>0.0101</td>\n",
              "      <td>0.0084</td>\n",
              "      <td>0.0122</td>\n",
              "      <td>0.0175</td>\n",
              "      <td>-0.0006</td>\n",
              "      <td>0.0034</td>\n",
              "      <td>0.0118</td>\n",
              "      <td>0.0426</td>\n",
              "      <td>0.0106</td>\n",
              "    </tr>\n",
              "    <tr>\n",
              "      <th>1997-03</th>\n",
              "      <td>0.0078</td>\n",
              "      <td>-0.0021</td>\n",
              "      <td>-0.0012</td>\n",
              "      <td>-0.0120</td>\n",
              "      <td>0.0016</td>\n",
              "      <td>-0.0023</td>\n",
              "      <td>0.0109</td>\n",
              "      <td>-0.0119</td>\n",
              "      <td>-0.0084</td>\n",
              "      <td>0.0060</td>\n",
              "      <td>0.0010</td>\n",
              "      <td>0.0778</td>\n",
              "      <td>-0.0077</td>\n",
              "    </tr>\n",
              "    <tr>\n",
              "      <th>1997-04</th>\n",
              "      <td>0.0086</td>\n",
              "      <td>-0.0170</td>\n",
              "      <td>0.0030</td>\n",
              "      <td>0.0119</td>\n",
              "      <td>0.0119</td>\n",
              "      <td>-0.0005</td>\n",
              "      <td>0.0130</td>\n",
              "      <td>0.0172</td>\n",
              "      <td>0.0084</td>\n",
              "      <td>-0.0001</td>\n",
              "      <td>0.0122</td>\n",
              "      <td>-0.0129</td>\n",
              "      <td>0.0009</td>\n",
              "    </tr>\n",
              "    <tr>\n",
              "      <th>1997-05</th>\n",
              "      <td>0.0156</td>\n",
              "      <td>-0.0015</td>\n",
              "      <td>0.0233</td>\n",
              "      <td>0.0315</td>\n",
              "      <td>0.0189</td>\n",
              "      <td>0.0346</td>\n",
              "      <td>0.0118</td>\n",
              "      <td>0.0108</td>\n",
              "      <td>0.0394</td>\n",
              "      <td>0.0197</td>\n",
              "      <td>0.0173</td>\n",
              "      <td>-0.0737</td>\n",
              "      <td>0.0275</td>\n",
              "    </tr>\n",
              "    <tr>\n",
              "      <th>...</th>\n",
              "      <td>...</td>\n",
              "      <td>...</td>\n",
              "      <td>...</td>\n",
              "      <td>...</td>\n",
              "      <td>...</td>\n",
              "      <td>...</td>\n",
              "      <td>...</td>\n",
              "      <td>...</td>\n",
              "      <td>...</td>\n",
              "      <td>...</td>\n",
              "      <td>...</td>\n",
              "      <td>...</td>\n",
              "      <td>...</td>\n",
              "    </tr>\n",
              "    <tr>\n",
              "      <th>2018-07</th>\n",
              "      <td>0.0021</td>\n",
              "      <td>-0.0058</td>\n",
              "      <td>0.0093</td>\n",
              "      <td>0.0040</td>\n",
              "      <td>-0.0010</td>\n",
              "      <td>0.0055</td>\n",
              "      <td>0.0022</td>\n",
              "      <td>-0.0014</td>\n",
              "      <td>0.0067</td>\n",
              "      <td>-0.0021</td>\n",
              "      <td>0.0045</td>\n",
              "      <td>-0.0052</td>\n",
              "      <td>0.0018</td>\n",
              "    </tr>\n",
              "    <tr>\n",
              "      <th>2018-08</th>\n",
              "      <td>0.0024</td>\n",
              "      <td>0.0166</td>\n",
              "      <td>0.0002</td>\n",
              "      <td>-0.0277</td>\n",
              "      <td>0.0004</td>\n",
              "      <td>0.0011</td>\n",
              "      <td>0.0017</td>\n",
              "      <td>-0.0007</td>\n",
              "      <td>0.0035</td>\n",
              "      <td>0.0050</td>\n",
              "      <td>-0.0002</td>\n",
              "      <td>-0.0214</td>\n",
              "      <td>0.0015</td>\n",
              "    </tr>\n",
              "    <tr>\n",
              "      <th>2018-09</th>\n",
              "      <td>0.0034</td>\n",
              "      <td>-0.0054</td>\n",
              "      <td>0.0050</td>\n",
              "      <td>-0.0110</td>\n",
              "      <td>-0.0016</td>\n",
              "      <td>0.0032</td>\n",
              "      <td>0.0036</td>\n",
              "      <td>0.0006</td>\n",
              "      <td>-0.0023</td>\n",
              "      <td>0.0028</td>\n",
              "      <td>0.0018</td>\n",
              "      <td>0.0036</td>\n",
              "      <td>-0.0022</td>\n",
              "    </tr>\n",
              "    <tr>\n",
              "      <th>2018-10</th>\n",
              "      <td>-0.0073</td>\n",
              "      <td>-0.0314</td>\n",
              "      <td>-0.0158</td>\n",
              "      <td>-0.0315</td>\n",
              "      <td>-0.0129</td>\n",
              "      <td>-0.0257</td>\n",
              "      <td>-0.0023</td>\n",
              "      <td>-0.0096</td>\n",
              "      <td>-0.0402</td>\n",
              "      <td>-0.0080</td>\n",
              "      <td>-0.0109</td>\n",
              "      <td>0.0237</td>\n",
              "      <td>-0.0269</td>\n",
              "    </tr>\n",
              "    <tr>\n",
              "      <th>2018-11</th>\n",
              "      <td>-0.0068</td>\n",
              "      <td>-0.0053</td>\n",
              "      <td>-0.0193</td>\n",
              "      <td>0.0120</td>\n",
              "      <td>-0.0211</td>\n",
              "      <td>-0.0034</td>\n",
              "      <td>-0.0067</td>\n",
              "      <td>-0.0087</td>\n",
              "      <td>-0.0044</td>\n",
              "      <td>0.0119</td>\n",
              "      <td>-0.0063</td>\n",
              "      <td>-0.0021</td>\n",
              "      <td>-0.0071</td>\n",
              "    </tr>\n",
              "  </tbody>\n",
              "</table>\n",
              "<p>263 rows × 13 columns</p>\n",
              "</div>"
            ],
            "text/plain": [
              "         Convertible Arbitrage  CTA Global  ...  Short Selling  Funds Of Funds\n",
              "date                                        ...                               \n",
              "1997-01                 0.0119      0.0393  ...        -0.0166          0.0317\n",
              "1997-02                 0.0123      0.0298  ...         0.0426          0.0106\n",
              "1997-03                 0.0078     -0.0021  ...         0.0778         -0.0077\n",
              "1997-04                 0.0086     -0.0170  ...        -0.0129          0.0009\n",
              "1997-05                 0.0156     -0.0015  ...        -0.0737          0.0275\n",
              "...                        ...         ...  ...            ...             ...\n",
              "2018-07                 0.0021     -0.0058  ...        -0.0052          0.0018\n",
              "2018-08                 0.0024      0.0166  ...        -0.0214          0.0015\n",
              "2018-09                 0.0034     -0.0054  ...         0.0036         -0.0022\n",
              "2018-10                -0.0073     -0.0314  ...         0.0237         -0.0269\n",
              "2018-11                -0.0068     -0.0053  ...        -0.0021         -0.0071\n",
              "\n",
              "[263 rows x 13 columns]"
            ]
          },
          "metadata": {
            "tags": []
          },
          "execution_count": 47
        }
      ]
    },
    {
      "cell_type": "code",
      "metadata": {
        "id": "f_r2aKA10Hri",
        "colab_type": "code",
        "colab": {
          "base_uri": "https://localhost:8080/",
          "height": 674
        },
        "outputId": "88a8e0ed-a1c1-48af-9c8d-e45a22c418e5"
      },
      "source": [
        "hfi_2009_end = hfi['2009':]\n",
        "hfi_2009_end"
      ],
      "execution_count": 48,
      "outputs": [
        {
          "output_type": "execute_result",
          "data": {
            "text/html": [
              "<div>\n",
              "<style scoped>\n",
              "    .dataframe tbody tr th:only-of-type {\n",
              "        vertical-align: middle;\n",
              "    }\n",
              "\n",
              "    .dataframe tbody tr th {\n",
              "        vertical-align: top;\n",
              "    }\n",
              "\n",
              "    .dataframe thead th {\n",
              "        text-align: right;\n",
              "    }\n",
              "</style>\n",
              "<table border=\"1\" class=\"dataframe\">\n",
              "  <thead>\n",
              "    <tr style=\"text-align: right;\">\n",
              "      <th></th>\n",
              "      <th>Convertible Arbitrage</th>\n",
              "      <th>CTA Global</th>\n",
              "      <th>Distressed Securities</th>\n",
              "      <th>Emerging Markets</th>\n",
              "      <th>Equity Market Neutral</th>\n",
              "      <th>Event Driven</th>\n",
              "      <th>Fixed Income Arbitrage</th>\n",
              "      <th>Global Macro</th>\n",
              "      <th>Long/Short Equity</th>\n",
              "      <th>Merger Arbitrage</th>\n",
              "      <th>Relative Value</th>\n",
              "      <th>Short Selling</th>\n",
              "      <th>Funds Of Funds</th>\n",
              "    </tr>\n",
              "    <tr>\n",
              "      <th>date</th>\n",
              "      <th></th>\n",
              "      <th></th>\n",
              "      <th></th>\n",
              "      <th></th>\n",
              "      <th></th>\n",
              "      <th></th>\n",
              "      <th></th>\n",
              "      <th></th>\n",
              "      <th></th>\n",
              "      <th></th>\n",
              "      <th></th>\n",
              "      <th></th>\n",
              "      <th></th>\n",
              "    </tr>\n",
              "  </thead>\n",
              "  <tbody>\n",
              "    <tr>\n",
              "      <th>2009-01</th>\n",
              "      <td>0.0491</td>\n",
              "      <td>-0.0016</td>\n",
              "      <td>0.0082</td>\n",
              "      <td>-0.0112</td>\n",
              "      <td>0.0079</td>\n",
              "      <td>0.0132</td>\n",
              "      <td>0.0112</td>\n",
              "      <td>0.0029</td>\n",
              "      <td>-0.0017</td>\n",
              "      <td>0.0056</td>\n",
              "      <td>0.0100</td>\n",
              "      <td>0.0282</td>\n",
              "      <td>0.0060</td>\n",
              "    </tr>\n",
              "    <tr>\n",
              "      <th>2009-02</th>\n",
              "      <td>0.0164</td>\n",
              "      <td>-0.0031</td>\n",
              "      <td>-0.0122</td>\n",
              "      <td>-0.0133</td>\n",
              "      <td>-0.0046</td>\n",
              "      <td>-0.0091</td>\n",
              "      <td>0.0065</td>\n",
              "      <td>-0.0055</td>\n",
              "      <td>-0.0161</td>\n",
              "      <td>0.0006</td>\n",
              "      <td>-0.0016</td>\n",
              "      <td>0.0328</td>\n",
              "      <td>-0.0037</td>\n",
              "    </tr>\n",
              "    <tr>\n",
              "      <th>2009-03</th>\n",
              "      <td>0.0235</td>\n",
              "      <td>-0.0180</td>\n",
              "      <td>0.0022</td>\n",
              "      <td>0.0350</td>\n",
              "      <td>0.0021</td>\n",
              "      <td>0.0117</td>\n",
              "      <td>0.0057</td>\n",
              "      <td>0.0048</td>\n",
              "      <td>0.0188</td>\n",
              "      <td>0.0125</td>\n",
              "      <td>0.0100</td>\n",
              "      <td>-0.0462</td>\n",
              "      <td>0.0008</td>\n",
              "    </tr>\n",
              "    <tr>\n",
              "      <th>2009-04</th>\n",
              "      <td>0.0500</td>\n",
              "      <td>-0.0140</td>\n",
              "      <td>0.0387</td>\n",
              "      <td>0.0663</td>\n",
              "      <td>-0.0012</td>\n",
              "      <td>0.0337</td>\n",
              "      <td>0.0221</td>\n",
              "      <td>0.0127</td>\n",
              "      <td>0.0375</td>\n",
              "      <td>0.0081</td>\n",
              "      <td>0.0342</td>\n",
              "      <td>-0.0820</td>\n",
              "      <td>0.0092</td>\n",
              "    </tr>\n",
              "    <tr>\n",
              "      <th>2009-05</th>\n",
              "      <td>0.0578</td>\n",
              "      <td>0.0213</td>\n",
              "      <td>0.0504</td>\n",
              "      <td>0.0884</td>\n",
              "      <td>0.0146</td>\n",
              "      <td>0.0442</td>\n",
              "      <td>0.0365</td>\n",
              "      <td>0.0348</td>\n",
              "      <td>0.0516</td>\n",
              "      <td>0.0107</td>\n",
              "      <td>0.0392</td>\n",
              "      <td>0.0008</td>\n",
              "      <td>0.0312</td>\n",
              "    </tr>\n",
              "    <tr>\n",
              "      <th>...</th>\n",
              "      <td>...</td>\n",
              "      <td>...</td>\n",
              "      <td>...</td>\n",
              "      <td>...</td>\n",
              "      <td>...</td>\n",
              "      <td>...</td>\n",
              "      <td>...</td>\n",
              "      <td>...</td>\n",
              "      <td>...</td>\n",
              "      <td>...</td>\n",
              "      <td>...</td>\n",
              "      <td>...</td>\n",
              "      <td>...</td>\n",
              "    </tr>\n",
              "    <tr>\n",
              "      <th>2018-07</th>\n",
              "      <td>0.0021</td>\n",
              "      <td>-0.0058</td>\n",
              "      <td>0.0093</td>\n",
              "      <td>0.0040</td>\n",
              "      <td>-0.0010</td>\n",
              "      <td>0.0055</td>\n",
              "      <td>0.0022</td>\n",
              "      <td>-0.0014</td>\n",
              "      <td>0.0067</td>\n",
              "      <td>-0.0021</td>\n",
              "      <td>0.0045</td>\n",
              "      <td>-0.0052</td>\n",
              "      <td>0.0018</td>\n",
              "    </tr>\n",
              "    <tr>\n",
              "      <th>2018-08</th>\n",
              "      <td>0.0024</td>\n",
              "      <td>0.0166</td>\n",
              "      <td>0.0002</td>\n",
              "      <td>-0.0277</td>\n",
              "      <td>0.0004</td>\n",
              "      <td>0.0011</td>\n",
              "      <td>0.0017</td>\n",
              "      <td>-0.0007</td>\n",
              "      <td>0.0035</td>\n",
              "      <td>0.0050</td>\n",
              "      <td>-0.0002</td>\n",
              "      <td>-0.0214</td>\n",
              "      <td>0.0015</td>\n",
              "    </tr>\n",
              "    <tr>\n",
              "      <th>2018-09</th>\n",
              "      <td>0.0034</td>\n",
              "      <td>-0.0054</td>\n",
              "      <td>0.0050</td>\n",
              "      <td>-0.0110</td>\n",
              "      <td>-0.0016</td>\n",
              "      <td>0.0032</td>\n",
              "      <td>0.0036</td>\n",
              "      <td>0.0006</td>\n",
              "      <td>-0.0023</td>\n",
              "      <td>0.0028</td>\n",
              "      <td>0.0018</td>\n",
              "      <td>0.0036</td>\n",
              "      <td>-0.0022</td>\n",
              "    </tr>\n",
              "    <tr>\n",
              "      <th>2018-10</th>\n",
              "      <td>-0.0073</td>\n",
              "      <td>-0.0314</td>\n",
              "      <td>-0.0158</td>\n",
              "      <td>-0.0315</td>\n",
              "      <td>-0.0129</td>\n",
              "      <td>-0.0257</td>\n",
              "      <td>-0.0023</td>\n",
              "      <td>-0.0096</td>\n",
              "      <td>-0.0402</td>\n",
              "      <td>-0.0080</td>\n",
              "      <td>-0.0109</td>\n",
              "      <td>0.0237</td>\n",
              "      <td>-0.0269</td>\n",
              "    </tr>\n",
              "    <tr>\n",
              "      <th>2018-11</th>\n",
              "      <td>-0.0068</td>\n",
              "      <td>-0.0053</td>\n",
              "      <td>-0.0193</td>\n",
              "      <td>0.0120</td>\n",
              "      <td>-0.0211</td>\n",
              "      <td>-0.0034</td>\n",
              "      <td>-0.0067</td>\n",
              "      <td>-0.0087</td>\n",
              "      <td>-0.0044</td>\n",
              "      <td>0.0119</td>\n",
              "      <td>-0.0063</td>\n",
              "      <td>-0.0021</td>\n",
              "      <td>-0.0071</td>\n",
              "    </tr>\n",
              "  </tbody>\n",
              "</table>\n",
              "<p>119 rows × 13 columns</p>\n",
              "</div>"
            ],
            "text/plain": [
              "         Convertible Arbitrage  CTA Global  ...  Short Selling  Funds Of Funds\n",
              "date                                        ...                               \n",
              "2009-01                 0.0491     -0.0016  ...         0.0282          0.0060\n",
              "2009-02                 0.0164     -0.0031  ...         0.0328         -0.0037\n",
              "2009-03                 0.0235     -0.0180  ...        -0.0462          0.0008\n",
              "2009-04                 0.0500     -0.0140  ...        -0.0820          0.0092\n",
              "2009-05                 0.0578      0.0213  ...         0.0008          0.0312\n",
              "...                        ...         ...  ...            ...             ...\n",
              "2018-07                 0.0021     -0.0058  ...        -0.0052          0.0018\n",
              "2018-08                 0.0024      0.0166  ...        -0.0214          0.0015\n",
              "2018-09                 0.0034     -0.0054  ...         0.0036         -0.0022\n",
              "2018-10                -0.0073     -0.0314  ...         0.0237         -0.0269\n",
              "2018-11                -0.0068     -0.0053  ...        -0.0021         -0.0071\n",
              "\n",
              "[119 rows x 13 columns]"
            ]
          },
          "metadata": {
            "tags": []
          },
          "execution_count": 48
        }
      ]
    },
    {
      "cell_type": "code",
      "metadata": {
        "id": "2IzQ-CZp0d-M",
        "colab_type": "code",
        "colab": {
          "base_uri": "https://localhost:8080/",
          "height": 255
        },
        "outputId": "1152f45f-7eef-4378-f56d-9c54cd3efb62"
      },
      "source": [
        "hfi_2009_end_semi_deviation = erk.semideviation(hfi_2009_end)\n",
        "hfi_2009_end_semi_deviation.sort_values()"
      ],
      "execution_count": 52,
      "outputs": [
        {
          "output_type": "execute_result",
          "data": {
            "text/plain": [
              "Fixed Income Arbitrage    0.003321\n",
              "Merger Arbitrage          0.003611\n",
              "Global Macro              0.005075\n",
              "Equity Market Neutral     0.005186\n",
              "Relative Value            0.005711\n",
              "Convertible Arbitrage     0.006681\n",
              "Funds Of Funds            0.007948\n",
              "Distressed Securities     0.009498\n",
              "Event Driven              0.010135\n",
              "CTA Global                0.010996\n",
              "Long/Short Equity         0.012139\n",
              "Emerging Markets          0.015276\n",
              "Short Selling             0.021240\n",
              "dtype: float64"
            ]
          },
          "metadata": {
            "tags": []
          },
          "execution_count": 52
        }
      ]
    },
    {
      "cell_type": "code",
      "metadata": {
        "id": "XLpKF3Hh1SIJ",
        "colab_type": "code",
        "colab": {
          "base_uri": "https://localhost:8080/",
          "height": 255
        },
        "outputId": "a9873e9d-334b-4c7c-8fdc-545bb7228e46"
      },
      "source": [
        "hfi_2009_end_skewness = erk.skewness(hfi_2009_end)\n",
        "hfi_2009_end_skewness.sort_values()"
      ],
      "execution_count": 53,
      "outputs": [
        {
          "output_type": "execute_result",
          "data": {
            "text/plain": [
              "Equity Market Neutral    -0.896327\n",
              "Funds Of Funds           -0.646908\n",
              "Merger Arbitrage         -0.551065\n",
              "Event Driven             -0.488821\n",
              "Long/Short Equity        -0.463703\n",
              "Distressed Securities    -0.254944\n",
              "Emerging Markets          0.033123\n",
              "CTA Global                0.052062\n",
              "Relative Value            0.159953\n",
              "Global Macro              0.348184\n",
              "Short Selling             0.456518\n",
              "Fixed Income Arbitrage    1.121453\n",
              "Convertible Arbitrage     1.305911\n",
              "dtype: float64"
            ]
          },
          "metadata": {
            "tags": []
          },
          "execution_count": 53
        }
      ]
    },
    {
      "cell_type": "code",
      "metadata": {
        "id": "5QCE9y1k1nGi",
        "colab_type": "code",
        "colab": {
          "base_uri": "https://localhost:8080/",
          "height": 255
        },
        "outputId": "df5de681-0bfa-443c-9cbf-94a7acd1f476"
      },
      "source": [
        "hfi_2009_end_kurtosis = erk.kurtosis(hfi_2009_end)\n",
        "hfi_2009_end_kurtosis.sort_values()"
      ],
      "execution_count": 54,
      "outputs": [
        {
          "output_type": "execute_result",
          "data": {
            "text/plain": [
              "CTA Global                2.591087\n",
              "Merger Arbitrage          2.715238\n",
              "Global Macro              3.164362\n",
              "Distressed Securities     3.319725\n",
              "Event Driven              3.620617\n",
              "Funds Of Funds            3.816132\n",
              "Long/Short Equity         4.115713\n",
              "Short Selling             4.175832\n",
              "Emerging Markets          4.401636\n",
              "Relative Value            4.512482\n",
              "Equity Market Neutral     5.071677\n",
              "Fixed Income Arbitrage    6.406941\n",
              "Convertible Arbitrage     6.775731\n",
              "dtype: float64"
            ]
          },
          "metadata": {
            "tags": []
          },
          "execution_count": 54
        }
      ]
    },
    {
      "cell_type": "markdown",
      "metadata": {
        "id": "hvo1GOwzh3A6",
        "colab_type": "text"
      },
      "source": [
        "# Downside Measures: SemiDeviation, VaR and CVaR\n",
        "\n",
        "We're going to look at a few measures of downside risk. We've already seen how to compute drawdowns, but we're going to look at 3 popular measures, and we are going to develop code to compute these and add them to our toolbox.\n",
        "\n",
        "The first measure is the simplest, which is the semideviation, which is nothing more than the volatility of the subset of returns that are negative.\n",
        "\n",
        "The code is very simple:\n",
        "\n",
        "```python\n",
        "def semideviation(r):\n",
        "    \"\"\"\n",
        "    Returns the semideviation aka negative semideviation of r\n",
        "    r must be a Series or a DataFrame, else raises a TypeError\n",
        "    \"\"\"\n",
        "    is_negative = r < 0\n",
        "    return r[is_negative].std(ddof=0)\n",
        "```\n"
      ]
    },
    {
      "cell_type": "code",
      "metadata": {
        "id": "kRI3qXSZh3BQ",
        "colab_type": "code",
        "colab": {}
      },
      "source": [
        "hfi = erk.get_hfi_returns(DATAPATH)"
      ],
      "execution_count": 0,
      "outputs": []
    },
    {
      "cell_type": "code",
      "metadata": {
        "id": "Lm5PCW_5iZoT",
        "colab_type": "code",
        "outputId": "5f01ff41-afb2-433d-d3e9-5f8d5238d017",
        "colab": {
          "base_uri": "https://localhost:8080/",
          "height": 351
        }
      },
      "source": [
        "hfi.describe()"
      ],
      "execution_count": 0,
      "outputs": [
        {
          "output_type": "execute_result",
          "data": {
            "text/html": [
              "<div>\n",
              "<style scoped>\n",
              "    .dataframe tbody tr th:only-of-type {\n",
              "        vertical-align: middle;\n",
              "    }\n",
              "\n",
              "    .dataframe tbody tr th {\n",
              "        vertical-align: top;\n",
              "    }\n",
              "\n",
              "    .dataframe thead th {\n",
              "        text-align: right;\n",
              "    }\n",
              "</style>\n",
              "<table border=\"1\" class=\"dataframe\">\n",
              "  <thead>\n",
              "    <tr style=\"text-align: right;\">\n",
              "      <th></th>\n",
              "      <th>Convertible Arbitrage</th>\n",
              "      <th>CTA Global</th>\n",
              "      <th>Distressed Securities</th>\n",
              "      <th>Emerging Markets</th>\n",
              "      <th>Equity Market Neutral</th>\n",
              "      <th>Event Driven</th>\n",
              "      <th>Fixed Income Arbitrage</th>\n",
              "      <th>Global Macro</th>\n",
              "      <th>Long/Short Equity</th>\n",
              "      <th>Merger Arbitrage</th>\n",
              "      <th>Relative Value</th>\n",
              "      <th>Short Selling</th>\n",
              "      <th>Funds Of Funds</th>\n",
              "    </tr>\n",
              "  </thead>\n",
              "  <tbody>\n",
              "    <tr>\n",
              "      <th>count</th>\n",
              "      <td>263.000000</td>\n",
              "      <td>263.000000</td>\n",
              "      <td>263.000000</td>\n",
              "      <td>263.000000</td>\n",
              "      <td>263.000000</td>\n",
              "      <td>263.000000</td>\n",
              "      <td>263.000000</td>\n",
              "      <td>263.000000</td>\n",
              "      <td>263.000000</td>\n",
              "      <td>263.000000</td>\n",
              "      <td>263.000000</td>\n",
              "      <td>263.000000</td>\n",
              "      <td>263.000000</td>\n",
              "    </tr>\n",
              "    <tr>\n",
              "      <th>mean</th>\n",
              "      <td>0.005508</td>\n",
              "      <td>0.004074</td>\n",
              "      <td>0.006946</td>\n",
              "      <td>0.006253</td>\n",
              "      <td>0.004498</td>\n",
              "      <td>0.006344</td>\n",
              "      <td>0.004365</td>\n",
              "      <td>0.005403</td>\n",
              "      <td>0.006331</td>\n",
              "      <td>0.005356</td>\n",
              "      <td>0.005792</td>\n",
              "      <td>-0.001701</td>\n",
              "      <td>0.004262</td>\n",
              "    </tr>\n",
              "    <tr>\n",
              "      <th>std</th>\n",
              "      <td>0.016567</td>\n",
              "      <td>0.023335</td>\n",
              "      <td>0.017042</td>\n",
              "      <td>0.032538</td>\n",
              "      <td>0.008130</td>\n",
              "      <td>0.016744</td>\n",
              "      <td>0.011539</td>\n",
              "      <td>0.014722</td>\n",
              "      <td>0.019935</td>\n",
              "      <td>0.009619</td>\n",
              "      <td>0.011484</td>\n",
              "      <td>0.047746</td>\n",
              "      <td>0.015566</td>\n",
              "    </tr>\n",
              "    <tr>\n",
              "      <th>min</th>\n",
              "      <td>-0.123700</td>\n",
              "      <td>-0.056800</td>\n",
              "      <td>-0.083600</td>\n",
              "      <td>-0.192200</td>\n",
              "      <td>-0.058700</td>\n",
              "      <td>-0.088600</td>\n",
              "      <td>-0.086700</td>\n",
              "      <td>-0.031300</td>\n",
              "      <td>-0.067500</td>\n",
              "      <td>-0.054400</td>\n",
              "      <td>-0.069200</td>\n",
              "      <td>-0.134000</td>\n",
              "      <td>-0.061800</td>\n",
              "    </tr>\n",
              "    <tr>\n",
              "      <th>25%</th>\n",
              "      <td>-0.000150</td>\n",
              "      <td>-0.012050</td>\n",
              "      <td>-0.001450</td>\n",
              "      <td>-0.009750</td>\n",
              "      <td>0.001500</td>\n",
              "      <td>-0.001450</td>\n",
              "      <td>0.001650</td>\n",
              "      <td>-0.004050</td>\n",
              "      <td>-0.004750</td>\n",
              "      <td>0.000600</td>\n",
              "      <td>0.001000</td>\n",
              "      <td>-0.027100</td>\n",
              "      <td>-0.003500</td>\n",
              "    </tr>\n",
              "    <tr>\n",
              "      <th>50%</th>\n",
              "      <td>0.006500</td>\n",
              "      <td>0.001400</td>\n",
              "      <td>0.008900</td>\n",
              "      <td>0.009600</td>\n",
              "      <td>0.005100</td>\n",
              "      <td>0.008400</td>\n",
              "      <td>0.005500</td>\n",
              "      <td>0.003800</td>\n",
              "      <td>0.007900</td>\n",
              "      <td>0.006000</td>\n",
              "      <td>0.006700</td>\n",
              "      <td>-0.005300</td>\n",
              "      <td>0.005200</td>\n",
              "    </tr>\n",
              "    <tr>\n",
              "      <th>75%</th>\n",
              "      <td>0.013600</td>\n",
              "      <td>0.019850</td>\n",
              "      <td>0.017750</td>\n",
              "      <td>0.025700</td>\n",
              "      <td>0.008300</td>\n",
              "      <td>0.016200</td>\n",
              "      <td>0.009550</td>\n",
              "      <td>0.012400</td>\n",
              "      <td>0.019150</td>\n",
              "      <td>0.011100</td>\n",
              "      <td>0.012950</td>\n",
              "      <td>0.019850</td>\n",
              "      <td>0.012100</td>\n",
              "    </tr>\n",
              "    <tr>\n",
              "      <th>max</th>\n",
              "      <td>0.061100</td>\n",
              "      <td>0.069100</td>\n",
              "      <td>0.050400</td>\n",
              "      <td>0.123000</td>\n",
              "      <td>0.025300</td>\n",
              "      <td>0.044200</td>\n",
              "      <td>0.036500</td>\n",
              "      <td>0.073800</td>\n",
              "      <td>0.074500</td>\n",
              "      <td>0.027200</td>\n",
              "      <td>0.039200</td>\n",
              "      <td>0.246300</td>\n",
              "      <td>0.066600</td>\n",
              "    </tr>\n",
              "  </tbody>\n",
              "</table>\n",
              "</div>"
            ],
            "text/plain": [
              "       Convertible Arbitrage  CTA Global  ...  Short Selling  Funds Of Funds\n",
              "count             263.000000  263.000000  ...     263.000000      263.000000\n",
              "mean                0.005508    0.004074  ...      -0.001701        0.004262\n",
              "std                 0.016567    0.023335  ...       0.047746        0.015566\n",
              "min                -0.123700   -0.056800  ...      -0.134000       -0.061800\n",
              "25%                -0.000150   -0.012050  ...      -0.027100       -0.003500\n",
              "50%                 0.006500    0.001400  ...      -0.005300        0.005200\n",
              "75%                 0.013600    0.019850  ...       0.019850        0.012100\n",
              "max                 0.061100    0.069100  ...       0.246300        0.066600\n",
              "\n",
              "[8 rows x 13 columns]"
            ]
          },
          "metadata": {
            "tags": []
          },
          "execution_count": 10
        }
      ]
    },
    {
      "cell_type": "code",
      "metadata": {
        "id": "f0U8cIylh3Bc",
        "colab_type": "code",
        "colab": {}
      },
      "source": [
        "def semideviation(r):\n",
        "    \"\"\"\n",
        "    Returns the semideviation aka negative semideviation of r\n",
        "    r must be a Series or a DataFrame, else raises a TypeError\n",
        "    \"\"\"\n",
        "    is_negative = r < 0\n",
        "    return r[is_negative].std(ddof=0)\n"
      ],
      "execution_count": 0,
      "outputs": []
    },
    {
      "cell_type": "code",
      "metadata": {
        "id": "DNZE82cph3Bn",
        "colab_type": "code",
        "outputId": "fb3e1983-aa15-4b6c-dcb3-1d3b179a9de3",
        "colab": {
          "base_uri": "https://localhost:8080/",
          "height": 255
        }
      },
      "source": [
        "erk.semideviation(hfi)"
      ],
      "execution_count": 0,
      "outputs": [
        {
          "output_type": "execute_result",
          "data": {
            "text/plain": [
              "Convertible Arbitrage     0.019540\n",
              "CTA Global                0.012443\n",
              "Distressed Securities     0.015185\n",
              "Emerging Markets          0.028039\n",
              "Equity Market Neutral     0.009566\n",
              "Event Driven              0.015429\n",
              "Fixed Income Arbitrage    0.017763\n",
              "Global Macro              0.006579\n",
              "Long/Short Equity         0.014051\n",
              "Merger Arbitrage          0.008875\n",
              "Relative Value            0.012244\n",
              "Short Selling             0.027283\n",
              "Funds Of Funds            0.012122\n",
              "dtype: float64"
            ]
          },
          "metadata": {
            "tags": []
          },
          "execution_count": 12
        }
      ]
    },
    {
      "cell_type": "code",
      "metadata": {
        "id": "UcQfyQA5h3Bx",
        "colab_type": "code",
        "outputId": "5738c2b0-a658-4f96-9eee-d55fe77317db",
        "colab": {
          "base_uri": "https://localhost:8080/",
          "height": 255
        }
      },
      "source": [
        "hfi[hfi<0].std(ddof=0)"
      ],
      "execution_count": 0,
      "outputs": [
        {
          "output_type": "execute_result",
          "data": {
            "text/plain": [
              "Convertible Arbitrage     0.019540\n",
              "CTA Global                0.012443\n",
              "Distressed Securities     0.015185\n",
              "Emerging Markets          0.028039\n",
              "Equity Market Neutral     0.009566\n",
              "Event Driven              0.015429\n",
              "Fixed Income Arbitrage    0.017763\n",
              "Global Macro              0.006579\n",
              "Long/Short Equity         0.014051\n",
              "Merger Arbitrage          0.008875\n",
              "Relative Value            0.012244\n",
              "Short Selling             0.027283\n",
              "Funds Of Funds            0.012122\n",
              "dtype: float64"
            ]
          },
          "metadata": {
            "tags": []
          },
          "execution_count": 13
        }
      ]
    },
    {
      "cell_type": "code",
      "metadata": {
        "id": "wDZy_-qMh3B6",
        "colab_type": "code",
        "outputId": "959f45d5-6cc0-44b5-90a0-ed9ef7f7cc06",
        "colab": {
          "base_uri": "https://localhost:8080/",
          "height": 255
        }
      },
      "source": [
        "erk.semideviation(hfi).sort_values()"
      ],
      "execution_count": 0,
      "outputs": [
        {
          "output_type": "execute_result",
          "data": {
            "text/plain": [
              "Global Macro              0.006579\n",
              "Merger Arbitrage          0.008875\n",
              "Equity Market Neutral     0.009566\n",
              "Funds Of Funds            0.012122\n",
              "Relative Value            0.012244\n",
              "CTA Global                0.012443\n",
              "Long/Short Equity         0.014051\n",
              "Distressed Securities     0.015185\n",
              "Event Driven              0.015429\n",
              "Fixed Income Arbitrage    0.017763\n",
              "Convertible Arbitrage     0.019540\n",
              "Short Selling             0.027283\n",
              "Emerging Markets          0.028039\n",
              "dtype: float64"
            ]
          },
          "metadata": {
            "tags": []
          },
          "execution_count": 14
        }
      ]
    },
    {
      "cell_type": "code",
      "metadata": {
        "id": "fy0Rjbp0h3CC",
        "colab_type": "code",
        "outputId": "8feee5c2-6506-47b9-a711-ae35fa43b8ab",
        "colab": {
          "base_uri": "https://localhost:8080/",
          "height": 68
        }
      },
      "source": [
        "ffme = erk.get_ffme_returns(DATAPATH)\n",
        "erk.semideviation(ffme)"
      ],
      "execution_count": 0,
      "outputs": [
        {
          "output_type": "execute_result",
          "data": {
            "text/plain": [
              "SmallCap    0.051772\n",
              "LargeCap    0.040245\n",
              "dtype: float64"
            ]
          },
          "metadata": {
            "tags": []
          },
          "execution_count": 17
        }
      ]
    },
    {
      "cell_type": "code",
      "metadata": {
        "id": "jWFGDpLBh3CJ",
        "colab_type": "code",
        "colab": {}
      },
      "source": [
        "# This will not work: erk.semideviation([1,2,3,4])"
      ],
      "execution_count": 0,
      "outputs": []
    },
    {
      "cell_type": "markdown",
      "metadata": {
        "id": "T3Ud1pHFh3CO",
        "colab_type": "text"
      },
      "source": [
        "# VaR and CVaR\n",
        "\n",
        "We'll look at three different ways to compute Value At Risk\n",
        "\n",
        "1. Historic VaR\n",
        "2. Parametric Gaussian VaR\n",
        "3. Modified (Cornish-Fisher) VaR\n",
        "\n",
        "To compute the historic VaR at a certain level, say 5%, all we have to do is to find the number such that 5% of the returns fall below that number and 95% of the returns fall above that number. In other words, we want the 5 percentile return.\n",
        "\n",
        "Fortunately, numpy has a `np.percentile` function that computes exactly that.\n",
        "\n",
        "Add the following code to the `edhec_risk_kit.py` file:\n",
        "\n",
        "```python\n",
        "\n",
        "def var_historic(r, level=5):\n",
        "    \"\"\"\n",
        "    Returns the historic Value at Risk at a specified level\n",
        "    i.e. returns the number such that \"level\" percent of the returns\n",
        "    fall below that number, and the (100-level) percent are above\n",
        "    \"\"\"\n",
        "    if isinstance(r, pd.DataFrame):\n",
        "        return r.aggregate(var_historic, level=level)\n",
        "    elif isinstance(r, pd.Series):\n",
        "        return -np.percentile(r, level)\n",
        "    else:\n",
        "        raise TypeError(\"Expected r to be a Series or DataFrame\")        \n",
        "```\n"
      ]
    },
    {
      "cell_type": "code",
      "metadata": {
        "id": "xn_gGs-dh3CP",
        "colab_type": "code",
        "outputId": "3448548d-4273-491f-cc1a-10cab8963f00",
        "colab": {
          "base_uri": "https://localhost:8080/",
          "height": 68
        }
      },
      "source": [
        "import numpy as np\n",
        "np.percentile(hfi, 5, axis=0)"
      ],
      "execution_count": 0,
      "outputs": [
        {
          "output_type": "execute_result",
          "data": {
            "text/plain": [
              "array([-0.01576, -0.03169, -0.01966, -0.04247, -0.00814, -0.02535,\n",
              "       -0.00787, -0.01499, -0.02598, -0.01047, -0.01174, -0.06783,\n",
              "       -0.02047])"
            ]
          },
          "metadata": {
            "tags": []
          },
          "execution_count": 21
        }
      ]
    },
    {
      "cell_type": "code",
      "metadata": {
        "id": "uExdfjYTh3CU",
        "colab_type": "code",
        "outputId": "b09fd4a3-d9a9-4376-ce2f-971ff6a80e19",
        "colab": {
          "base_uri": "https://localhost:8080/",
          "height": 255
        }
      },
      "source": [
        "erk.var_historic(hfi, level=1)"
      ],
      "execution_count": 0,
      "outputs": [
        {
          "output_type": "execute_result",
          "data": {
            "text/plain": [
              "Convertible Arbitrage     0.031776\n",
              "CTA Global                0.049542\n",
              "Distressed Securities     0.046654\n",
              "Emerging Markets          0.088466\n",
              "Equity Market Neutral     0.018000\n",
              "Event Driven              0.048612\n",
              "Fixed Income Arbitrage    0.041672\n",
              "Global Macro              0.024316\n",
              "Long/Short Equity         0.049558\n",
              "Merger Arbitrage          0.025336\n",
              "Relative Value            0.026660\n",
              "Short Selling             0.113576\n",
              "Funds Of Funds            0.039664\n",
              "dtype: float64"
            ]
          },
          "metadata": {
            "tags": []
          },
          "execution_count": 22
        }
      ]
    },
    {
      "cell_type": "markdown",
      "metadata": {
        "id": "04acVAGth3CZ",
        "colab_type": "text"
      },
      "source": [
        "Note that for reporting purposes, it is common to invert the sign so we report a positive number to represent the _loss_ i.e. the amount that is at risk."
      ]
    },
    {
      "cell_type": "markdown",
      "metadata": {
        "id": "lsRkzAFth3Ca",
        "colab_type": "text"
      },
      "source": [
        "# Conditional VaR aka Beyond VaR\n",
        "\n",
        "Now that we have the VaR, the CVaR is very easy. All we need is to find the mean of the numbers that fell below the VaR!"
      ]
    },
    {
      "cell_type": "code",
      "metadata": {
        "id": "20ODn56Hh3Cb",
        "colab_type": "code",
        "outputId": "6dc9e16b-aac6-45f2-d687-16cc4a980a3f",
        "colab": {
          "base_uri": "https://localhost:8080/",
          "height": 255
        }
      },
      "source": [
        "erk.cvar_historic(hfi, level=1).sort_values()"
      ],
      "execution_count": 0,
      "outputs": [
        {
          "output_type": "execute_result",
          "data": {
            "text/plain": [
              "Global Macro              0.029333\n",
              "Equity Market Neutral     0.036100\n",
              "Merger Arbitrage          0.036233\n",
              "Relative Value            0.052367\n",
              "CTA Global                0.054767\n",
              "Funds Of Funds            0.061133\n",
              "Long/Short Equity         0.061867\n",
              "Distressed Securities     0.070967\n",
              "Event Driven              0.071267\n",
              "Fixed Income Arbitrage    0.072467\n",
              "Convertible Arbitrage     0.086100\n",
              "Short Selling             0.123867\n",
              "Emerging Markets          0.141167\n",
              "dtype: float64"
            ]
          },
          "metadata": {
            "tags": []
          },
          "execution_count": 23
        }
      ]
    },
    {
      "cell_type": "code",
      "metadata": {
        "id": "PWvW-Vgyh3Ch",
        "colab_type": "code",
        "outputId": "40e84efc-4893-456e-bf15-e8fbe099a1f7",
        "colab": {
          "base_uri": "https://localhost:8080/",
          "height": 68
        }
      },
      "source": [
        "erk.cvar_historic(ffme)"
      ],
      "execution_count": 0,
      "outputs": [
        {
          "output_type": "execute_result",
          "data": {
            "text/plain": [
              "SmallCap    0.162609\n",
              "LargeCap    0.121277\n",
              "dtype: float64"
            ]
          },
          "metadata": {
            "tags": []
          },
          "execution_count": 24
        }
      ]
    },
    {
      "cell_type": "markdown",
      "metadata": {
        "id": "ziJweG3Vh3Cm",
        "colab_type": "text"
      },
      "source": [
        "## Parametric Gaussian VaR\n",
        "\n",
        "The idea behind this is very simple. If a set of returns is normally distributed, we know, for instance, that 50% of the returns are below the mean and 50% are above.\n",
        "\n",
        "We also know that approx two thirds of the returns lie within 1 standard deviation. That means one third lie beyond one standard deviation from the mean. Since the normal distribution is symmetric, approximately one sixth (approx 16%) lie below one standard deviation away from the mean. Therefore, if we know the mean and standard deviation and if we assume that the returns are normally distributed, the 16% VaR would be the mean minus one standard deviation.\n",
        "\n",
        "In general we can always convert a percentile point to a z-score (which is the number of standard deviations away from the mean that a number is). Therefore, if we can convert the VaR level (such as 1% or 5%) to a z-score, we can calculate the return level where that percent of returns lie below it.\n",
        "\n",
        "`scipy.stat.norm` contains a function `ppf()` which does exactly that. It takes a percentile such as 0.05 or 0.01 and gives you the z-score corresponding to that in the normal distribution."
      ]
    },
    {
      "cell_type": "code",
      "metadata": {
        "id": "2ZPX1dhKh3Cn",
        "colab_type": "code",
        "outputId": "6dbddbfd-252d-47c8-bff5-a5821a90dfbd",
        "colab": {
          "base_uri": "https://localhost:8080/",
          "height": 34
        }
      },
      "source": [
        "from scipy.stats import norm\n",
        "norm.ppf(.5)"
      ],
      "execution_count": 0,
      "outputs": [
        {
          "output_type": "execute_result",
          "data": {
            "text/plain": [
              "0.0"
            ]
          },
          "metadata": {
            "tags": []
          },
          "execution_count": 25
        }
      ]
    },
    {
      "cell_type": "code",
      "metadata": {
        "id": "OPsXb2wWh3Cr",
        "colab_type": "code",
        "outputId": "7b9e7ce1-df2c-4ae4-a084-31e9aac14e48",
        "colab": {
          "base_uri": "https://localhost:8080/",
          "height": 34
        }
      },
      "source": [
        "norm.ppf(.16)"
      ],
      "execution_count": 0,
      "outputs": [
        {
          "output_type": "execute_result",
          "data": {
            "text/plain": [
              "-0.994457883209753"
            ]
          },
          "metadata": {
            "tags": []
          },
          "execution_count": 26
        }
      ]
    },
    {
      "cell_type": "markdown",
      "metadata": {
        "id": "7NyAocbNh3Cv",
        "colab_type": "text"
      },
      "source": [
        "Therefore, all we need to do to estimate the VaR using this method is to find the z-score corresponding to percentile level, and then add that many standard deviations to the mean, to obtain the VaR.\n",
        "\n",
        "```python\n",
        "from scipy.stats import norm\n",
        "def var_gaussian(r, level=5):\n",
        "    \"\"\"\n",
        "    Returns the Parametric Gauusian VaR of a Series or DataFrame\n",
        "    \"\"\"\n",
        "    # compute the Z score assuming it was Gaussian\n",
        "    z = norm.ppf(level/100)\n",
        "    return -(r.mean() + z*r.std(ddof=0))\n",
        "```"
      ]
    },
    {
      "cell_type": "code",
      "metadata": {
        "id": "uS-hNn7Zh3Cw",
        "colab_type": "code",
        "outputId": "66cdd2b4-e56b-4a8f-b6a6-b77fa2afe2ff",
        "colab": {
          "base_uri": "https://localhost:8080/",
          "height": 255
        }
      },
      "source": [
        "erk.var_gaussian(hfi)"
      ],
      "execution_count": 0,
      "outputs": [
        {
          "output_type": "execute_result",
          "data": {
            "text/plain": [
              "Convertible Arbitrage     0.021691\n",
              "CTA Global                0.034235\n",
              "Distressed Securities     0.021032\n",
              "Emerging Markets          0.047164\n",
              "Equity Market Neutral     0.008850\n",
              "Event Driven              0.021144\n",
              "Fixed Income Arbitrage    0.014579\n",
              "Global Macro              0.018766\n",
              "Long/Short Equity         0.026397\n",
              "Merger Arbitrage          0.010435\n",
              "Relative Value            0.013061\n",
              "Short Selling             0.080086\n",
              "Funds Of Funds            0.021292\n",
              "dtype: float64"
            ]
          },
          "metadata": {
            "tags": []
          },
          "execution_count": 27
        }
      ]
    },
    {
      "cell_type": "code",
      "metadata": {
        "id": "ubQ1v0m6h3C1",
        "colab_type": "code",
        "outputId": "e62dcd62-2807-49b2-abdb-b2725721ece4",
        "colab": {
          "base_uri": "https://localhost:8080/",
          "height": 255
        }
      },
      "source": [
        "erk.var_historic(hfi)"
      ],
      "execution_count": 0,
      "outputs": [
        {
          "output_type": "execute_result",
          "data": {
            "text/plain": [
              "Convertible Arbitrage     0.01576\n",
              "CTA Global                0.03169\n",
              "Distressed Securities     0.01966\n",
              "Emerging Markets          0.04247\n",
              "Equity Market Neutral     0.00814\n",
              "Event Driven              0.02535\n",
              "Fixed Income Arbitrage    0.00787\n",
              "Global Macro              0.01499\n",
              "Long/Short Equity         0.02598\n",
              "Merger Arbitrage          0.01047\n",
              "Relative Value            0.01174\n",
              "Short Selling             0.06783\n",
              "Funds Of Funds            0.02047\n",
              "dtype: float64"
            ]
          },
          "metadata": {
            "tags": []
          },
          "execution_count": 28
        }
      ]
    },
    {
      "cell_type": "markdown",
      "metadata": {
        "id": "oWItFnbrh3C5",
        "colab_type": "text"
      },
      "source": [
        "# Cornish-Fisher Modification\n",
        "\n",
        "The Cornish-Fisher modification is an elegant and simple adjustment.\n",
        "\n",
        "The z-score tells us how many standard deviations away from the mean we need to go to find the VaR. If the returns arent normal, we know that z-score will give us an inaccurate number. The basic idea is that since we can observe the skewness and kurtosis of the data, we can adjust the z-score up or down to come up with a modifed z-score. e.g. intuitively, all other things being equal, if the skewness is negative, we'll decrease the z-score further down, and if the skewness is positive, we'll push it up.\n",
        "\n",
        "The adjusted z-score which we'll call $z_{cornishfisher}$ given by:\n",
        "\n",
        "$$ z_{cornishfisher} = z +\\frac{1}{6}(z^2-1)S + \\frac{1}{24}(z^3-3z)(K-3)-\\frac{1}{36}(2z^3-5z)S^2 $$\n",
        "\n",
        "\n",
        "We can modify the previous function by adding a \"modified\" parameter with a default value of `True` as follows. If `True` then the following piece of code is executed, which modifes `z`:\n",
        "\n",
        "```python\n",
        "    if modified:\n",
        "        # modify the Z score based on observed skewness and kurtosis\n",
        "        s = skewness(r)\n",
        "        k = kurtosis(r)\n",
        "        z = (z +\n",
        "                (z**2 - 1)*s/6 +\n",
        "                (z**3 -3*z)*(k-3)/24 -\n",
        "                (2*z**3 - 5*z)*(s**2)/36\n",
        "            )\n",
        "```\n",
        "\n",
        "The rewritten function is:\n",
        "\n",
        "```python\n",
        "from scipy.stats import norm\n",
        "def var_gaussian(r, level=5, modified=False):\n",
        "    \"\"\"\n",
        "    Returns the Parametric Gauusian VaR of a Series or DataFrame\n",
        "    If \"modified\" is True, then the modified VaR is returned,\n",
        "    using the Cornish-Fisher modification\n",
        "    \"\"\"\n",
        "    # compute the Z score assuming it was Gaussian\n",
        "    z = norm.ppf(level/100)\n",
        "    if modified:\n",
        "        # modify the Z score based on observed skewness and kurtosis\n",
        "        s = skewness(r)\n",
        "        k = kurtosis(r)\n",
        "        z = (z +\n",
        "                (z**2 - 1)*s/6 +\n",
        "                (z**3 -3*z)*(k-3)/24 -\n",
        "                (2*z**3 - 5*z)*(s**2)/36\n",
        "            )\n",
        "        \n",
        "    return -(r.mean() + z*r.std(ddof=0))\n",
        "\n",
        "```\n",
        "\n",
        "We can now compare the different methods:"
      ]
    },
    {
      "cell_type": "code",
      "metadata": {
        "id": "yajD_WxWh3C6",
        "colab_type": "code",
        "outputId": "72cdbc2f-4d6b-4cd2-8d27-c2ddee2759db",
        "colab": {}
      },
      "source": [
        "var_table = [erk.var_gaussian(hfi), \n",
        "             erk.var_gaussian(hfi, modified=True), \n",
        "             erk.var_historic(hfi)]\n",
        "comparison = pd.concat(var_table, axis=1)\n",
        "comparison.columns=['Gaussian', 'Cornish-Fisher', 'Historic']\n",
        "comparison.plot.bar(title=\"Hedge Fund Indices: VaR at 5%\")"
      ],
      "execution_count": 0,
      "outputs": [
        {
          "output_type": "execute_result",
          "data": {
            "text/plain": [
              "<matplotlib.axes._subplots.AxesSubplot at 0x10db59ac8>"
            ]
          },
          "metadata": {
            "tags": []
          },
          "execution_count": 16
        },
        {
          "output_type": "display_data",
          "data": {
            "image/png": "[encoded data removed]",
            "text/plain": [
              "<Figure size 432x288 with 1 Axes>"
            ]
          },
          "metadata": {
            "tags": [],
            "needs_background": "light"
          }
        }
      ]
    },
    {
      "cell_type": "markdown",
      "metadata": {
        "id": "qnRnlme7h3C_",
        "colab_type": "text"
      },
      "source": [
        "Note that in some cases, the cornish-fisher VaR is lower i.e. estimates a smaller loss than you would get from a pure gaussian assumption. That can happen if the observed skewness is positive, as is the case for \"Short Selling\" and \"Global Macro\""
      ]
    },
    {
      "cell_type": "code",
      "metadata": {
        "id": "DXIVIRNkh3C_",
        "colab_type": "code",
        "outputId": "367bf328-9ca0-4ee9-89fb-bee3c7bfda15",
        "colab": {}
      },
      "source": [
        "erk.skewness(hfi).sort_values(ascending=False)"
      ],
      "execution_count": 0,
      "outputs": [
        {
          "output_type": "execute_result",
          "data": {
            "text/plain": [
              "Global Macro              0.982922\n",
              "Short Selling             0.767975\n",
              "CTA Global                0.173699\n",
              "Funds Of Funds           -0.361783\n",
              "Long/Short Equity        -0.390227\n",
              "Emerging Markets         -1.167067\n",
              "Distressed Securities    -1.300842\n",
              "Merger Arbitrage         -1.320083\n",
              "Event Driven             -1.409154\n",
              "Relative Value           -1.815470\n",
              "Equity Market Neutral    -2.124435\n",
              "Convertible Arbitrage    -2.639592\n",
              "Fixed Income Arbitrage   -3.940320\n",
              "dtype: float64"
            ]
          },
          "metadata": {
            "tags": []
          },
          "execution_count": 17
        }
      ]
    }
  ]
}